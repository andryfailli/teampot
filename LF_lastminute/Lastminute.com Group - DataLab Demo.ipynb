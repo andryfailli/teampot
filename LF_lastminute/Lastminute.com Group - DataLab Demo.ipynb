{
 "cells": [
  {
   "cell_type": "markdown",
   "metadata": {},
   "source": [
    "# Preminary operations\n",
    "\n",
    "Let us start by importing the relevant packages"
   ]
  },
  {
   "cell_type": "code",
   "execution_count": 57,
   "metadata": {
    "collapsed": true
   },
   "outputs": [],
   "source": [
    "import gcp.bigquery as bq\n",
    "import pandas as pd\n",
    "import matplotlib.pylab as plt\n",
    "import numpy as np\n",
    "import seaborn as sn"
   ]
  },
  {
   "cell_type": "markdown",
   "metadata": {},
   "source": [
    "## Let us explore the dataset"
   ]
  },
  {
   "cell_type": "code",
   "execution_count": 3,
   "metadata": {
    "collapsed": false
   },
   "outputs": [
    {
     "data": {
      "text/html": [
       "\n",
       "    <div class=\"bqtv\" id=\"1_146435731172\"><table><tr><th>project_id</th><th>dataset_id</th><th>table_id</th><th>creation_time</th><th>last_modified_time</th><th>row_count</th><th>size_bytes</th><th>type</th></tr><tr><td>google.com:ddm-connectors-demo</td><td>aw_dataset</td><td>ACCOUNT_PERFORMANCE_DEVICE</td><td>1462865492924</td><td>1462865646222</td><td>344872</td><td>213766803</td><td>1</td></tr><tr><td>google.com:ddm-connectors-demo</td><td>aw_dataset</td><td>ACCOUNT_PERFORMANCE_HOUR_OF_DAY</td><td>1462866241157</td><td>1462868328687</td><td>7585976</td><td>4293195830</td><td>1</td></tr><tr><td>google.com:ddm-connectors-demo</td><td>aw_dataset</td><td>CAMPAIGN_PERFORMANCE_DEVICE</td><td>1462882853869</td><td>1462884926720</td><td>12818403</td><td>11156943261</td><td>1</td></tr><tr><td>google.com:ddm-connectors-demo</td><td>aw_dataset</td><td>CAMPAIGN_PERFORMANCE_GA</td><td>1462886351515</td><td>1462888587490</td><td>12818403</td><td>11092304675</td><td>1</td></tr><tr><td>google.com:ddm-connectors-demo</td><td>aw_dataset</td><td>CAMPAIGN_PERFORMANCE_HOUR_OF_DAY</td><td>1462890199029</td><td>1462910444516</td><td>149020493</td><td>120843835228</td><td>1</td></tr><tr><td>google.com:ddm-connectors-demo</td><td>aw_dataset</td><td>KEYWORDS_PERFORMANCE_ANALYTICS</td><td>1462965362235</td><td>1463059120058</td><td>295426051</td><td>435427263267</td><td>1</td></tr><tr><td>google.com:ddm-connectors-demo</td><td>aw_dataset</td><td>KEYWORDS_PERFORMANCE_DEVICE</td><td>1463050362280</td><td>1463408383328</td><td>447387461</td><td>631380449113</td><td>1</td></tr></table></div>\n",
       "    <br />(rows: 7, time: 0.9s,     0B processed, job: job_8fHfSDJ0k3dd8mSQaQAs80fE238)<br />\n",
       "    <script>\n",
       "      require(['extensions/charting', 'element!1_146435731172', 'style!/static/extensions/charting.css'],\n",
       "        function(charts, dom) {\n",
       "          charts.render(dom,\n",
       "            {\n",
       "              chartStyle:\"table\",\n",
       "              dataName:\"0\",\n",
       "              fields:\"project_id,dataset_id,table_id,creation_time,last_modified_time,row_count,size_bytes,type\",\n",
       "              totalRows:7,\n",
       "              rowsPerPage:25,\n",
       "            }, {}, {\"rows\": [{\"c\": [{\"v\": \"google.com:ddm-connectors-demo\"}, {\"v\": \"aw_dataset\"}, {\"v\": \"ACCOUNT_PERFORMANCE_DEVICE\"}, {\"v\": 1462865492924}, {\"v\": 1462865646222}, {\"v\": 344872}, {\"v\": 213766803}, {\"v\": 1}]}, {\"c\": [{\"v\": \"google.com:ddm-connectors-demo\"}, {\"v\": \"aw_dataset\"}, {\"v\": \"ACCOUNT_PERFORMANCE_HOUR_OF_DAY\"}, {\"v\": 1462866241157}, {\"v\": 1462868328687}, {\"v\": 7585976}, {\"v\": 4293195830}, {\"v\": 1}]}, {\"c\": [{\"v\": \"google.com:ddm-connectors-demo\"}, {\"v\": \"aw_dataset\"}, {\"v\": \"CAMPAIGN_PERFORMANCE_DEVICE\"}, {\"v\": 1462882853869}, {\"v\": 1462884926720}, {\"v\": 12818403}, {\"v\": 11156943261}, {\"v\": 1}]}, {\"c\": [{\"v\": \"google.com:ddm-connectors-demo\"}, {\"v\": \"aw_dataset\"}, {\"v\": \"CAMPAIGN_PERFORMANCE_GA\"}, {\"v\": 1462886351515}, {\"v\": 1462888587490}, {\"v\": 12818403}, {\"v\": 11092304675}, {\"v\": 1}]}, {\"c\": [{\"v\": \"google.com:ddm-connectors-demo\"}, {\"v\": \"aw_dataset\"}, {\"v\": \"CAMPAIGN_PERFORMANCE_HOUR_OF_DAY\"}, {\"v\": 1462890199029}, {\"v\": 1462910444516}, {\"v\": 149020493}, {\"v\": 120843835228}, {\"v\": 1}]}, {\"c\": [{\"v\": \"google.com:ddm-connectors-demo\"}, {\"v\": \"aw_dataset\"}, {\"v\": \"KEYWORDS_PERFORMANCE_ANALYTICS\"}, {\"v\": 1462965362235}, {\"v\": 1463059120058}, {\"v\": 295426051}, {\"v\": 435427263267}, {\"v\": 1}]}, {\"c\": [{\"v\": \"google.com:ddm-connectors-demo\"}, {\"v\": \"aw_dataset\"}, {\"v\": \"KEYWORDS_PERFORMANCE_DEVICE\"}, {\"v\": 1463050362280}, {\"v\": 1463408383328}, {\"v\": 447387461}, {\"v\": 631380449113}, {\"v\": 1}]}], \"cols\": [{\"type\": \"string\", \"id\": \"project_id\", \"label\": \"project_id\"}, {\"type\": \"string\", \"id\": \"dataset_id\", \"label\": \"dataset_id\"}, {\"type\": \"string\", \"id\": \"table_id\", \"label\": \"table_id\"}, {\"type\": \"number\", \"id\": \"creation_time\", \"label\": \"creation_time\"}, {\"type\": \"number\", \"id\": \"last_modified_time\", \"label\": \"last_modified_time\"}, {\"type\": \"number\", \"id\": \"row_count\", \"label\": \"row_count\"}, {\"type\": \"number\", \"id\": \"size_bytes\", \"label\": \"size_bytes\"}, {\"type\": \"number\", \"id\": \"type\", \"label\": \"type\"}]});\n",
       "        }\n",
       "      );\n",
       "    </script>\n",
       "  "
      ],
      "text/plain": [
       "QueryResultsTable job_8fHfSDJ0k3dd8mSQaQAs80fE238"
      ]
     },
     "execution_count": 3,
     "metadata": {},
     "output_type": "execute_result"
    }
   ],
   "source": [
    "%%sql \n",
    "SELECT * FROM [google.com:ddm-connectors-demo:aw_dataset.__TABLES__];"
   ]
  },
  {
   "cell_type": "markdown",
   "metadata": {},
   "source": [
    "## Lest us explore the table KEYWORDS_PERFORMANCE_ANALYTICS"
   ]
  },
  {
   "cell_type": "code",
   "execution_count": 8,
   "metadata": {
    "collapsed": false
   },
   "outputs": [
    {
     "data": {
      "text/html": [
       "\n",
       "    <div class=\"bqsv\" id=\"2_146435759815\"></div>\n",
       "    <script>\n",
       "      require(['extensions/bigquery', 'element!2_146435759815', 'style!/static/extensions/bigquery.css'],\n",
       "        function(bq, dom) {\n",
       "          bq.renderSchema(dom, [{\"type\": \"STRING\", \"name\": \"AccountCurrencyCode\"}, {\"type\": \"STRING\", \"name\": \"AccountDescriptiveName\"}, {\"type\": \"STRING\", \"name\": \"AccountTimeZoneId\"}, {\"type\": \"INTEGER\", \"name\": \"ActiveViewCpm\"}, {\"type\": \"STRING\", \"name\": \"ActiveViewCtr\"}, {\"type\": \"INTEGER\", \"name\": \"ActiveViewImpressions\"}, {\"type\": \"STRING\", \"name\": \"ActiveViewMeasurability\"}, {\"type\": \"INTEGER\", \"name\": \"ActiveViewMeasurableCost\"}, {\"type\": \"INTEGER\", \"name\": \"ActiveViewMeasurableImpressions\"}, {\"type\": \"STRING\", \"name\": \"ActiveViewViewability\"}, {\"type\": \"INTEGER\", \"name\": \"AdGroupId\"}, {\"type\": \"STRING\", \"name\": \"AdGroupName\"}, {\"type\": \"STRING\", \"name\": \"AdGroupStatus\"}, {\"type\": \"STRING\", \"name\": \"AdNetworkType1\"}, {\"type\": \"STRING\", \"name\": \"AdNetworkType2\"}, {\"type\": \"STRING\", \"name\": \"AllConversionRate\"}, {\"type\": \"FLOAT\", \"name\": \"AllConversions\"}, {\"type\": \"FLOAT\", \"name\": \"AllConversionValue\"}, {\"type\": \"STRING\", \"name\": \"ApprovalStatus\"}, {\"type\": \"INTEGER\", \"name\": \"AverageCost\"}, {\"type\": \"INTEGER\", \"name\": \"AverageCpc\"}, {\"type\": \"INTEGER\", \"name\": \"AverageCpe\"}, {\"type\": \"INTEGER\", \"name\": \"AverageCpm\"}, {\"type\": \"INTEGER\", \"name\": \"AverageCpv\"}, {\"type\": \"FLOAT\", \"name\": \"AveragePageviews\"}, {\"type\": \"FLOAT\", \"name\": \"AveragePosition\"}, {\"type\": \"INTEGER\", \"name\": \"AverageTimeOnSite\"}, {\"type\": \"INTEGER\", \"name\": \"BaseAdGroupId\"}, {\"type\": \"INTEGER\", \"name\": \"BaseCampaignId\"}, {\"type\": \"INTEGER\", \"name\": \"BiddingStrategyId\"}, {\"type\": \"STRING\", \"name\": \"BiddingStrategyName\"}, {\"type\": \"STRING\", \"name\": \"BiddingStrategySource\"}, {\"type\": \"STRING\", \"name\": \"BiddingStrategyType\"}, {\"type\": \"STRING\", \"name\": \"BidType\"}, {\"type\": \"STRING\", \"name\": \"BounceRate\"}, {\"type\": \"INTEGER\", \"name\": \"CampaignId\"}, {\"type\": \"STRING\", \"name\": \"CampaignName\"}, {\"type\": \"STRING\", \"name\": \"CampaignStatus\"}, {\"type\": \"FLOAT\", \"name\": \"ClickAssistedConversionsOverLastClickConversions\"}, {\"type\": \"FLOAT\", \"name\": \"ClickAssistedConversionValue\"}, {\"type\": \"STRING\", \"name\": \"ClickConversionRate\"}, {\"type\": \"INTEGER\", \"name\": \"Clicks\"}, {\"type\": \"STRING\", \"name\": \"ConversionRate\"}, {\"type\": \"FLOAT\", \"name\": \"Conversions\"}, {\"type\": \"FLOAT\", \"name\": \"ConversionValue\"}, {\"type\": \"INTEGER\", \"name\": \"ConvertedClicks\"}, {\"type\": \"INTEGER\", \"name\": \"Cost\"}, {\"type\": \"INTEGER\", \"name\": \"CostPerAllConversion\"}, {\"type\": \"INTEGER\", \"name\": \"CostPerConversion\"}, {\"type\": \"INTEGER\", \"name\": \"CostPerConvertedClick\"}, {\"type\": \"STRING\", \"name\": \"CpcBid\"}, {\"type\": \"STRING\", \"name\": \"CpcBidSource\"}, {\"type\": \"STRING\", \"name\": \"CpmBid\"}, {\"type\": \"STRING\", \"name\": \"CreativeQualityScore\"}, {\"type\": \"STRING\", \"name\": \"Criteria\"}, {\"type\": \"STRING\", \"name\": \"CriteriaDestinationUrl\"}, {\"type\": \"FLOAT\", \"name\": \"CrossDeviceConversions\"}, {\"type\": \"STRING\", \"name\": \"Ctr\"}, {\"type\": \"STRING\", \"name\": \"CustomerDescriptiveName\"}, {\"type\": \"STRING\", \"name\": \"Date\"}, {\"type\": \"STRING\", \"name\": \"DayOfWeek\"}, {\"type\": \"STRING\", \"name\": \"EngagementRate\"}, {\"type\": \"INTEGER\", \"name\": \"Engagements\"}, {\"type\": \"BOOLEAN\", \"name\": \"EnhancedCpcEnabled\"}, {\"type\": \"STRING\", \"name\": \"EstimatedAddClicksAtFirstPositionCpc\"}, {\"type\": \"STRING\", \"name\": \"EstimatedAddCostAtFirstPositionCpc\"}, {\"type\": \"INTEGER\", \"name\": \"ExternalCustomerId\"}, {\"type\": \"STRING\", \"name\": \"FinalAppUrls\"}, {\"type\": \"STRING\", \"name\": \"FinalMobileUrls\"}, {\"type\": \"STRING\", \"name\": \"FinalUrls\"}, {\"type\": \"INTEGER\", \"name\": \"FirstPageCpc\"}, {\"type\": \"INTEGER\", \"name\": \"FirstPositionCpc\"}, {\"type\": \"INTEGER\", \"name\": \"GmailForwards\"}, {\"type\": \"INTEGER\", \"name\": \"GmailSaves\"}, {\"type\": \"INTEGER\", \"name\": \"GmailSecondaryClicks\"}, {\"type\": \"INTEGER\", \"name\": \"Id\"}, {\"type\": \"INTEGER\", \"name\": \"ImpressionAssistedConversions\"}, {\"type\": \"FLOAT\", \"name\": \"ImpressionAssistedConversionsOverLastClickConversions\"}, {\"type\": \"FLOAT\", \"name\": \"ImpressionAssistedConversionValue\"}, {\"type\": \"INTEGER\", \"name\": \"Impressions\"}, {\"type\": \"STRING\", \"name\": \"InteractionRate\"}, {\"type\": \"INTEGER\", \"name\": \"Interactions\"}, {\"type\": \"BOOLEAN\", \"name\": \"IsNegative\"}, {\"type\": \"STRING\", \"name\": \"KeywordMatchType\"}, {\"type\": \"STRING\", \"name\": \"LabelIds\"}, {\"type\": \"STRING\", \"name\": \"Labels\"}, {\"type\": \"STRING\", \"name\": \"Month\"}, {\"type\": \"STRING\", \"name\": \"MonthOfYear\"}, {\"type\": \"STRING\", \"name\": \"PercentNewVisitors\"}, {\"type\": \"STRING\", \"name\": \"PostClickQualityScore\"}, {\"type\": \"STRING\", \"name\": \"PrimaryCompanyName\"}, {\"type\": \"INTEGER\", \"name\": \"QualityScore\"}, {\"type\": \"STRING\", \"name\": \"Quarter\"}, {\"type\": \"STRING\", \"name\": \"SearchExactMatchImpressionShare\"}, {\"type\": \"STRING\", \"name\": \"SearchImpressionShare\"}, {\"type\": \"STRING\", \"name\": \"SearchPredictedCtr\"}, {\"type\": \"STRING\", \"name\": \"SearchRankLostImpressionShare\"}, {\"type\": \"STRING\", \"name\": \"Status\"}, {\"type\": \"STRING\", \"name\": \"SystemServingStatus\"}, {\"type\": \"INTEGER\", \"name\": \"TopOfPageCpc\"}, {\"type\": \"STRING\", \"name\": \"TrackingUrlTemplate\"}, {\"type\": \"STRING\", \"name\": \"UrlCustomParameters\"}, {\"type\": \"FLOAT\", \"name\": \"ValuePerAllConversion\"}, {\"type\": \"FLOAT\", \"name\": \"ValuePerConversion\"}, {\"type\": \"FLOAT\", \"name\": \"ValuePerConvertedClick\"}, {\"type\": \"STRING\", \"name\": \"VideoQuartile100Rate\"}, {\"type\": \"STRING\", \"name\": \"VideoQuartile25Rate\"}, {\"type\": \"STRING\", \"name\": \"VideoQuartile50Rate\"}, {\"type\": \"STRING\", \"name\": \"VideoQuartile75Rate\"}, {\"type\": \"STRING\", \"name\": \"VideoViewRate\"}, {\"type\": \"INTEGER\", \"name\": \"VideoViews\"}, {\"type\": \"INTEGER\", \"name\": \"ViewThroughConversions\"}, {\"type\": \"STRING\", \"name\": \"Week\"}, {\"type\": \"INTEGER\", \"name\": \"Year\"}]);\n",
       "        }\n",
       "      );\n",
       "    </script>\n",
       "    "
      ],
      "text/plain": [
       "<IPython.core.display.HTML object>"
      ]
     },
     "execution_count": 8,
     "metadata": {},
     "output_type": "execute_result"
    }
   ],
   "source": [
    "%bigquery schema --table google.com:ddm-connectors-demo:aw_dataset.KEYWORDS_PERFORMANCE_ANALYTICS"
   ]
  },
  {
   "cell_type": "markdown",
   "metadata": {},
   "source": [
    "## Let us see how the data look like"
   ]
  },
  {
   "cell_type": "code",
   "execution_count": 9,
   "metadata": {
    "collapsed": false
   },
   "outputs": [
    {
     "data": {
      "text/html": [
       "\n",
       "    <div class=\"bqtv\" id=\"3_146435827244\"><table><tr><th>AccountCurrencyCode</th><th>AccountDescriptiveName</th><th>AccountTimeZoneId</th><th>ActiveViewCpm</th><th>ActiveViewCtr</th><th>ActiveViewImpressions</th><th>ActiveViewMeasurability</th><th>ActiveViewMeasurableCost</th><th>ActiveViewMeasurableImpressions</th><th>ActiveViewViewability</th><th>AdGroupId</th><th>AdGroupName</th><th>AdGroupStatus</th><th>AdNetworkType1</th><th>AdNetworkType2</th><th>AllConversionRate</th><th>AllConversions</th><th>AllConversionValue</th><th>ApprovalStatus</th><th>AverageCost</th><th>AverageCpc</th><th>AverageCpe</th><th>AverageCpm</th><th>AverageCpv</th><th>AveragePageviews</th><th>AveragePosition</th><th>AverageTimeOnSite</th><th>BaseAdGroupId</th><th>BaseCampaignId</th><th>BiddingStrategyId</th><th>BiddingStrategyName</th><th>BiddingStrategySource</th><th>BiddingStrategyType</th><th>BidType</th><th>BounceRate</th><th>CampaignId</th><th>CampaignName</th><th>CampaignStatus</th><th>ClickAssistedConversionsOverLastClickConversions</th><th>ClickAssistedConversionValue</th><th>ClickConversionRate</th><th>Clicks</th><th>ConversionRate</th><th>Conversions</th><th>ConversionValue</th><th>ConvertedClicks</th><th>Cost</th><th>CostPerAllConversion</th><th>CostPerConversion</th><th>CostPerConvertedClick</th><th>CpcBid</th><th>CpcBidSource</th><th>CpmBid</th><th>CreativeQualityScore</th><th>Criteria</th><th>CriteriaDestinationUrl</th><th>CrossDeviceConversions</th><th>Ctr</th><th>CustomerDescriptiveName</th><th>Date</th><th>DayOfWeek</th><th>EngagementRate</th><th>Engagements</th><th>EnhancedCpcEnabled</th><th>EstimatedAddClicksAtFirstPositionCpc</th><th>EstimatedAddCostAtFirstPositionCpc</th><th>ExternalCustomerId</th><th>FinalAppUrls</th><th>FinalMobileUrls</th><th>FinalUrls</th><th>FirstPageCpc</th><th>FirstPositionCpc</th><th>GmailForwards</th><th>GmailSaves</th><th>GmailSecondaryClicks</th><th>Id</th><th>ImpressionAssistedConversions</th><th>ImpressionAssistedConversionsOverLastClickConversions</th><th>ImpressionAssistedConversionValue</th><th>Impressions</th><th>InteractionRate</th><th>Interactions</th><th>IsNegative</th><th>KeywordMatchType</th><th>LabelIds</th><th>Labels</th><th>Month</th><th>MonthOfYear</th><th>PercentNewVisitors</th><th>PostClickQualityScore</th><th>PrimaryCompanyName</th><th>QualityScore</th><th>Quarter</th><th>SearchExactMatchImpressionShare</th><th>SearchImpressionShare</th><th>SearchPredictedCtr</th><th>SearchRankLostImpressionShare</th><th>Status</th><th>SystemServingStatus</th><th>TopOfPageCpc</th><th>TrackingUrlTemplate</th><th>UrlCustomParameters</th><th>ValuePerAllConversion</th><th>ValuePerConversion</th><th>ValuePerConvertedClick</th><th>VideoQuartile100Rate</th><th>VideoQuartile25Rate</th><th>VideoQuartile50Rate</th><th>VideoQuartile75Rate</th><th>VideoViewRate</th><th>VideoViews</th><th>ViewThroughConversions</th><th>Week</th><th>Year</th></tr><tr><td>EUR</td><td>Bravofly Russia Voli</td><td>(GMT+01:00) Rome</td><td>0</td><td>0.00%</td><td>0</td><td>0.00%</td><td>0</td><td>0</td><td>0.00%</td><td>10139184698</td><td>Volagratis</td><td>enabled</td><td>Search Network</td><td>Google search</td><td>0.00%</td><td>0.0</td><td>0.0</td><td> --</td><td>0</td><td>0</td><td>0</td><td>0</td><td>0</td><td>0.0</td><td>2.7</td><td>0</td><td>10139184698</td><td>108030218</td><td>0</td><td> --</td><td>campaign</td><td>cpc</td><td> --</td><td>0.00%</td><td>108030218</td><td>Brand_RU_Broad</td><td>enabled</td><td>0.0</td><td>0.0</td><td>0.00%</td><td>0</td><td>0.00%</td><td>0.0</td><td>0.0</td><td>0</td><td>0</td><td>0</td><td>0</td><td>0</td><td> --</td><td> --</td><td> --</td><td>Not applicable</td><td>vola gratis</td><td> --</td><td>0.0</td><td>0.00%</td><td>Bravofly Russia Voli</td><td>2015-07-11</td><td>Saturday</td><td>0.00%</td><td>0</td><td>False</td><td> --</td><td> --</td><td>9837210897</td><td> --</td><td> --</td><td> --</td><td>0</td><td>0</td><td>0</td><td>0</td><td>0</td><td>297004287</td><td>0</td><td>0.0</td><td>0.0</td><td>3</td><td>0.00%</td><td>0</td><td>False</td><td>Broad</td><td> --</td><td> --</td><td>2015-07-01</td><td>July</td><td>0.00%</td><td>Not applicable</td><td>Red Universal de Marketing y Bookings On Line, S.A.</td><td>0</td><td>2015-07-01</td><td> --</td><td>75.00%</td><td>Not applicable</td><td>25.00%</td><td>removed</td><td> --</td><td>0</td><td> --</td><td> --</td><td>0.0</td><td>0.0</td><td>0.0</td><td>0.00%</td><td>0.00%</td><td>0.00%</td><td>0.00%</td><td>0.00%</td><td>0</td><td>0</td><td>2015-07-06</td><td>2015</td></tr><tr><td>EUR</td><td>Bravofly Russia Voli</td><td>(GMT+01:00) Rome</td><td>0</td><td>0.00%</td><td>0</td><td>0.00%</td><td>0</td><td>0</td><td>0.00%</td><td>3639849698</td><td>Bravoavia</td><td>enabled</td><td>Search Network</td><td>Google search</td><td>0.00%</td><td>0.0</td><td>0.0</td><td> --</td><td>0</td><td>0</td><td>0</td><td>0</td><td>0</td><td>0.0</td><td>1.0</td><td>0</td><td>3639849698</td><td>108030218</td><td>0</td><td> --</td><td>campaign</td><td>cpc</td><td> --</td><td>0.00%</td><td>108030218</td><td>Brand_RU_Broad</td><td>enabled</td><td>0.0</td><td>0.0</td><td>0.00%</td><td>0</td><td>0.00%</td><td>0.0</td><td>0.0</td><td>0</td><td>0</td><td>0</td><td>0</td><td>0</td><td> --</td><td> --</td><td> --</td><td>Not applicable</td><td>bravoavia ru</td><td> --</td><td>0.0</td><td>0.00%</td><td>Bravofly Russia Voli</td><td>2015-02-10</td><td>Tuesday</td><td>0.00%</td><td>0</td><td>False</td><td> --</td><td> --</td><td>9837210897</td><td> --</td><td> --</td><td> --</td><td>0</td><td>0</td><td>0</td><td>0</td><td>0</td><td>29069313846</td><td>0</td><td>0.0</td><td>0.0</td><td>1</td><td>0.00%</td><td>0</td><td>False</td><td>Broad</td><td> --</td><td> --</td><td>2015-02-01</td><td>February</td><td>0.00%</td><td>Not applicable</td><td>Red Universal de Marketing y Bookings On Line, S.A.</td><td>0</td><td>2015-01-01</td><td> --</td><td>100.00%</td><td>Not applicable</td><td>0.00%</td><td>removed</td><td> --</td><td>0</td><td> --</td><td> --</td><td>0.0</td><td>0.0</td><td>0.0</td><td>0.00%</td><td>0.00%</td><td>0.00%</td><td>0.00%</td><td>0.00%</td><td>0</td><td>0</td><td>2015-02-09</td><td>2015</td></tr><tr><td>EUR</td><td>Bravofly Russia Voli</td><td>(GMT+01:00) Rome</td><td>0</td><td>0.00%</td><td>0</td><td>0.00%</td><td>0</td><td>0</td><td>0.00%</td><td>3639849698</td><td>Bravoavia</td><td>enabled</td><td>Search Network</td><td>Google search</td><td>0.00%</td><td>0.0</td><td>0.0</td><td> --</td><td>0</td><td>0</td><td>0</td><td>0</td><td>0</td><td>5.0</td><td>0.0</td><td>158</td><td>3639849698</td><td>108030218</td><td>0</td><td> --</td><td>campaign</td><td>cpc</td><td> --</td><td>0.00%</td><td>108030218</td><td>Brand_RU_Broad</td><td>enabled</td><td>0.0</td><td>0.0</td><td>0.00%</td><td>0</td><td>0.00%</td><td>0.0</td><td>0.0</td><td>0</td><td>0</td><td>0</td><td>0</td><td>0</td><td> --</td><td> --</td><td> --</td><td>Not applicable</td><td>bravo avia</td><td> --</td><td>0.0</td><td>0.00%</td><td>Bravofly Russia Voli</td><td>2015-09-28</td><td>Monday</td><td>0.00%</td><td>0</td><td>False</td><td> --</td><td> --</td><td>9837210897</td><td> --</td><td> --</td><td> --</td><td>0</td><td>0</td><td>0</td><td>0</td><td>0</td><td>36970545128</td><td>0</td><td>0.0</td><td>0.0</td><td>0</td><td>0.00%</td><td>0</td><td>False</td><td>Broad</td><td> --</td><td> --</td><td>2015-09-01</td><td>September</td><td>0.00%</td><td>Not applicable</td><td>Red Universal de Marketing y Bookings On Line, S.A.</td><td>0</td><td>2015-07-01</td><td> --</td><td> --</td><td>Not applicable</td><td> --</td><td>removed</td><td> --</td><td>0</td><td> --</td><td> --</td><td>0.0</td><td>0.0</td><td>0.0</td><td>0.00%</td><td>0.00%</td><td>0.00%</td><td>0.00%</td><td>0.00%</td><td>0</td><td>0</td><td>2015-09-28</td><td>2015</td></tr><tr><td>EUR</td><td>Bravofly Russia Voli</td><td>(GMT+01:00) Rome</td><td>0</td><td>0.00%</td><td>0</td><td>0.00%</td><td>0</td><td>0</td><td>0.00%</td><td>10139184698</td><td>Volagratis</td><td>enabled</td><td>Search Network</td><td>Google search</td><td>0.00%</td><td>0.0</td><td>0.0</td><td> --</td><td>0</td><td>0</td><td>0</td><td>0</td><td>0</td><td>0.0</td><td>2.0</td><td>0</td><td>10139184698</td><td>108030218</td><td>0</td><td> --</td><td>campaign</td><td>cpc</td><td> --</td><td>0.00%</td><td>108030218</td><td>Brand_RU_Broad</td><td>enabled</td><td>0.0</td><td>0.0</td><td>0.00%</td><td>0</td><td>0.00%</td><td>0.0</td><td>0.0</td><td>0</td><td>0</td><td>0</td><td>0</td><td>0</td><td> --</td><td> --</td><td> --</td><td>Not applicable</td><td>vola gratis</td><td> --</td><td>0.0</td><td>0.00%</td><td>Bravofly Russia Voli</td><td>2015-05-11</td><td>Monday</td><td>0.00%</td><td>0</td><td>False</td><td> --</td><td> --</td><td>9837210897</td><td> --</td><td> --</td><td> --</td><td>0</td><td>0</td><td>0</td><td>0</td><td>0</td><td>297004287</td><td>0</td><td>0.0</td><td>0.0</td><td>1</td><td>0.00%</td><td>0</td><td>False</td><td>Broad</td><td> --</td><td> --</td><td>2015-05-01</td><td>May</td><td>0.00%</td><td>Not applicable</td><td>Red Universal de Marketing y Bookings On Line, S.A.</td><td>0</td><td>2015-04-01</td><td> --</td><td>33.33%</td><td>Not applicable</td><td>66.67%</td><td>removed</td><td> --</td><td>0</td><td> --</td><td> --</td><td>0.0</td><td>0.0</td><td>0.0</td><td>0.00%</td><td>0.00%</td><td>0.00%</td><td>0.00%</td><td>0.00%</td><td>0</td><td>0</td><td>2015-05-11</td><td>2015</td></tr><tr><td>EUR</td><td>Bravofly Russia Voli</td><td>(GMT+01:00) Rome</td><td>0</td><td>0.00%</td><td>0</td><td>0.00%</td><td>0</td><td>0</td><td>0.00%</td><td>3639849698</td><td>Bravoavia</td><td>enabled</td><td>Search Network</td><td>Google search</td><td>0.00%</td><td>0.0</td><td>0.0</td><td> --</td><td>0</td><td>0</td><td>0</td><td>0</td><td>0</td><td>0.0</td><td>0.0</td><td>0</td><td>3639849698</td><td>108030218</td><td>0</td><td> --</td><td>campaign</td><td>cpc</td><td> --</td><td>0.00%</td><td>108030218</td><td>Brand_RU_Broad</td><td>enabled</td><td>0.0</td><td>0.0</td><td>0.00%</td><td>0</td><td>0.00%</td><td>0.0</td><td>0.0</td><td>0</td><td>0</td><td>0</td><td>0</td><td>0</td><td> --</td><td> --</td><td> --</td><td>Not applicable</td><td>бравоавиа киев</td><td> --</td><td>0.0</td><td>0.00%</td><td>Bravofly Russia Voli</td><td>2015-03-29</td><td>Sunday</td><td>0.00%</td><td>0</td><td>False</td><td> --</td><td> --</td><td>9837210897</td><td> --</td><td> --</td><td> --</td><td>0</td><td>0</td><td>0</td><td>0</td><td>0</td><td>69203661328</td><td>0</td><td>0.0</td><td>0.0</td><td>0</td><td>0.00%</td><td>0</td><td>False</td><td>Broad</td><td> --</td><td> --</td><td>2015-03-01</td><td>March</td><td>0.00%</td><td>Not applicable</td><td>Red Universal de Marketing y Bookings On Line, S.A.</td><td>0</td><td>2015-01-01</td><td> --</td><td>&lt; 10%</td><td>Not applicable</td><td>&gt; 90%</td><td>removed</td><td> --</td><td>0</td><td> --</td><td> --</td><td>0.0</td><td>0.0</td><td>0.0</td><td>0.00%</td><td>0.00%</td><td>0.00%</td><td>0.00%</td><td>0.00%</td><td>0</td><td>0</td><td>2015-03-23</td><td>2015</td></tr></table></div>\n",
       "    <br />(rows: 5, time: 2.8s,   435GB processed, job: job_C8xNRE9th5luvK6VmMDToh8kXFo)<br />\n",
       "    <script>\n",
       "      require(['extensions/charting', 'element!3_146435827244', 'style!/static/extensions/charting.css'],\n",
       "        function(charts, dom) {\n",
       "          charts.render(dom,\n",
       "            {\n",
       "              chartStyle:\"table\",\n",
       "              dataName:\"1\",\n",
       "              fields:\"AccountCurrencyCode,AccountDescriptiveName,AccountTimeZoneId,ActiveViewCpm,ActiveViewCtr,ActiveViewImpressions,ActiveViewMeasurability,ActiveViewMeasurableCost,ActiveViewMeasurableImpressions,ActiveViewViewability,AdGroupId,AdGroupName,AdGroupStatus,AdNetworkType1,AdNetworkType2,AllConversionRate,AllConversions,AllConversionValue,ApprovalStatus,AverageCost,AverageCpc,AverageCpe,AverageCpm,AverageCpv,AveragePageviews,AveragePosition,AverageTimeOnSite,BaseAdGroupId,BaseCampaignId,BiddingStrategyId,BiddingStrategyName,BiddingStrategySource,BiddingStrategyType,BidType,BounceRate,CampaignId,CampaignName,CampaignStatus,ClickAssistedConversionsOverLastClickConversions,ClickAssistedConversionValue,ClickConversionRate,Clicks,ConversionRate,Conversions,ConversionValue,ConvertedClicks,Cost,CostPerAllConversion,CostPerConversion,CostPerConvertedClick,CpcBid,CpcBidSource,CpmBid,CreativeQualityScore,Criteria,CriteriaDestinationUrl,CrossDeviceConversions,Ctr,CustomerDescriptiveName,Date,DayOfWeek,EngagementRate,Engagements,EnhancedCpcEnabled,EstimatedAddClicksAtFirstPositionCpc,EstimatedAddCostAtFirstPositionCpc,ExternalCustomerId,FinalAppUrls,FinalMobileUrls,FinalUrls,FirstPageCpc,FirstPositionCpc,GmailForwards,GmailSaves,GmailSecondaryClicks,Id,ImpressionAssistedConversions,ImpressionAssistedConversionsOverLastClickConversions,ImpressionAssistedConversionValue,Impressions,InteractionRate,Interactions,IsNegative,KeywordMatchType,LabelIds,Labels,Month,MonthOfYear,PercentNewVisitors,PostClickQualityScore,PrimaryCompanyName,QualityScore,Quarter,SearchExactMatchImpressionShare,SearchImpressionShare,SearchPredictedCtr,SearchRankLostImpressionShare,Status,SystemServingStatus,TopOfPageCpc,TrackingUrlTemplate,UrlCustomParameters,ValuePerAllConversion,ValuePerConversion,ValuePerConvertedClick,VideoQuartile100Rate,VideoQuartile25Rate,VideoQuartile50Rate,VideoQuartile75Rate,VideoViewRate,VideoViews,ViewThroughConversions,Week,Year\",\n",
       "              totalRows:5,\n",
       "              rowsPerPage:25,\n",
       "            }, {}, {\"rows\": [{\"c\": [{\"v\": \"EUR\"}, {\"v\": \"Bravofly Russia Voli\"}, {\"v\": \"(GMT+01:00) Rome\"}, {\"v\": 0}, {\"v\": \"0.00%\"}, {\"v\": 0}, {\"v\": \"0.00%\"}, {\"v\": 0}, {\"v\": 0}, {\"v\": \"0.00%\"}, {\"v\": 10139184698}, {\"v\": \"Volagratis\"}, {\"v\": \"enabled\"}, {\"v\": \"Search Network\"}, {\"v\": \"Google search\"}, {\"v\": \"0.00%\"}, {\"v\": 0.0}, {\"v\": 0.0}, {\"v\": \" --\"}, {\"v\": 0}, {\"v\": 0}, {\"v\": 0}, {\"v\": 0}, {\"v\": 0}, {\"v\": 0.0}, {\"v\": 2.7}, {\"v\": 0}, {\"v\": 10139184698}, {\"v\": 108030218}, {\"v\": 0}, {\"v\": \" --\"}, {\"v\": \"campaign\"}, {\"v\": \"cpc\"}, {\"v\": \" --\"}, {\"v\": \"0.00%\"}, {\"v\": 108030218}, {\"v\": \"Brand_RU_Broad\"}, {\"v\": \"enabled\"}, {\"v\": 0.0}, {\"v\": 0.0}, {\"v\": \"0.00%\"}, {\"v\": 0}, {\"v\": \"0.00%\"}, {\"v\": 0.0}, {\"v\": 0.0}, {\"v\": 0}, {\"v\": 0}, {\"v\": 0}, {\"v\": 0}, {\"v\": 0}, {\"v\": \" --\"}, {\"v\": \" --\"}, {\"v\": \" --\"}, {\"v\": \"Not applicable\"}, {\"v\": \"vola gratis\"}, {\"v\": \" --\"}, {\"v\": 0.0}, {\"v\": \"0.00%\"}, {\"v\": \"Bravofly Russia Voli\"}, {\"v\": \"2015-07-11\"}, {\"v\": \"Saturday\"}, {\"v\": \"0.00%\"}, {\"v\": 0}, {\"v\": false}, {\"v\": \" --\"}, {\"v\": \" --\"}, {\"v\": 9837210897}, {\"v\": \" --\"}, {\"v\": \" --\"}, {\"v\": \" --\"}, {\"v\": 0}, {\"v\": 0}, {\"v\": 0}, {\"v\": 0}, {\"v\": 0}, {\"v\": 297004287}, {\"v\": 0}, {\"v\": 0.0}, {\"v\": 0.0}, {\"v\": 3}, {\"v\": \"0.00%\"}, {\"v\": 0}, {\"v\": false}, {\"v\": \"Broad\"}, {\"v\": \" --\"}, {\"v\": \" --\"}, {\"v\": \"2015-07-01\"}, {\"v\": \"July\"}, {\"v\": \"0.00%\"}, {\"v\": \"Not applicable\"}, {\"v\": \"Red Universal de Marketing y Bookings On Line, S.A.\"}, {\"v\": 0}, {\"v\": \"2015-07-01\"}, {\"v\": \" --\"}, {\"v\": \"75.00%\"}, {\"v\": \"Not applicable\"}, {\"v\": \"25.00%\"}, {\"v\": \"removed\"}, {\"v\": \" --\"}, {\"v\": 0}, {\"v\": \" --\"}, {\"v\": \" --\"}, {\"v\": 0.0}, {\"v\": 0.0}, {\"v\": 0.0}, {\"v\": \"0.00%\"}, {\"v\": \"0.00%\"}, {\"v\": \"0.00%\"}, {\"v\": \"0.00%\"}, {\"v\": \"0.00%\"}, {\"v\": 0}, {\"v\": 0}, {\"v\": \"2015-07-06\"}, {\"v\": 2015}]}, {\"c\": [{\"v\": \"EUR\"}, {\"v\": \"Bravofly Russia Voli\"}, {\"v\": \"(GMT+01:00) Rome\"}, {\"v\": 0}, {\"v\": \"0.00%\"}, {\"v\": 0}, {\"v\": \"0.00%\"}, {\"v\": 0}, {\"v\": 0}, {\"v\": \"0.00%\"}, {\"v\": 3639849698}, {\"v\": \"Bravoavia\"}, {\"v\": \"enabled\"}, {\"v\": \"Search Network\"}, {\"v\": \"Google search\"}, {\"v\": \"0.00%\"}, {\"v\": 0.0}, {\"v\": 0.0}, {\"v\": \" --\"}, {\"v\": 0}, {\"v\": 0}, {\"v\": 0}, {\"v\": 0}, {\"v\": 0}, {\"v\": 0.0}, {\"v\": 1.0}, {\"v\": 0}, {\"v\": 3639849698}, {\"v\": 108030218}, {\"v\": 0}, {\"v\": \" --\"}, {\"v\": \"campaign\"}, {\"v\": \"cpc\"}, {\"v\": \" --\"}, {\"v\": \"0.00%\"}, {\"v\": 108030218}, {\"v\": \"Brand_RU_Broad\"}, {\"v\": \"enabled\"}, {\"v\": 0.0}, {\"v\": 0.0}, {\"v\": \"0.00%\"}, {\"v\": 0}, {\"v\": \"0.00%\"}, {\"v\": 0.0}, {\"v\": 0.0}, {\"v\": 0}, {\"v\": 0}, {\"v\": 0}, {\"v\": 0}, {\"v\": 0}, {\"v\": \" --\"}, {\"v\": \" --\"}, {\"v\": \" --\"}, {\"v\": \"Not applicable\"}, {\"v\": \"bravoavia ru\"}, {\"v\": \" --\"}, {\"v\": 0.0}, {\"v\": \"0.00%\"}, {\"v\": \"Bravofly Russia Voli\"}, {\"v\": \"2015-02-10\"}, {\"v\": \"Tuesday\"}, {\"v\": \"0.00%\"}, {\"v\": 0}, {\"v\": false}, {\"v\": \" --\"}, {\"v\": \" --\"}, {\"v\": 9837210897}, {\"v\": \" --\"}, {\"v\": \" --\"}, {\"v\": \" --\"}, {\"v\": 0}, {\"v\": 0}, {\"v\": 0}, {\"v\": 0}, {\"v\": 0}, {\"v\": 29069313846}, {\"v\": 0}, {\"v\": 0.0}, {\"v\": 0.0}, {\"v\": 1}, {\"v\": \"0.00%\"}, {\"v\": 0}, {\"v\": false}, {\"v\": \"Broad\"}, {\"v\": \" --\"}, {\"v\": \" --\"}, {\"v\": \"2015-02-01\"}, {\"v\": \"February\"}, {\"v\": \"0.00%\"}, {\"v\": \"Not applicable\"}, {\"v\": \"Red Universal de Marketing y Bookings On Line, S.A.\"}, {\"v\": 0}, {\"v\": \"2015-01-01\"}, {\"v\": \" --\"}, {\"v\": \"100.00%\"}, {\"v\": \"Not applicable\"}, {\"v\": \"0.00%\"}, {\"v\": \"removed\"}, {\"v\": \" --\"}, {\"v\": 0}, {\"v\": \" --\"}, {\"v\": \" --\"}, {\"v\": 0.0}, {\"v\": 0.0}, {\"v\": 0.0}, {\"v\": \"0.00%\"}, {\"v\": \"0.00%\"}, {\"v\": \"0.00%\"}, {\"v\": \"0.00%\"}, {\"v\": \"0.00%\"}, {\"v\": 0}, {\"v\": 0}, {\"v\": \"2015-02-09\"}, {\"v\": 2015}]}, {\"c\": [{\"v\": \"EUR\"}, {\"v\": \"Bravofly Russia Voli\"}, {\"v\": \"(GMT+01:00) Rome\"}, {\"v\": 0}, {\"v\": \"0.00%\"}, {\"v\": 0}, {\"v\": \"0.00%\"}, {\"v\": 0}, {\"v\": 0}, {\"v\": \"0.00%\"}, {\"v\": 3639849698}, {\"v\": \"Bravoavia\"}, {\"v\": \"enabled\"}, {\"v\": \"Search Network\"}, {\"v\": \"Google search\"}, {\"v\": \"0.00%\"}, {\"v\": 0.0}, {\"v\": 0.0}, {\"v\": \" --\"}, {\"v\": 0}, {\"v\": 0}, {\"v\": 0}, {\"v\": 0}, {\"v\": 0}, {\"v\": 5.0}, {\"v\": 0.0}, {\"v\": 158}, {\"v\": 3639849698}, {\"v\": 108030218}, {\"v\": 0}, {\"v\": \" --\"}, {\"v\": \"campaign\"}, {\"v\": \"cpc\"}, {\"v\": \" --\"}, {\"v\": \"0.00%\"}, {\"v\": 108030218}, {\"v\": \"Brand_RU_Broad\"}, {\"v\": \"enabled\"}, {\"v\": 0.0}, {\"v\": 0.0}, {\"v\": \"0.00%\"}, {\"v\": 0}, {\"v\": \"0.00%\"}, {\"v\": 0.0}, {\"v\": 0.0}, {\"v\": 0}, {\"v\": 0}, {\"v\": 0}, {\"v\": 0}, {\"v\": 0}, {\"v\": \" --\"}, {\"v\": \" --\"}, {\"v\": \" --\"}, {\"v\": \"Not applicable\"}, {\"v\": \"bravo avia\"}, {\"v\": \" --\"}, {\"v\": 0.0}, {\"v\": \"0.00%\"}, {\"v\": \"Bravofly Russia Voli\"}, {\"v\": \"2015-09-28\"}, {\"v\": \"Monday\"}, {\"v\": \"0.00%\"}, {\"v\": 0}, {\"v\": false}, {\"v\": \" --\"}, {\"v\": \" --\"}, {\"v\": 9837210897}, {\"v\": \" --\"}, {\"v\": \" --\"}, {\"v\": \" --\"}, {\"v\": 0}, {\"v\": 0}, {\"v\": 0}, {\"v\": 0}, {\"v\": 0}, {\"v\": 36970545128}, {\"v\": 0}, {\"v\": 0.0}, {\"v\": 0.0}, {\"v\": 0}, {\"v\": \"0.00%\"}, {\"v\": 0}, {\"v\": false}, {\"v\": \"Broad\"}, {\"v\": \" --\"}, {\"v\": \" --\"}, {\"v\": \"2015-09-01\"}, {\"v\": \"September\"}, {\"v\": \"0.00%\"}, {\"v\": \"Not applicable\"}, {\"v\": \"Red Universal de Marketing y Bookings On Line, S.A.\"}, {\"v\": 0}, {\"v\": \"2015-07-01\"}, {\"v\": \" --\"}, {\"v\": \" --\"}, {\"v\": \"Not applicable\"}, {\"v\": \" --\"}, {\"v\": \"removed\"}, {\"v\": \" --\"}, {\"v\": 0}, {\"v\": \" --\"}, {\"v\": \" --\"}, {\"v\": 0.0}, {\"v\": 0.0}, {\"v\": 0.0}, {\"v\": \"0.00%\"}, {\"v\": \"0.00%\"}, {\"v\": \"0.00%\"}, {\"v\": \"0.00%\"}, {\"v\": \"0.00%\"}, {\"v\": 0}, {\"v\": 0}, {\"v\": \"2015-09-28\"}, {\"v\": 2015}]}, {\"c\": [{\"v\": \"EUR\"}, {\"v\": \"Bravofly Russia Voli\"}, {\"v\": \"(GMT+01:00) Rome\"}, {\"v\": 0}, {\"v\": \"0.00%\"}, {\"v\": 0}, {\"v\": \"0.00%\"}, {\"v\": 0}, {\"v\": 0}, {\"v\": \"0.00%\"}, {\"v\": 10139184698}, {\"v\": \"Volagratis\"}, {\"v\": \"enabled\"}, {\"v\": \"Search Network\"}, {\"v\": \"Google search\"}, {\"v\": \"0.00%\"}, {\"v\": 0.0}, {\"v\": 0.0}, {\"v\": \" --\"}, {\"v\": 0}, {\"v\": 0}, {\"v\": 0}, {\"v\": 0}, {\"v\": 0}, {\"v\": 0.0}, {\"v\": 2.0}, {\"v\": 0}, {\"v\": 10139184698}, {\"v\": 108030218}, {\"v\": 0}, {\"v\": \" --\"}, {\"v\": \"campaign\"}, {\"v\": \"cpc\"}, {\"v\": \" --\"}, {\"v\": \"0.00%\"}, {\"v\": 108030218}, {\"v\": \"Brand_RU_Broad\"}, {\"v\": \"enabled\"}, {\"v\": 0.0}, {\"v\": 0.0}, {\"v\": \"0.00%\"}, {\"v\": 0}, {\"v\": \"0.00%\"}, {\"v\": 0.0}, {\"v\": 0.0}, {\"v\": 0}, {\"v\": 0}, {\"v\": 0}, {\"v\": 0}, {\"v\": 0}, {\"v\": \" --\"}, {\"v\": \" --\"}, {\"v\": \" --\"}, {\"v\": \"Not applicable\"}, {\"v\": \"vola gratis\"}, {\"v\": \" --\"}, {\"v\": 0.0}, {\"v\": \"0.00%\"}, {\"v\": \"Bravofly Russia Voli\"}, {\"v\": \"2015-05-11\"}, {\"v\": \"Monday\"}, {\"v\": \"0.00%\"}, {\"v\": 0}, {\"v\": false}, {\"v\": \" --\"}, {\"v\": \" --\"}, {\"v\": 9837210897}, {\"v\": \" --\"}, {\"v\": \" --\"}, {\"v\": \" --\"}, {\"v\": 0}, {\"v\": 0}, {\"v\": 0}, {\"v\": 0}, {\"v\": 0}, {\"v\": 297004287}, {\"v\": 0}, {\"v\": 0.0}, {\"v\": 0.0}, {\"v\": 1}, {\"v\": \"0.00%\"}, {\"v\": 0}, {\"v\": false}, {\"v\": \"Broad\"}, {\"v\": \" --\"}, {\"v\": \" --\"}, {\"v\": \"2015-05-01\"}, {\"v\": \"May\"}, {\"v\": \"0.00%\"}, {\"v\": \"Not applicable\"}, {\"v\": \"Red Universal de Marketing y Bookings On Line, S.A.\"}, {\"v\": 0}, {\"v\": \"2015-04-01\"}, {\"v\": \" --\"}, {\"v\": \"33.33%\"}, {\"v\": \"Not applicable\"}, {\"v\": \"66.67%\"}, {\"v\": \"removed\"}, {\"v\": \" --\"}, {\"v\": 0}, {\"v\": \" --\"}, {\"v\": \" --\"}, {\"v\": 0.0}, {\"v\": 0.0}, {\"v\": 0.0}, {\"v\": \"0.00%\"}, {\"v\": \"0.00%\"}, {\"v\": \"0.00%\"}, {\"v\": \"0.00%\"}, {\"v\": \"0.00%\"}, {\"v\": 0}, {\"v\": 0}, {\"v\": \"2015-05-11\"}, {\"v\": 2015}]}, {\"c\": [{\"v\": \"EUR\"}, {\"v\": \"Bravofly Russia Voli\"}, {\"v\": \"(GMT+01:00) Rome\"}, {\"v\": 0}, {\"v\": \"0.00%\"}, {\"v\": 0}, {\"v\": \"0.00%\"}, {\"v\": 0}, {\"v\": 0}, {\"v\": \"0.00%\"}, {\"v\": 3639849698}, {\"v\": \"Bravoavia\"}, {\"v\": \"enabled\"}, {\"v\": \"Search Network\"}, {\"v\": \"Google search\"}, {\"v\": \"0.00%\"}, {\"v\": 0.0}, {\"v\": 0.0}, {\"v\": \" --\"}, {\"v\": 0}, {\"v\": 0}, {\"v\": 0}, {\"v\": 0}, {\"v\": 0}, {\"v\": 0.0}, {\"v\": 0.0}, {\"v\": 0}, {\"v\": 3639849698}, {\"v\": 108030218}, {\"v\": 0}, {\"v\": \" --\"}, {\"v\": \"campaign\"}, {\"v\": \"cpc\"}, {\"v\": \" --\"}, {\"v\": \"0.00%\"}, {\"v\": 108030218}, {\"v\": \"Brand_RU_Broad\"}, {\"v\": \"enabled\"}, {\"v\": 0.0}, {\"v\": 0.0}, {\"v\": \"0.00%\"}, {\"v\": 0}, {\"v\": \"0.00%\"}, {\"v\": 0.0}, {\"v\": 0.0}, {\"v\": 0}, {\"v\": 0}, {\"v\": 0}, {\"v\": 0}, {\"v\": 0}, {\"v\": \" --\"}, {\"v\": \" --\"}, {\"v\": \" --\"}, {\"v\": \"Not applicable\"}, {\"v\": \"\\u0431\\u0440\\u0430\\u0432\\u043e\\u0430\\u0432\\u0438\\u0430 \\u043a\\u0438\\u0435\\u0432\"}, {\"v\": \" --\"}, {\"v\": 0.0}, {\"v\": \"0.00%\"}, {\"v\": \"Bravofly Russia Voli\"}, {\"v\": \"2015-03-29\"}, {\"v\": \"Sunday\"}, {\"v\": \"0.00%\"}, {\"v\": 0}, {\"v\": false}, {\"v\": \" --\"}, {\"v\": \" --\"}, {\"v\": 9837210897}, {\"v\": \" --\"}, {\"v\": \" --\"}, {\"v\": \" --\"}, {\"v\": 0}, {\"v\": 0}, {\"v\": 0}, {\"v\": 0}, {\"v\": 0}, {\"v\": 69203661328}, {\"v\": 0}, {\"v\": 0.0}, {\"v\": 0.0}, {\"v\": 0}, {\"v\": \"0.00%\"}, {\"v\": 0}, {\"v\": false}, {\"v\": \"Broad\"}, {\"v\": \" --\"}, {\"v\": \" --\"}, {\"v\": \"2015-03-01\"}, {\"v\": \"March\"}, {\"v\": \"0.00%\"}, {\"v\": \"Not applicable\"}, {\"v\": \"Red Universal de Marketing y Bookings On Line, S.A.\"}, {\"v\": 0}, {\"v\": \"2015-01-01\"}, {\"v\": \" --\"}, {\"v\": \"< 10%\"}, {\"v\": \"Not applicable\"}, {\"v\": \"> 90%\"}, {\"v\": \"removed\"}, {\"v\": \" --\"}, {\"v\": 0}, {\"v\": \" --\"}, {\"v\": \" --\"}, {\"v\": 0.0}, {\"v\": 0.0}, {\"v\": 0.0}, {\"v\": \"0.00%\"}, {\"v\": \"0.00%\"}, {\"v\": \"0.00%\"}, {\"v\": \"0.00%\"}, {\"v\": \"0.00%\"}, {\"v\": 0}, {\"v\": 0}, {\"v\": \"2015-03-23\"}, {\"v\": 2015}]}], \"cols\": [{\"type\": \"string\", \"id\": \"AccountCurrencyCode\", \"label\": \"AccountCurrencyCode\"}, {\"type\": \"string\", \"id\": \"AccountDescriptiveName\", \"label\": \"AccountDescriptiveName\"}, {\"type\": \"string\", \"id\": \"AccountTimeZoneId\", \"label\": \"AccountTimeZoneId\"}, {\"type\": \"number\", \"id\": \"ActiveViewCpm\", \"label\": \"ActiveViewCpm\"}, {\"type\": \"string\", \"id\": \"ActiveViewCtr\", \"label\": \"ActiveViewCtr\"}, {\"type\": \"number\", \"id\": \"ActiveViewImpressions\", \"label\": \"ActiveViewImpressions\"}, {\"type\": \"string\", \"id\": \"ActiveViewMeasurability\", \"label\": \"ActiveViewMeasurability\"}, {\"type\": \"number\", \"id\": \"ActiveViewMeasurableCost\", \"label\": \"ActiveViewMeasurableCost\"}, {\"type\": \"number\", \"id\": \"ActiveViewMeasurableImpressions\", \"label\": \"ActiveViewMeasurableImpressions\"}, {\"type\": \"string\", \"id\": \"ActiveViewViewability\", \"label\": \"ActiveViewViewability\"}, {\"type\": \"number\", \"id\": \"AdGroupId\", \"label\": \"AdGroupId\"}, {\"type\": \"string\", \"id\": \"AdGroupName\", \"label\": \"AdGroupName\"}, {\"type\": \"string\", \"id\": \"AdGroupStatus\", \"label\": \"AdGroupStatus\"}, {\"type\": \"string\", \"id\": \"AdNetworkType1\", \"label\": \"AdNetworkType1\"}, {\"type\": \"string\", \"id\": \"AdNetworkType2\", \"label\": \"AdNetworkType2\"}, {\"type\": \"string\", \"id\": \"AllConversionRate\", \"label\": \"AllConversionRate\"}, {\"type\": \"number\", \"id\": \"AllConversions\", \"label\": \"AllConversions\"}, {\"type\": \"number\", \"id\": \"AllConversionValue\", \"label\": \"AllConversionValue\"}, {\"type\": \"string\", \"id\": \"ApprovalStatus\", \"label\": \"ApprovalStatus\"}, {\"type\": \"number\", \"id\": \"AverageCost\", \"label\": \"AverageCost\"}, {\"type\": \"number\", \"id\": \"AverageCpc\", \"label\": \"AverageCpc\"}, {\"type\": \"number\", \"id\": \"AverageCpe\", \"label\": \"AverageCpe\"}, {\"type\": \"number\", \"id\": \"AverageCpm\", \"label\": \"AverageCpm\"}, {\"type\": \"number\", \"id\": \"AverageCpv\", \"label\": \"AverageCpv\"}, {\"type\": \"number\", \"id\": \"AveragePageviews\", \"label\": \"AveragePageviews\"}, {\"type\": \"number\", \"id\": \"AveragePosition\", \"label\": \"AveragePosition\"}, {\"type\": \"number\", \"id\": \"AverageTimeOnSite\", \"label\": \"AverageTimeOnSite\"}, {\"type\": \"number\", \"id\": \"BaseAdGroupId\", \"label\": \"BaseAdGroupId\"}, {\"type\": \"number\", \"id\": \"BaseCampaignId\", \"label\": \"BaseCampaignId\"}, {\"type\": \"number\", \"id\": \"BiddingStrategyId\", \"label\": \"BiddingStrategyId\"}, {\"type\": \"string\", \"id\": \"BiddingStrategyName\", \"label\": \"BiddingStrategyName\"}, {\"type\": \"string\", \"id\": \"BiddingStrategySource\", \"label\": \"BiddingStrategySource\"}, {\"type\": \"string\", \"id\": \"BiddingStrategyType\", \"label\": \"BiddingStrategyType\"}, {\"type\": \"string\", \"id\": \"BidType\", \"label\": \"BidType\"}, {\"type\": \"string\", \"id\": \"BounceRate\", \"label\": \"BounceRate\"}, {\"type\": \"number\", \"id\": \"CampaignId\", \"label\": \"CampaignId\"}, {\"type\": \"string\", \"id\": \"CampaignName\", \"label\": \"CampaignName\"}, {\"type\": \"string\", \"id\": \"CampaignStatus\", \"label\": \"CampaignStatus\"}, {\"type\": \"number\", \"id\": \"ClickAssistedConversionsOverLastClickConversions\", \"label\": \"ClickAssistedConversionsOverLastClickConversions\"}, {\"type\": \"number\", \"id\": \"ClickAssistedConversionValue\", \"label\": \"ClickAssistedConversionValue\"}, {\"type\": \"string\", \"id\": \"ClickConversionRate\", \"label\": \"ClickConversionRate\"}, {\"type\": \"number\", \"id\": \"Clicks\", \"label\": \"Clicks\"}, {\"type\": \"string\", \"id\": \"ConversionRate\", \"label\": \"ConversionRate\"}, {\"type\": \"number\", \"id\": \"Conversions\", \"label\": \"Conversions\"}, {\"type\": \"number\", \"id\": \"ConversionValue\", \"label\": \"ConversionValue\"}, {\"type\": \"number\", \"id\": \"ConvertedClicks\", \"label\": \"ConvertedClicks\"}, {\"type\": \"number\", \"id\": \"Cost\", \"label\": \"Cost\"}, {\"type\": \"number\", \"id\": \"CostPerAllConversion\", \"label\": \"CostPerAllConversion\"}, {\"type\": \"number\", \"id\": \"CostPerConversion\", \"label\": \"CostPerConversion\"}, {\"type\": \"number\", \"id\": \"CostPerConvertedClick\", \"label\": \"CostPerConvertedClick\"}, {\"type\": \"string\", \"id\": \"CpcBid\", \"label\": \"CpcBid\"}, {\"type\": \"string\", \"id\": \"CpcBidSource\", \"label\": \"CpcBidSource\"}, {\"type\": \"string\", \"id\": \"CpmBid\", \"label\": \"CpmBid\"}, {\"type\": \"string\", \"id\": \"CreativeQualityScore\", \"label\": \"CreativeQualityScore\"}, {\"type\": \"string\", \"id\": \"Criteria\", \"label\": \"Criteria\"}, {\"type\": \"string\", \"id\": \"CriteriaDestinationUrl\", \"label\": \"CriteriaDestinationUrl\"}, {\"type\": \"number\", \"id\": \"CrossDeviceConversions\", \"label\": \"CrossDeviceConversions\"}, {\"type\": \"string\", \"id\": \"Ctr\", \"label\": \"Ctr\"}, {\"type\": \"string\", \"id\": \"CustomerDescriptiveName\", \"label\": \"CustomerDescriptiveName\"}, {\"type\": \"string\", \"id\": \"Date\", \"label\": \"Date\"}, {\"type\": \"string\", \"id\": \"DayOfWeek\", \"label\": \"DayOfWeek\"}, {\"type\": \"string\", \"id\": \"EngagementRate\", \"label\": \"EngagementRate\"}, {\"type\": \"number\", \"id\": \"Engagements\", \"label\": \"Engagements\"}, {\"type\": \"boolean\", \"id\": \"EnhancedCpcEnabled\", \"label\": \"EnhancedCpcEnabled\"}, {\"type\": \"string\", \"id\": \"EstimatedAddClicksAtFirstPositionCpc\", \"label\": \"EstimatedAddClicksAtFirstPositionCpc\"}, {\"type\": \"string\", \"id\": \"EstimatedAddCostAtFirstPositionCpc\", \"label\": \"EstimatedAddCostAtFirstPositionCpc\"}, {\"type\": \"number\", \"id\": \"ExternalCustomerId\", \"label\": \"ExternalCustomerId\"}, {\"type\": \"string\", \"id\": \"FinalAppUrls\", \"label\": \"FinalAppUrls\"}, {\"type\": \"string\", \"id\": \"FinalMobileUrls\", \"label\": \"FinalMobileUrls\"}, {\"type\": \"string\", \"id\": \"FinalUrls\", \"label\": \"FinalUrls\"}, {\"type\": \"number\", \"id\": \"FirstPageCpc\", \"label\": \"FirstPageCpc\"}, {\"type\": \"number\", \"id\": \"FirstPositionCpc\", \"label\": \"FirstPositionCpc\"}, {\"type\": \"number\", \"id\": \"GmailForwards\", \"label\": \"GmailForwards\"}, {\"type\": \"number\", \"id\": \"GmailSaves\", \"label\": \"GmailSaves\"}, {\"type\": \"number\", \"id\": \"GmailSecondaryClicks\", \"label\": \"GmailSecondaryClicks\"}, {\"type\": \"number\", \"id\": \"Id\", \"label\": \"Id\"}, {\"type\": \"number\", \"id\": \"ImpressionAssistedConversions\", \"label\": \"ImpressionAssistedConversions\"}, {\"type\": \"number\", \"id\": \"ImpressionAssistedConversionsOverLastClickConversions\", \"label\": \"ImpressionAssistedConversionsOverLastClickConversions\"}, {\"type\": \"number\", \"id\": \"ImpressionAssistedConversionValue\", \"label\": \"ImpressionAssistedConversionValue\"}, {\"type\": \"number\", \"id\": \"Impressions\", \"label\": \"Impressions\"}, {\"type\": \"string\", \"id\": \"InteractionRate\", \"label\": \"InteractionRate\"}, {\"type\": \"number\", \"id\": \"Interactions\", \"label\": \"Interactions\"}, {\"type\": \"boolean\", \"id\": \"IsNegative\", \"label\": \"IsNegative\"}, {\"type\": \"string\", \"id\": \"KeywordMatchType\", \"label\": \"KeywordMatchType\"}, {\"type\": \"string\", \"id\": \"LabelIds\", \"label\": \"LabelIds\"}, {\"type\": \"string\", \"id\": \"Labels\", \"label\": \"Labels\"}, {\"type\": \"string\", \"id\": \"Month\", \"label\": \"Month\"}, {\"type\": \"string\", \"id\": \"MonthOfYear\", \"label\": \"MonthOfYear\"}, {\"type\": \"string\", \"id\": \"PercentNewVisitors\", \"label\": \"PercentNewVisitors\"}, {\"type\": \"string\", \"id\": \"PostClickQualityScore\", \"label\": \"PostClickQualityScore\"}, {\"type\": \"string\", \"id\": \"PrimaryCompanyName\", \"label\": \"PrimaryCompanyName\"}, {\"type\": \"number\", \"id\": \"QualityScore\", \"label\": \"QualityScore\"}, {\"type\": \"string\", \"id\": \"Quarter\", \"label\": \"Quarter\"}, {\"type\": \"string\", \"id\": \"SearchExactMatchImpressionShare\", \"label\": \"SearchExactMatchImpressionShare\"}, {\"type\": \"string\", \"id\": \"SearchImpressionShare\", \"label\": \"SearchImpressionShare\"}, {\"type\": \"string\", \"id\": \"SearchPredictedCtr\", \"label\": \"SearchPredictedCtr\"}, {\"type\": \"string\", \"id\": \"SearchRankLostImpressionShare\", \"label\": \"SearchRankLostImpressionShare\"}, {\"type\": \"string\", \"id\": \"Status\", \"label\": \"Status\"}, {\"type\": \"string\", \"id\": \"SystemServingStatus\", \"label\": \"SystemServingStatus\"}, {\"type\": \"number\", \"id\": \"TopOfPageCpc\", \"label\": \"TopOfPageCpc\"}, {\"type\": \"string\", \"id\": \"TrackingUrlTemplate\", \"label\": \"TrackingUrlTemplate\"}, {\"type\": \"string\", \"id\": \"UrlCustomParameters\", \"label\": \"UrlCustomParameters\"}, {\"type\": \"number\", \"id\": \"ValuePerAllConversion\", \"label\": \"ValuePerAllConversion\"}, {\"type\": \"number\", \"id\": \"ValuePerConversion\", \"label\": \"ValuePerConversion\"}, {\"type\": \"number\", \"id\": \"ValuePerConvertedClick\", \"label\": \"ValuePerConvertedClick\"}, {\"type\": \"string\", \"id\": \"VideoQuartile100Rate\", \"label\": \"VideoQuartile100Rate\"}, {\"type\": \"string\", \"id\": \"VideoQuartile25Rate\", \"label\": \"VideoQuartile25Rate\"}, {\"type\": \"string\", \"id\": \"VideoQuartile50Rate\", \"label\": \"VideoQuartile50Rate\"}, {\"type\": \"string\", \"id\": \"VideoQuartile75Rate\", \"label\": \"VideoQuartile75Rate\"}, {\"type\": \"string\", \"id\": \"VideoViewRate\", \"label\": \"VideoViewRate\"}, {\"type\": \"number\", \"id\": \"VideoViews\", \"label\": \"VideoViews\"}, {\"type\": \"number\", \"id\": \"ViewThroughConversions\", \"label\": \"ViewThroughConversions\"}, {\"type\": \"string\", \"id\": \"Week\", \"label\": \"Week\"}, {\"type\": \"number\", \"id\": \"Year\", \"label\": \"Year\"}]});\n",
       "        }\n",
       "      );\n",
       "    </script>\n",
       "  "
      ],
      "text/plain": [
       "QueryResultsTable job_C8xNRE9th5luvK6VmMDToh8kXFo"
      ]
     },
     "execution_count": 9,
     "metadata": {},
     "output_type": "execute_result"
    }
   ],
   "source": [
    "%bigquery sample --table google.com:ddm-connectors-demo:aw_dataset.KEYWORDS_PERFORMANCE_ANALYTICS --count 5"
   ]
  },
  {
   "cell_type": "markdown",
   "metadata": {},
   "source": [
    "# Let us start checking the user experience "
   ]
  },
  {
   "cell_type": "code",
   "execution_count": 71,
   "metadata": {
    "collapsed": false
   },
   "outputs": [],
   "source": [
    "%sql --module query_keywords_overlap\n",
    "SELECT\n",
    "  Criteria,\n",
    "  KeywordMatchType,\n",
    "  Urls,\n",
    "  COUNT(AccountDescriptiveName) as NbOfAccounts,\n",
    "  SUM(IF(Clicks > 0,1,0)) as NbOfAccountsWithClicks,\n",
    "FROM\n",
    "(\n",
    "SELECT\n",
    "  Criteria,\n",
    "  KeywordMatchType,\n",
    "  AccountDescriptiveName,\n",
    "  IF(CriteriaDestinationUrl != ' --',CriteriaDestinationUrl,FinalUrls) as Urls,\n",
    "  SUM(Clicks) as Clicks,\n",
    "FROM\n",
    " [google.com:ddm-connectors-demo:aw_dataset.KEYWORDS_PERFORMANCE_ANALYTICS]\n",
    "WHERE True\n",
    "AND  AdNetworkType2 = 'Google search' \n",
    "AND NOT IsNegative \n",
    "AND Status = 'enabled' AND AdGroupStatus = 'enabled' AND CampaignStatus = 'enabled'\n",
    "AND Month = '2016-04-01'\n",
    "GROUP BY 1,2,3,4\n",
    ")\n",
    "GROUP BY 1,2,3"
   ]
  },
  {
   "cell_type": "code",
   "execution_count": null,
   "metadata": {
    "collapsed": false
   },
   "outputs": [],
   "source": [
    "df = bq.Query(query_keywords_overlap).to_dataframe()"
   ]
  },
  {
   "cell_type": "code",
   "execution_count": 52,
   "metadata": {
    "collapsed": false
   },
   "outputs": [
    {
     "data": {
      "text/plain": [
       "array([[<matplotlib.axes._subplots.AxesSubplot object at 0x7fdbb708e8d0>]], dtype=object)"
      ]
     },
     "execution_count": 52,
     "metadata": {},
     "output_type": "execute_result"
    },
    {
     "data": {
      "image/png": "[encoded data removed]",
      "text/plain": [
       "<matplotlib.figure.Figure at 0x7fdbb72e4f10>"
      ]
     },
     "metadata": {},
     "output_type": "display_data"
    }
   ],
   "source": [
    "df.hist(column='NbOfAccounts',bins=df['NbOfAccounts'].max()+1)"
   ]
  },
  {
   "cell_type": "code",
   "execution_count": 58,
   "metadata": {
    "collapsed": false
   },
   "outputs": [
    {
     "data": {
      "text/plain": [
       "array([[<matplotlib.axes._subplots.AxesSubplot object at 0x7fdbb6a6a9d0>]], dtype=object)"
      ]
     },
     "execution_count": 58,
     "metadata": {},
     "output_type": "execute_result"
    },
    {
     "data": {
      "image/png": "[encoded data removed]",
      "text/plain": [
       "<matplotlib.figure.Figure at 0x7fdbb6ba1190>"
      ]
     },
     "metadata": {},
     "output_type": "display_data"
    }
   ],
   "source": [
    "df.hist(column='NbOfAccounts',bins=df['NbOfAccounts'].max()+1,log=True)"
   ]
  },
  {
   "cell_type": "code",
   "execution_count": 62,
   "metadata": {
    "collapsed": false
   },
   "outputs": [
    {
     "data": {
      "text/plain": [
       "array([<matplotlib.axes._subplots.AxesSubplot object at 0x7fdbb7174550>], dtype=object)"
      ]
     },
     "execution_count": 62,
     "metadata": {},
     "output_type": "execute_result"
    },
    {
     "data": {
      "image/png": "[encoded data removed]",
      "text/plain": [
       "<matplotlib.figure.Figure at 0x7fdbb6559310>"
      ]
     },
     "metadata": {},
     "output_type": "display_data"
    }
   ],
   "source": [
    "_, ax = plt.subplots()\n",
    "bins = np.arange(np.max([df['NbOfAccounts'].max(),df['NbOfAccountsWithClicks'].max()])+1)\n",
    "\n",
    "df.hist(column='NbOfAccounts',bins=bins,log=True,ax=ax)\n",
    "df.hist(column='NbOfAccountsWithClicks',bins=bins,log=True,ax=ax,color='g',alpha=0.6)"
   ]
  },
  {
   "cell_type": "code",
   "execution_count": 66,
   "metadata": {
    "collapsed": false
   },
   "outputs": [
    {
     "data": {
      "text/html": [
       "<div>\n",
       "<table border=\"1\" class=\"dataframe\">\n",
       "  <thead>\n",
       "    <tr style=\"text-align: right;\">\n",
       "      <th></th>\n",
       "      <th>Criteria</th>\n",
       "      <th>KeywordMatchType</th>\n",
       "      <th>NbOfAccounts</th>\n",
       "      <th>NbOfAccountsWithClicks</th>\n",
       "    </tr>\n",
       "  </thead>\n",
       "  <tbody>\n",
       "    <tr>\n",
       "      <th>48035</th>\n",
       "      <td>bravo fly</td>\n",
       "      <td>Exact</td>\n",
       "      <td>27</td>\n",
       "      <td>25</td>\n",
       "    </tr>\n",
       "    <tr>\n",
       "      <th>143450</th>\n",
       "      <td>bravo flight</td>\n",
       "      <td>Exact</td>\n",
       "      <td>24</td>\n",
       "      <td>21</td>\n",
       "    </tr>\n",
       "    <tr>\n",
       "      <th>119134</th>\n",
       "      <td>bravoflight</td>\n",
       "      <td>Exact</td>\n",
       "      <td>24</td>\n",
       "      <td>20</td>\n",
       "    </tr>\n",
       "    <tr>\n",
       "      <th>166617</th>\n",
       "      <td>bravofl</td>\n",
       "      <td>Exact</td>\n",
       "      <td>25</td>\n",
       "      <td>19</td>\n",
       "    </tr>\n",
       "    <tr>\n",
       "      <th>49378</th>\n",
       "      <td>brovofly</td>\n",
       "      <td>Exact</td>\n",
       "      <td>21</td>\n",
       "      <td>18</td>\n",
       "    </tr>\n",
       "    <tr>\n",
       "      <th>142612</th>\n",
       "      <td>www bravofly com</td>\n",
       "      <td>Exact</td>\n",
       "      <td>22</td>\n",
       "      <td>18</td>\n",
       "    </tr>\n",
       "    <tr>\n",
       "      <th>49679</th>\n",
       "      <td>Bravofly</td>\n",
       "      <td>Exact</td>\n",
       "      <td>18</td>\n",
       "      <td>18</td>\n",
       "    </tr>\n",
       "    <tr>\n",
       "      <th>47410</th>\n",
       "      <td>bravoly</td>\n",
       "      <td>Exact</td>\n",
       "      <td>23</td>\n",
       "      <td>18</td>\n",
       "    </tr>\n",
       "    <tr>\n",
       "      <th>143051</th>\n",
       "      <td>www bravofly</td>\n",
       "      <td>Exact</td>\n",
       "      <td>20</td>\n",
       "      <td>17</td>\n",
       "    </tr>\n",
       "    <tr>\n",
       "      <th>95535</th>\n",
       "      <td>bravoflay</td>\n",
       "      <td>Exact</td>\n",
       "      <td>23</td>\n",
       "      <td>17</td>\n",
       "    </tr>\n",
       "    <tr>\n",
       "      <th>24562</th>\n",
       "      <td>bravo flights</td>\n",
       "      <td>Exact</td>\n",
       "      <td>20</td>\n",
       "      <td>17</td>\n",
       "    </tr>\n",
       "    <tr>\n",
       "      <th>167162</th>\n",
       "      <td>bravofly.com</td>\n",
       "      <td>Exact</td>\n",
       "      <td>17</td>\n",
       "      <td>16</td>\n",
       "    </tr>\n",
       "    <tr>\n",
       "      <th>427</th>\n",
       "      <td>brafofly</td>\n",
       "      <td>Exact</td>\n",
       "      <td>20</td>\n",
       "      <td>16</td>\n",
       "    </tr>\n",
       "    <tr>\n",
       "      <th>24707</th>\n",
       "      <td>flybravo</td>\n",
       "      <td>Exact</td>\n",
       "      <td>21</td>\n",
       "      <td>16</td>\n",
       "    </tr>\n",
       "    <tr>\n",
       "      <th>118746</th>\n",
       "      <td>lastminute</td>\n",
       "      <td>Exact</td>\n",
       "      <td>15</td>\n",
       "      <td>15</td>\n",
       "    </tr>\n",
       "    <tr>\n",
       "      <th>143822</th>\n",
       "      <td>last minute</td>\n",
       "      <td>Exact</td>\n",
       "      <td>16</td>\n",
       "      <td>15</td>\n",
       "    </tr>\n",
       "    <tr>\n",
       "      <th>74120</th>\n",
       "      <td>bravofy</td>\n",
       "      <td>Exact</td>\n",
       "      <td>18</td>\n",
       "      <td>14</td>\n",
       "    </tr>\n",
       "    <tr>\n",
       "      <th>144865</th>\n",
       "      <td>bravo fly</td>\n",
       "      <td>Phrase</td>\n",
       "      <td>17</td>\n",
       "      <td>14</td>\n",
       "    </tr>\n",
       "    <tr>\n",
       "      <th>190464</th>\n",
       "      <td>barvofly</td>\n",
       "      <td>Exact</td>\n",
       "      <td>21</td>\n",
       "      <td>13</td>\n",
       "    </tr>\n",
       "    <tr>\n",
       "      <th>142642</th>\n",
       "      <td>brvofly</td>\n",
       "      <td>Exact</td>\n",
       "      <td>22</td>\n",
       "      <td>13</td>\n",
       "    </tr>\n",
       "    <tr>\n",
       "      <th>166137</th>\n",
       "      <td>bravfly</td>\n",
       "      <td>Exact</td>\n",
       "      <td>20</td>\n",
       "      <td>13</td>\n",
       "    </tr>\n",
       "    <tr>\n",
       "      <th>907</th>\n",
       "      <td>+Bravofly</td>\n",
       "      <td>Broad</td>\n",
       "      <td>14</td>\n",
       "      <td>13</td>\n",
       "    </tr>\n",
       "    <tr>\n",
       "      <th>195409</th>\n",
       "      <td>Eurowings</td>\n",
       "      <td>Exact</td>\n",
       "      <td>13</td>\n",
       "      <td>13</td>\n",
       "    </tr>\n",
       "    <tr>\n",
       "      <th>72859</th>\n",
       "      <td>bravofly</td>\n",
       "      <td>Exact</td>\n",
       "      <td>13</td>\n",
       "      <td>13</td>\n",
       "    </tr>\n",
       "    <tr>\n",
       "      <th>72663</th>\n",
       "      <td>easyjet</td>\n",
       "      <td>Exact</td>\n",
       "      <td>12</td>\n",
       "      <td>12</td>\n",
       "    </tr>\n",
       "  </tbody>\n",
       "</table>\n",
       "</div>"
      ],
      "text/plain": [
       "                Criteria KeywordMatchType  NbOfAccounts  \\\n",
       "48035          bravo fly            Exact            27   \n",
       "143450      bravo flight            Exact            24   \n",
       "119134       bravoflight            Exact            24   \n",
       "166617           bravofl            Exact            25   \n",
       "49378           brovofly            Exact            21   \n",
       "142612  www bravofly com            Exact            22   \n",
       "49679           Bravofly            Exact            18   \n",
       "47410            bravoly            Exact            23   \n",
       "143051      www bravofly            Exact            20   \n",
       "95535          bravoflay            Exact            23   \n",
       "24562      bravo flights            Exact            20   \n",
       "167162      bravofly.com            Exact            17   \n",
       "427             brafofly            Exact            20   \n",
       "24707           flybravo            Exact            21   \n",
       "118746        lastminute            Exact            15   \n",
       "143822       last minute            Exact            16   \n",
       "74120            bravofy            Exact            18   \n",
       "144865         bravo fly           Phrase            17   \n",
       "190464          barvofly            Exact            21   \n",
       "142642           brvofly            Exact            22   \n",
       "166137           bravfly            Exact            20   \n",
       "907            +Bravofly            Broad            14   \n",
       "195409         Eurowings            Exact            13   \n",
       "72859           bravofly            Exact            13   \n",
       "72663            easyjet            Exact            12   \n",
       "\n",
       "        NbOfAccountsWithClicks  \n",
       "48035                       25  \n",
       "143450                      21  \n",
       "119134                      20  \n",
       "166617                      19  \n",
       "49378                       18  \n",
       "142612                      18  \n",
       "49679                       18  \n",
       "47410                       18  \n",
       "143051                      17  \n",
       "95535                       17  \n",
       "24562                       17  \n",
       "167162                      16  \n",
       "427                         16  \n",
       "24707                       16  \n",
       "118746                      15  \n",
       "143822                      15  \n",
       "74120                       14  \n",
       "144865                      14  \n",
       "190464                      13  \n",
       "142642                      13  \n",
       "166137                      13  \n",
       "907                         13  \n",
       "195409                      13  \n",
       "72859                       13  \n",
       "72663                       12  "
      ]
     },
     "execution_count": 66,
     "metadata": {},
     "output_type": "execute_result"
    }
   ],
   "source": [
    "df[df['NbOfAccountsWithClicks'] > 10].sort_values(by=['NbOfAccountsWithClicks'],ascending=False)[:25]"
   ]
  },
  {
   "cell_type": "code",
   "execution_count": 70,
   "metadata": {
    "collapsed": false
   },
   "outputs": [
    {
     "data": {
      "text/html": [
       "\n",
       "    <div class=\"bqtv\" id=\"9_146436103534\"><table><tr><th>Criteria</th><th>KeywordMatchType</th><th>AccountDescriptiveName</th><th>CampaignName</th><th>AdGroupName</th><th>Urls</th><th>AprilQualityScore</th><th>Impressions</th><th>Clicks</th><th>Cost</th><th>AllConversions</th><th>CostPerAllConversion</th></tr><tr><td>bravo fly</td><td>Exact</td><td>BravoFly.com</td><td>Brand Bulgaria Exact</td><td>Brand Mssp</td><td>[\"http://www.bravofly.com/vg1/flights.do?COBRANDED=GMADWORDCOM\"]</td><td>10.0</td><td>3</td><td>1</td><td>0.01</td><td>0.0</td><td>&nbsp;</td></tr><tr><td>bravo fly</td><td>Exact</td><td>Bravofly Spagna</td><td>Brand Exact</td><td>Brand Misspellings</td><td>[\"http://www.bravofly.es/vg1/vuelos.do?COBRANDED=BFADWORDES\"]</td><td>8.0</td><td>83</td><td>37</td><td>2.12</td><td>13.0</td><td>0.163076923077</td></tr><tr><td>bravo fly</td><td>Exact</td><td>BravoFly.com</td><td>Brand Ungheria - Exact</td><td>Brand Mssp</td><td>[\"http://www.bravofly.hu?COBRANDED=GMADWORDHU\"]</td><td>10.0</td><td>93</td><td>53</td><td>0.55</td><td>3.0</td><td>0.183333333333</td></tr><tr><td>bravo fly</td><td>Exact</td><td>Svizzera Italia</td><td>Brand Exact</td><td>Bravofly Exact</td><td>[\"http://it.bravofly.ch/vg1/home.do?COBRANDED=GMADWORDCHI\"]</td><td>10.0</td><td>37</td><td>19</td><td>0.26</td><td>0.0</td><td>&nbsp;</td></tr><tr><td>bravo fly</td><td>Exact</td><td>Bravofly COM ROW</td><td>Brand Exact</td><td>Brand</td><td>[\"http://www.bravofly.com/vg1/flights.do?COBRANDED=GMADWORDCOM\"]</td><td>10.0</td><td>358</td><td>137</td><td>3.39</td><td>4.0</td><td>0.8475</td></tr><tr><td>bravo fly</td><td>Exact</td><td>BravoFly.com</td><td>Brand Croazia Exact</td><td>Brand Mssp</td><td>[\"http://www.bravofly.com?COBRANDED=GMADWORDCOM\"]</td><td>8.0</td><td>27</td><td>13</td><td>0.14</td><td>1.0</td><td>0.14</td></tr><tr><td>bravo fly</td><td>Exact</td><td>Bravofly Austria</td><td>Brand Exact</td><td>Bravofly Misspellings</td><td>[\"http://www.bravofly.at/vg1/home.do?COBRANDED=GMADWORDA\"]</td><td>10.0</td><td>50</td><td>21</td><td>0.27</td><td>2.0</td><td>0.135</td></tr><tr><td>bravo fly</td><td>Exact</td><td>BravoFly.com</td><td>Brand SK Exact</td><td>Brand Mssp</td><td>[\"http://www.bravofly.com?COBRANDED=GMADWORDCOM\"]</td><td>8.0</td><td>4</td><td>3</td><td>0.03</td><td>0.0</td><td>&nbsp;</td></tr><tr><td>bravo fly</td><td>Exact</td><td>BravoFly.com</td><td>Brand Netherlands Exact</td><td>Brand Mssp</td><td>[\"http://www.bravofly.com/vg1/flights.do?COBRANDED=GMADWORDCOM\"]</td><td>10.0</td><td>59</td><td>23</td><td>0.23</td><td>3.0</td><td>0.0766666666667</td></tr><tr><td>bravo fly</td><td>Exact</td><td>BravoFly DE</td><td>Brand Exact ROW</td><td>Brand Misspellings</td><td>[\"http://www.bravofly.de/vg1/flug.do?COBRANDED=GMADWORDDE&amp;sembox_content=[{KeyWord:Brand%20Misspellings}]\"]</td><td>10.0</td><td>42</td><td>12</td><td>1.5</td><td>1.0</td><td>1.5</td></tr><tr><td>bravo fly</td><td>Exact</td><td>BravoFly.com</td><td>Brand Singapore Exact</td><td>Brand Mssp</td><td>[\"http://www.bravofly.com.sg/?COBRANDED=GMADWORDSG\"]</td><td>10.0</td><td>34</td><td>11</td><td>0.28</td><td>0.0</td><td>&nbsp;</td></tr><tr><td>bravo fly</td><td>Exact</td><td>BravoFly.com</td><td>Brand Finlandia - Exact</td><td>Brand Mssp</td><td>[\"http://www.bravofly.fi/vg1/home.do?COBRANDED=GMADWORDFI\"]</td><td>10.0</td><td>39</td><td>29</td><td>0.43</td><td>2.0</td><td>0.215</td></tr><tr><td>bravo fly</td><td>Exact</td><td>BravoFly DK+SE</td><td>Brand Svezia</td><td>Brand Mssp</td><td>[\"http://www.bravofly.se/vg1/home.do?COBRANDED=GMADWORDSE\"]</td><td>10.0</td><td>178</td><td>86</td><td>2.22</td><td>7.0</td><td>0.317142857143</td></tr><tr><td>bravo fly</td><td>Exact</td><td>BravoFly.com</td><td>Brand Rep. Ceca Exact</td><td>Brand Mssp</td><td>[\"http://www.bravofly.cz/vg1/home.do?COBRANDED=GMADWORDCZ\"]</td><td>8.0</td><td>12</td><td>6</td><td>0.31</td><td>0.0</td><td>&nbsp;</td></tr><tr><td>bravo fly</td><td>Exact</td><td>BravoFly.com</td><td>Brand | AR Exact</td><td>Brand Mssp</td><td>[\"http://www.bravofly.com/vg1/flights.do?COBRANDED=GMADWORDCOM\"]</td><td>9.0</td><td>170</td><td>45</td><td>2.72</td><td>1.0</td><td>2.72</td></tr><tr><td>bravo fly</td><td>Exact</td><td>BravoFly.com</td><td>Brand Romania Exact</td><td>Brand Mssp</td><td>[\"http://www.bravofly.ro/vg1/home.do?COBRANDED=GMADWORDRO\"]</td><td>10.0</td><td>70</td><td>38</td><td>0.44</td><td>0.0</td><td>&nbsp;</td></tr><tr><td>bravo fly</td><td>Exact</td><td>BravoFly.com</td><td>Brand IE - Exact</td><td>Brand Mssp</td><td>[\"http://www.bravofly.com/vg1/flights.do?COBRANDED=GMADWORDCOM\"]</td><td>10.0</td><td>52</td><td>25</td><td>1.03</td><td>4.0</td><td>0.2575</td></tr><tr><td>bravo fly</td><td>Exact</td><td>BravoFly DK+SE</td><td>Brand Danimarca</td><td>Brand Mssp</td><td>[\"http://www.bravofly.dk/vg1/home.do?COBRANDED=GMADWORDDK\"]</td><td>8.0</td><td>130</td><td>64</td><td>1.12</td><td>1.0</td><td>1.12</td></tr><tr><td>bravo fly</td><td>Exact</td><td>BravoFly.com</td><td>Brand Islanda Exact</td><td>Brand Mssp</td><td>[\"http://www.bravofly.com?COBRANDED=GMADWORDCOM\"]</td><td>8.0</td><td>1</td><td>1</td><td>0.01</td><td>0.0</td><td>&nbsp;</td></tr><tr><td>bravo fly</td><td>Exact</td><td>BravoFly.com</td><td>Brand Indonesia Exact</td><td>Brand Mssp</td><td>[\"http://www.bravofly.co.id/vg1/home.do?COBRANDED=GMADWORDID\"]</td><td>9.0</td><td>36</td><td>17</td><td>3.1</td><td>0.0</td><td>&nbsp;</td></tr><tr><td>bravo fly</td><td>Exact</td><td>BravoFly DE</td><td>Brand Exact</td><td>Brand Misspellings</td><td>[\"http://www.bravofly.de/vg1/flug.do?{ifnotmobile:COBRANDED=GMADWORDDE}&amp;{ifnotmobile:sembox_content=[{KeyWord:Brand%20Misspellings}]}&amp;{ifmobile:ds_dest_url=http%3A%2F%2Fwww.bravofly.de%2Fvg1%2Fflug.do%3FCOBRANDED%3dADWORDIPHONEDE%26sembox_content%3d[{KeyWord:Brand%20Misspellings}]}\"]</td><td>10.0</td><td>626</td><td>338</td><td>17.0</td><td>10.0</td><td>1.7</td></tr><tr><td>bravo fly</td><td>Exact</td><td>Svizzera Germania</td><td>Brand Exact</td><td>Bravofly Misspellings</td><td>[\"http://de.bravofly.ch/vg1/home.do?COBRANDED=GMADWORDCHD\"]</td><td>10.0</td><td>78</td><td>44</td><td>1.9</td><td>0.0</td><td>&nbsp;</td></tr><tr><td>bravo fly</td><td>Exact</td><td>BravoFly UK</td><td>Brand UK - Exact</td><td>Brand</td><td>[\"http://www.bravofly.co.uk?COBRANDED=BFADWORDCOUK\"]</td><td>10.0</td><td>1172</td><td>584</td><td>100.74</td><td>14.0</td><td>7.19571428571</td></tr><tr><td>bravo fly</td><td>Exact</td><td>BravoFly.com</td><td>Brand Turchia Exact</td><td>Brand Mssp</td><td>[\"http://www.bravofly.com.tr/vg1/home.do?COBRANDED=GMADWORDTR\"]</td><td>10.0</td><td>63</td><td>28</td><td>0.83</td><td>0.0</td><td>&nbsp;</td></tr><tr><td>bravo fly</td><td>Exact</td><td>Bravofly USA (new)</td><td>Brand Australia Exact</td><td>Brand</td><td>[\"http://www.bravofly.com.au/vg1/home.do?COBRANDED=GMADWORDAU\"]</td><td>10.0</td><td>328</td><td>151</td><td>9.22</td><td>13.0</td><td>0.709230769231</td></tr></table></div>\n",
       "    <br />(rows: 33, time: 3.2s,    93GB processed, job: job_b8qL6spfRqhgRLBaoebA5YgUvL4)<br />\n",
       "    <script>\n",
       "      require(['extensions/charting', 'element!9_146436103534', 'style!/static/extensions/charting.css'],\n",
       "        function(charts, dom) {\n",
       "          charts.render(dom,\n",
       "            {\n",
       "              chartStyle:\"paged_table\",\n",
       "              dataName:\"7\",\n",
       "              fields:\"Criteria,KeywordMatchType,AccountDescriptiveName,CampaignName,AdGroupName,Urls,AprilQualityScore,Impressions,Clicks,Cost,AllConversions,CostPerAllConversion\",\n",
       "              totalRows:33,\n",
       "              rowsPerPage:25,\n",
       "            }, {}, {\"rows\": [{\"c\": [{\"v\": \"bravo fly\"}, {\"v\": \"Exact\"}, {\"v\": \"BravoFly.com\"}, {\"v\": \"Brand Bulgaria Exact\"}, {\"v\": \"Brand Mssp\"}, {\"v\": \"[\\\"http://www.bravofly.com/vg1/flights.do?COBRANDED=GMADWORDCOM\\\"]\"}, {\"v\": 10.0}, {\"v\": 3}, {\"v\": 1}, {\"v\": 0.01}, {\"v\": 0.0}, {\"v\": null}]}, {\"c\": [{\"v\": \"bravo fly\"}, {\"v\": \"Exact\"}, {\"v\": \"Bravofly Spagna\"}, {\"v\": \"Brand Exact\"}, {\"v\": \"Brand Misspellings\"}, {\"v\": \"[\\\"http://www.bravofly.es/vg1/vuelos.do?COBRANDED=BFADWORDES\\\"]\"}, {\"v\": 8.0}, {\"v\": 83}, {\"v\": 37}, {\"v\": 2.12}, {\"v\": 13.0}, {\"v\": 0.16307692307692306}]}, {\"c\": [{\"v\": \"bravo fly\"}, {\"v\": \"Exact\"}, {\"v\": \"BravoFly.com\"}, {\"v\": \"Brand Ungheria - Exact\"}, {\"v\": \"Brand Mssp\"}, {\"v\": \"[\\\"http://www.bravofly.hu?COBRANDED=GMADWORDHU\\\"]\"}, {\"v\": 10.0}, {\"v\": 93}, {\"v\": 53}, {\"v\": 0.55}, {\"v\": 3.0}, {\"v\": 0.18333333333333335}]}, {\"c\": [{\"v\": \"bravo fly\"}, {\"v\": \"Exact\"}, {\"v\": \"Svizzera Italia\"}, {\"v\": \"Brand Exact\"}, {\"v\": \"Bravofly Exact\"}, {\"v\": \"[\\\"http://it.bravofly.ch/vg1/home.do?COBRANDED=GMADWORDCHI\\\"]\"}, {\"v\": 10.0}, {\"v\": 37}, {\"v\": 19}, {\"v\": 0.26}, {\"v\": 0.0}, {\"v\": null}]}, {\"c\": [{\"v\": \"bravo fly\"}, {\"v\": \"Exact\"}, {\"v\": \"Bravofly COM ROW\"}, {\"v\": \"Brand Exact\"}, {\"v\": \"Brand\"}, {\"v\": \"[\\\"http://www.bravofly.com/vg1/flights.do?COBRANDED=GMADWORDCOM\\\"]\"}, {\"v\": 10.0}, {\"v\": 358}, {\"v\": 137}, {\"v\": 3.39}, {\"v\": 4.0}, {\"v\": 0.8475}]}, {\"c\": [{\"v\": \"bravo fly\"}, {\"v\": \"Exact\"}, {\"v\": \"BravoFly.com\"}, {\"v\": \"Brand Croazia Exact\"}, {\"v\": \"Brand Mssp\"}, {\"v\": \"[\\\"http://www.bravofly.com?COBRANDED=GMADWORDCOM\\\"]\"}, {\"v\": 8.0}, {\"v\": 27}, {\"v\": 13}, {\"v\": 0.14}, {\"v\": 1.0}, {\"v\": 0.14}]}, {\"c\": [{\"v\": \"bravo fly\"}, {\"v\": \"Exact\"}, {\"v\": \"Bravofly Austria\"}, {\"v\": \"Brand Exact\"}, {\"v\": \"Bravofly Misspellings\"}, {\"v\": \"[\\\"http://www.bravofly.at/vg1/home.do?COBRANDED=GMADWORDA\\\"]\"}, {\"v\": 10.0}, {\"v\": 50}, {\"v\": 21}, {\"v\": 0.27}, {\"v\": 2.0}, {\"v\": 0.135}]}, {\"c\": [{\"v\": \"bravo fly\"}, {\"v\": \"Exact\"}, {\"v\": \"BravoFly.com\"}, {\"v\": \"Brand SK Exact\"}, {\"v\": \"Brand Mssp\"}, {\"v\": \"[\\\"http://www.bravofly.com?COBRANDED=GMADWORDCOM\\\"]\"}, {\"v\": 8.0}, {\"v\": 4}, {\"v\": 3}, {\"v\": 0.03}, {\"v\": 0.0}, {\"v\": null}]}, {\"c\": [{\"v\": \"bravo fly\"}, {\"v\": \"Exact\"}, {\"v\": \"BravoFly.com\"}, {\"v\": \"Brand Netherlands Exact\"}, {\"v\": \"Brand Mssp\"}, {\"v\": \"[\\\"http://www.bravofly.com/vg1/flights.do?COBRANDED=GMADWORDCOM\\\"]\"}, {\"v\": 10.0}, {\"v\": 59}, {\"v\": 23}, {\"v\": 0.23}, {\"v\": 3.0}, {\"v\": 0.07666666666666667}]}, {\"c\": [{\"v\": \"bravo fly\"}, {\"v\": \"Exact\"}, {\"v\": \"BravoFly DE\"}, {\"v\": \"Brand Exact ROW\"}, {\"v\": \"Brand Misspellings\"}, {\"v\": \"[\\\"http://www.bravofly.de/vg1/flug.do?COBRANDED=GMADWORDDE&sembox_content=[{KeyWord:Brand%20Misspellings}]\\\"]\"}, {\"v\": 10.0}, {\"v\": 42}, {\"v\": 12}, {\"v\": 1.5}, {\"v\": 1.0}, {\"v\": 1.5}]}, {\"c\": [{\"v\": \"bravo fly\"}, {\"v\": \"Exact\"}, {\"v\": \"BravoFly.com\"}, {\"v\": \"Brand Singapore Exact\"}, {\"v\": \"Brand Mssp\"}, {\"v\": \"[\\\"http://www.bravofly.com.sg/?COBRANDED=GMADWORDSG\\\"]\"}, {\"v\": 10.0}, {\"v\": 34}, {\"v\": 11}, {\"v\": 0.28}, {\"v\": 0.0}, {\"v\": null}]}, {\"c\": [{\"v\": \"bravo fly\"}, {\"v\": \"Exact\"}, {\"v\": \"BravoFly.com\"}, {\"v\": \"Brand Finlandia - Exact\"}, {\"v\": \"Brand Mssp\"}, {\"v\": \"[\\\"http://www.bravofly.fi/vg1/home.do?COBRANDED=GMADWORDFI\\\"]\"}, {\"v\": 10.0}, {\"v\": 39}, {\"v\": 29}, {\"v\": 0.43}, {\"v\": 2.0}, {\"v\": 0.215}]}, {\"c\": [{\"v\": \"bravo fly\"}, {\"v\": \"Exact\"}, {\"v\": \"BravoFly DK+SE\"}, {\"v\": \"Brand Svezia\"}, {\"v\": \"Brand Mssp\"}, {\"v\": \"[\\\"http://www.bravofly.se/vg1/home.do?COBRANDED=GMADWORDSE\\\"]\"}, {\"v\": 10.0}, {\"v\": 178}, {\"v\": 86}, {\"v\": 2.22}, {\"v\": 7.0}, {\"v\": 0.31714285714285717}]}, {\"c\": [{\"v\": \"bravo fly\"}, {\"v\": \"Exact\"}, {\"v\": \"BravoFly.com\"}, {\"v\": \"Brand Rep. Ceca Exact\"}, {\"v\": \"Brand Mssp\"}, {\"v\": \"[\\\"http://www.bravofly.cz/vg1/home.do?COBRANDED=GMADWORDCZ\\\"]\"}, {\"v\": 8.0}, {\"v\": 12}, {\"v\": 6}, {\"v\": 0.31}, {\"v\": 0.0}, {\"v\": null}]}, {\"c\": [{\"v\": \"bravo fly\"}, {\"v\": \"Exact\"}, {\"v\": \"BravoFly.com\"}, {\"v\": \"Brand | AR Exact\"}, {\"v\": \"Brand Mssp\"}, {\"v\": \"[\\\"http://www.bravofly.com/vg1/flights.do?COBRANDED=GMADWORDCOM\\\"]\"}, {\"v\": 9.0}, {\"v\": 170}, {\"v\": 45}, {\"v\": 2.72}, {\"v\": 1.0}, {\"v\": 2.72}]}, {\"c\": [{\"v\": \"bravo fly\"}, {\"v\": \"Exact\"}, {\"v\": \"BravoFly.com\"}, {\"v\": \"Brand Romania Exact\"}, {\"v\": \"Brand Mssp\"}, {\"v\": \"[\\\"http://www.bravofly.ro/vg1/home.do?COBRANDED=GMADWORDRO\\\"]\"}, {\"v\": 10.0}, {\"v\": 70}, {\"v\": 38}, {\"v\": 0.44}, {\"v\": 0.0}, {\"v\": null}]}, {\"c\": [{\"v\": \"bravo fly\"}, {\"v\": \"Exact\"}, {\"v\": \"BravoFly.com\"}, {\"v\": \"Brand IE - Exact\"}, {\"v\": \"Brand Mssp\"}, {\"v\": \"[\\\"http://www.bravofly.com/vg1/flights.do?COBRANDED=GMADWORDCOM\\\"]\"}, {\"v\": 10.0}, {\"v\": 52}, {\"v\": 25}, {\"v\": 1.03}, {\"v\": 4.0}, {\"v\": 0.2575}]}, {\"c\": [{\"v\": \"bravo fly\"}, {\"v\": \"Exact\"}, {\"v\": \"BravoFly DK+SE\"}, {\"v\": \"Brand Danimarca\"}, {\"v\": \"Brand Mssp\"}, {\"v\": \"[\\\"http://www.bravofly.dk/vg1/home.do?COBRANDED=GMADWORDDK\\\"]\"}, {\"v\": 8.0}, {\"v\": 130}, {\"v\": 64}, {\"v\": 1.12}, {\"v\": 1.0}, {\"v\": 1.12}]}, {\"c\": [{\"v\": \"bravo fly\"}, {\"v\": \"Exact\"}, {\"v\": \"BravoFly.com\"}, {\"v\": \"Brand Islanda Exact\"}, {\"v\": \"Brand Mssp\"}, {\"v\": \"[\\\"http://www.bravofly.com?COBRANDED=GMADWORDCOM\\\"]\"}, {\"v\": 8.0}, {\"v\": 1}, {\"v\": 1}, {\"v\": 0.01}, {\"v\": 0.0}, {\"v\": null}]}, {\"c\": [{\"v\": \"bravo fly\"}, {\"v\": \"Exact\"}, {\"v\": \"BravoFly.com\"}, {\"v\": \"Brand Indonesia Exact\"}, {\"v\": \"Brand Mssp\"}, {\"v\": \"[\\\"http://www.bravofly.co.id/vg1/home.do?COBRANDED=GMADWORDID\\\"]\"}, {\"v\": 9.0}, {\"v\": 36}, {\"v\": 17}, {\"v\": 3.1}, {\"v\": 0.0}, {\"v\": null}]}, {\"c\": [{\"v\": \"bravo fly\"}, {\"v\": \"Exact\"}, {\"v\": \"BravoFly DE\"}, {\"v\": \"Brand Exact\"}, {\"v\": \"Brand Misspellings\"}, {\"v\": \"[\\\"http://www.bravofly.de/vg1/flug.do?{ifnotmobile:COBRANDED=GMADWORDDE}&{ifnotmobile:sembox_content=[{KeyWord:Brand%20Misspellings}]}&{ifmobile:ds_dest_url=http%3A%2F%2Fwww.bravofly.de%2Fvg1%2Fflug.do%3FCOBRANDED%3dADWORDIPHONEDE%26sembox_content%3d[{KeyWord:Brand%20Misspellings}]}\\\"]\"}, {\"v\": 10.0}, {\"v\": 626}, {\"v\": 338}, {\"v\": 17.0}, {\"v\": 10.0}, {\"v\": 1.7}]}, {\"c\": [{\"v\": \"bravo fly\"}, {\"v\": \"Exact\"}, {\"v\": \"Svizzera Germania\"}, {\"v\": \"Brand Exact\"}, {\"v\": \"Bravofly Misspellings\"}, {\"v\": \"[\\\"http://de.bravofly.ch/vg1/home.do?COBRANDED=GMADWORDCHD\\\"]\"}, {\"v\": 10.0}, {\"v\": 78}, {\"v\": 44}, {\"v\": 1.9}, {\"v\": 0.0}, {\"v\": null}]}, {\"c\": [{\"v\": \"bravo fly\"}, {\"v\": \"Exact\"}, {\"v\": \"BravoFly UK\"}, {\"v\": \"Brand UK - Exact\"}, {\"v\": \"Brand\"}, {\"v\": \"[\\\"http://www.bravofly.co.uk?COBRANDED=BFADWORDCOUK\\\"]\"}, {\"v\": 10.0}, {\"v\": 1172}, {\"v\": 584}, {\"v\": 100.74}, {\"v\": 14.0}, {\"v\": 7.195714285714286}]}, {\"c\": [{\"v\": \"bravo fly\"}, {\"v\": \"Exact\"}, {\"v\": \"BravoFly.com\"}, {\"v\": \"Brand Turchia Exact\"}, {\"v\": \"Brand Mssp\"}, {\"v\": \"[\\\"http://www.bravofly.com.tr/vg1/home.do?COBRANDED=GMADWORDTR\\\"]\"}, {\"v\": 10.0}, {\"v\": 63}, {\"v\": 28}, {\"v\": 0.83}, {\"v\": 0.0}, {\"v\": null}]}, {\"c\": [{\"v\": \"bravo fly\"}, {\"v\": \"Exact\"}, {\"v\": \"Bravofly USA (new)\"}, {\"v\": \"Brand Australia Exact\"}, {\"v\": \"Brand\"}, {\"v\": \"[\\\"http://www.bravofly.com.au/vg1/home.do?COBRANDED=GMADWORDAU\\\"]\"}, {\"v\": 10.0}, {\"v\": 328}, {\"v\": 151}, {\"v\": 9.22}, {\"v\": 13.0}, {\"v\": 0.7092307692307692}]}], \"cols\": [{\"type\": \"string\", \"id\": \"Criteria\", \"label\": \"Criteria\"}, {\"type\": \"string\", \"id\": \"KeywordMatchType\", \"label\": \"KeywordMatchType\"}, {\"type\": \"string\", \"id\": \"AccountDescriptiveName\", \"label\": \"AccountDescriptiveName\"}, {\"type\": \"string\", \"id\": \"CampaignName\", \"label\": \"CampaignName\"}, {\"type\": \"string\", \"id\": \"AdGroupName\", \"label\": \"AdGroupName\"}, {\"type\": \"string\", \"id\": \"Urls\", \"label\": \"Urls\"}, {\"type\": \"number\", \"id\": \"AprilQualityScore\", \"label\": \"AprilQualityScore\"}, {\"type\": \"number\", \"id\": \"Impressions\", \"label\": \"Impressions\"}, {\"type\": \"number\", \"id\": \"Clicks\", \"label\": \"Clicks\"}, {\"type\": \"number\", \"id\": \"Cost\", \"label\": \"Cost\"}, {\"type\": \"number\", \"id\": \"AllConversions\", \"label\": \"AllConversions\"}, {\"type\": \"number\", \"id\": \"CostPerAllConversion\", \"label\": \"CostPerAllConversion\"}]});\n",
       "        }\n",
       "      );\n",
       "    </script>\n",
       "  "
      ],
      "text/plain": [
       "QueryResultsTable job_b8qL6spfRqhgRLBaoebA5YgUvL4"
      ]
     },
     "execution_count": 70,
     "metadata": {},
     "output_type": "execute_result"
    }
   ],
   "source": [
    "%sql\n",
    "SELECT\n",
    "  Criteria,\n",
    "  KeywordMatchType,\n",
    "  AccountDescriptiveName,\n",
    "  CampaignName,\n",
    "  AdGroupName,\n",
    "  IF(CriteriaDestinationUrl != ' --',CriteriaDestinationUrl,FinalUrls) as Urls,\n",
    "  AVG(QualityScore) as AprilQualityScore,\n",
    "  SUM(Impressions) as Impressions,\n",
    "  SUM(Clicks) as Clicks,\n",
    "  SUM(Cost)/1000000 as Cost,\n",
    "  SUM(AllConversions) as AllConversions,\n",
    "  SUM(Cost)/SUM(AllConversions)/1000000 as CostPerAllConversion\n",
    "FROM\n",
    " [google.com:ddm-connectors-demo:aw_dataset.KEYWORDS_PERFORMANCE_ANALYTICS]\n",
    "WHERE True\n",
    "AND  AdNetworkType2 = 'Google search' \n",
    "AND NOT IsNegative \n",
    "AND Status = 'enabled' AND AdGroupStatus = 'enabled' AND CampaignStatus = 'enabled'\n",
    "AND Month = '2016-04-01'\n",
    "AND Criteria = 'bravo fly' AND KeywordMatchType = 'Exact'\n",
    "GROUP BY 1,2,3,4,5,6"
   ]
  },
  {
   "cell_type": "code",
   "execution_count": null,
   "metadata": {
    "collapsed": true
   },
   "outputs": [],
   "source": []
  }
 ],
 "metadata": {
  "kernelspec": {
   "display_name": "Python 2",
   "language": "python",
   "name": "python2"
  },
  "language_info": {
   "codemirror_mode": {
    "name": "ipython",
    "version": 2
   },
   "file_extension": ".py",
   "mimetype": "text/x-python",
   "name": "python",
   "nbconvert_exporter": "python",
   "pygments_lexer": "ipython2",
   "version": "2.7.9"
  }
 },
 "nbformat": 4,
 "nbformat_minor": 0
}
