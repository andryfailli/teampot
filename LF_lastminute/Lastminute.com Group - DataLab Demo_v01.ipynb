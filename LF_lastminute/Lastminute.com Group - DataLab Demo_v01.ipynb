{
 "cells": [
  {
   "cell_type": "markdown",
   "metadata": {},
   "source": [
    "# Preminary operations\n",
    "\n",
    "Let us start by importing the relevant packages"
   ]
  },
  {
   "cell_type": "code",
   "execution_count": 1,
   "metadata": {
    "collapsed": true
   },
   "outputs": [],
   "source": [
    "import gcp.bigquery as bq\n",
    "import pandas as pd\n",
    "import matplotlib.pylab as plt\n",
    "import numpy as np\n",
    "import seaborn as sn"
   ]
  },
  {
   "cell_type": "markdown",
   "metadata": {},
   "source": [
    "## Let us explore the dataset"
   ]
  },
  {
   "cell_type": "code",
   "execution_count": 4,
   "metadata": {
    "collapsed": false
   },
   "outputs": [
    {
     "data": {
      "text/html": [
       "\n",
       "    <div class=\"bqtv\" id=\"3_146436206788\"><table><tr><th>project_id</th><th>dataset_id</th><th>table_id</th><th>creation_time</th><th>last_modified_time</th><th>row_count</th><th>size_bytes</th><th>type</th></tr><tr><td>google.com:ddm-connectors-demo</td><td>aw_dataset</td><td>ACCOUNT_PERFORMANCE_DEVICE</td><td>1462865492924</td><td>1462865646222</td><td>344872</td><td>213766803</td><td>1</td></tr><tr><td>google.com:ddm-connectors-demo</td><td>aw_dataset</td><td>ACCOUNT_PERFORMANCE_HOUR_OF_DAY</td><td>1462866241157</td><td>1462868328687</td><td>7585976</td><td>4293195830</td><td>1</td></tr><tr><td>google.com:ddm-connectors-demo</td><td>aw_dataset</td><td>CAMPAIGN_PERFORMANCE_DEVICE</td><td>1462882853869</td><td>1462884926720</td><td>12818403</td><td>11156943261</td><td>1</td></tr><tr><td>google.com:ddm-connectors-demo</td><td>aw_dataset</td><td>CAMPAIGN_PERFORMANCE_GA</td><td>1462886351515</td><td>1462888587490</td><td>12818403</td><td>11092304675</td><td>1</td></tr><tr><td>google.com:ddm-connectors-demo</td><td>aw_dataset</td><td>CAMPAIGN_PERFORMANCE_HOUR_OF_DAY</td><td>1462890199029</td><td>1462910444516</td><td>149020493</td><td>120843835228</td><td>1</td></tr><tr><td>google.com:ddm-connectors-demo</td><td>aw_dataset</td><td>KEYWORDS_PERFORMANCE_ANALYTICS</td><td>1462965362235</td><td>1463059120058</td><td>295426051</td><td>435427263267</td><td>1</td></tr><tr><td>google.com:ddm-connectors-demo</td><td>aw_dataset</td><td>KEYWORDS_PERFORMANCE_DEVICE</td><td>1463050362280</td><td>1463408383328</td><td>447387461</td><td>631380449113</td><td>1</td></tr></table></div>\n",
       "    <br />(rows: 7, time: 0.5s, cached, job: job_qf6G192jTNT95k-1q9fpvE2GrbI)<br />\n",
       "    <script>\n",
       "      require(['extensions/charting', 'element!3_146436206788', 'style!/static/extensions/charting.css'],\n",
       "        function(charts, dom) {\n",
       "          charts.render(dom,\n",
       "            {\n",
       "              chartStyle:\"table\",\n",
       "              dataName:\"0\",\n",
       "              fields:\"project_id,dataset_id,table_id,creation_time,last_modified_time,row_count,size_bytes,type\",\n",
       "              totalRows:7,\n",
       "              rowsPerPage:25,\n",
       "            }, {}, {\"rows\": [{\"c\": [{\"v\": \"google.com:ddm-connectors-demo\"}, {\"v\": \"aw_dataset\"}, {\"v\": \"ACCOUNT_PERFORMANCE_DEVICE\"}, {\"v\": 1462865492924}, {\"v\": 1462865646222}, {\"v\": 344872}, {\"v\": 213766803}, {\"v\": 1}]}, {\"c\": [{\"v\": \"google.com:ddm-connectors-demo\"}, {\"v\": \"aw_dataset\"}, {\"v\": \"ACCOUNT_PERFORMANCE_HOUR_OF_DAY\"}, {\"v\": 1462866241157}, {\"v\": 1462868328687}, {\"v\": 7585976}, {\"v\": 4293195830}, {\"v\": 1}]}, {\"c\": [{\"v\": \"google.com:ddm-connectors-demo\"}, {\"v\": \"aw_dataset\"}, {\"v\": \"CAMPAIGN_PERFORMANCE_DEVICE\"}, {\"v\": 1462882853869}, {\"v\": 1462884926720}, {\"v\": 12818403}, {\"v\": 11156943261}, {\"v\": 1}]}, {\"c\": [{\"v\": \"google.com:ddm-connectors-demo\"}, {\"v\": \"aw_dataset\"}, {\"v\": \"CAMPAIGN_PERFORMANCE_GA\"}, {\"v\": 1462886351515}, {\"v\": 1462888587490}, {\"v\": 12818403}, {\"v\": 11092304675}, {\"v\": 1}]}, {\"c\": [{\"v\": \"google.com:ddm-connectors-demo\"}, {\"v\": \"aw_dataset\"}, {\"v\": \"CAMPAIGN_PERFORMANCE_HOUR_OF_DAY\"}, {\"v\": 1462890199029}, {\"v\": 1462910444516}, {\"v\": 149020493}, {\"v\": 120843835228}, {\"v\": 1}]}, {\"c\": [{\"v\": \"google.com:ddm-connectors-demo\"}, {\"v\": \"aw_dataset\"}, {\"v\": \"KEYWORDS_PERFORMANCE_ANALYTICS\"}, {\"v\": 1462965362235}, {\"v\": 1463059120058}, {\"v\": 295426051}, {\"v\": 435427263267}, {\"v\": 1}]}, {\"c\": [{\"v\": \"google.com:ddm-connectors-demo\"}, {\"v\": \"aw_dataset\"}, {\"v\": \"KEYWORDS_PERFORMANCE_DEVICE\"}, {\"v\": 1463050362280}, {\"v\": 1463408383328}, {\"v\": 447387461}, {\"v\": 631380449113}, {\"v\": 1}]}], \"cols\": [{\"type\": \"string\", \"id\": \"project_id\", \"label\": \"project_id\"}, {\"type\": \"string\", \"id\": \"dataset_id\", \"label\": \"dataset_id\"}, {\"type\": \"string\", \"id\": \"table_id\", \"label\": \"table_id\"}, {\"type\": \"number\", \"id\": \"creation_time\", \"label\": \"creation_time\"}, {\"type\": \"number\", \"id\": \"last_modified_time\", \"label\": \"last_modified_time\"}, {\"type\": \"number\", \"id\": \"row_count\", \"label\": \"row_count\"}, {\"type\": \"number\", \"id\": \"size_bytes\", \"label\": \"size_bytes\"}, {\"type\": \"number\", \"id\": \"type\", \"label\": \"type\"}]});\n",
       "        }\n",
       "      );\n",
       "    </script>\n",
       "  "
      ],
      "text/plain": [
       "QueryResultsTable job_qf6G192jTNT95k-1q9fpvE2GrbI"
      ]
     },
     "execution_count": 4,
     "metadata": {},
     "output_type": "execute_result"
    }
   ],
   "source": [
    "%%sql \n",
    "SELECT * FROM [google.com:ddm-connectors-demo:aw_dataset.__TABLES__];"
   ]
  },
  {
   "cell_type": "markdown",
   "metadata": {},
   "source": [
    "## Lest us explore the table KEYWORDS_PERFORMANCE_ANALYTICS"
   ]
  },
  {
   "cell_type": "code",
   "execution_count": 5,
   "metadata": {
    "collapsed": false
   },
   "outputs": [
    {
     "data": {
      "text/html": [
       "\n",
       "    <div class=\"bqsv\" id=\"4_146436207012\"></div>\n",
       "    <script>\n",
       "      require(['extensions/bigquery', 'element!4_146436207012', 'style!/static/extensions/bigquery.css'],\n",
       "        function(bq, dom) {\n",
       "          bq.renderSchema(dom, [{\"type\": \"STRING\", \"name\": \"AccountCurrencyCode\"}, {\"type\": \"STRING\", \"name\": \"AccountDescriptiveName\"}, {\"type\": \"STRING\", \"name\": \"AccountTimeZoneId\"}, {\"type\": \"INTEGER\", \"name\": \"ActiveViewCpm\"}, {\"type\": \"STRING\", \"name\": \"ActiveViewCtr\"}, {\"type\": \"INTEGER\", \"name\": \"ActiveViewImpressions\"}, {\"type\": \"STRING\", \"name\": \"ActiveViewMeasurability\"}, {\"type\": \"INTEGER\", \"name\": \"ActiveViewMeasurableCost\"}, {\"type\": \"INTEGER\", \"name\": \"ActiveViewMeasurableImpressions\"}, {\"type\": \"STRING\", \"name\": \"ActiveViewViewability\"}, {\"type\": \"INTEGER\", \"name\": \"AdGroupId\"}, {\"type\": \"STRING\", \"name\": \"AdGroupName\"}, {\"type\": \"STRING\", \"name\": \"AdGroupStatus\"}, {\"type\": \"STRING\", \"name\": \"AdNetworkType1\"}, {\"type\": \"STRING\", \"name\": \"AdNetworkType2\"}, {\"type\": \"STRING\", \"name\": \"AllConversionRate\"}, {\"type\": \"FLOAT\", \"name\": \"AllConversions\"}, {\"type\": \"FLOAT\", \"name\": \"AllConversionValue\"}, {\"type\": \"STRING\", \"name\": \"ApprovalStatus\"}, {\"type\": \"INTEGER\", \"name\": \"AverageCost\"}, {\"type\": \"INTEGER\", \"name\": \"AverageCpc\"}, {\"type\": \"INTEGER\", \"name\": \"AverageCpe\"}, {\"type\": \"INTEGER\", \"name\": \"AverageCpm\"}, {\"type\": \"INTEGER\", \"name\": \"AverageCpv\"}, {\"type\": \"FLOAT\", \"name\": \"AveragePageviews\"}, {\"type\": \"FLOAT\", \"name\": \"AveragePosition\"}, {\"type\": \"INTEGER\", \"name\": \"AverageTimeOnSite\"}, {\"type\": \"INTEGER\", \"name\": \"BaseAdGroupId\"}, {\"type\": \"INTEGER\", \"name\": \"BaseCampaignId\"}, {\"type\": \"INTEGER\", \"name\": \"BiddingStrategyId\"}, {\"type\": \"STRING\", \"name\": \"BiddingStrategyName\"}, {\"type\": \"STRING\", \"name\": \"BiddingStrategySource\"}, {\"type\": \"STRING\", \"name\": \"BiddingStrategyType\"}, {\"type\": \"STRING\", \"name\": \"BidType\"}, {\"type\": \"STRING\", \"name\": \"BounceRate\"}, {\"type\": \"INTEGER\", \"name\": \"CampaignId\"}, {\"type\": \"STRING\", \"name\": \"CampaignName\"}, {\"type\": \"STRING\", \"name\": \"CampaignStatus\"}, {\"type\": \"FLOAT\", \"name\": \"ClickAssistedConversionsOverLastClickConversions\"}, {\"type\": \"FLOAT\", \"name\": \"ClickAssistedConversionValue\"}, {\"type\": \"STRING\", \"name\": \"ClickConversionRate\"}, {\"type\": \"INTEGER\", \"name\": \"Clicks\"}, {\"type\": \"STRING\", \"name\": \"ConversionRate\"}, {\"type\": \"FLOAT\", \"name\": \"Conversions\"}, {\"type\": \"FLOAT\", \"name\": \"ConversionValue\"}, {\"type\": \"INTEGER\", \"name\": \"ConvertedClicks\"}, {\"type\": \"INTEGER\", \"name\": \"Cost\"}, {\"type\": \"INTEGER\", \"name\": \"CostPerAllConversion\"}, {\"type\": \"INTEGER\", \"name\": \"CostPerConversion\"}, {\"type\": \"INTEGER\", \"name\": \"CostPerConvertedClick\"}, {\"type\": \"STRING\", \"name\": \"CpcBid\"}, {\"type\": \"STRING\", \"name\": \"CpcBidSource\"}, {\"type\": \"STRING\", \"name\": \"CpmBid\"}, {\"type\": \"STRING\", \"name\": \"CreativeQualityScore\"}, {\"type\": \"STRING\", \"name\": \"Criteria\"}, {\"type\": \"STRING\", \"name\": \"CriteriaDestinationUrl\"}, {\"type\": \"FLOAT\", \"name\": \"CrossDeviceConversions\"}, {\"type\": \"STRING\", \"name\": \"Ctr\"}, {\"type\": \"STRING\", \"name\": \"CustomerDescriptiveName\"}, {\"type\": \"STRING\", \"name\": \"Date\"}, {\"type\": \"STRING\", \"name\": \"DayOfWeek\"}, {\"type\": \"STRING\", \"name\": \"EngagementRate\"}, {\"type\": \"INTEGER\", \"name\": \"Engagements\"}, {\"type\": \"BOOLEAN\", \"name\": \"EnhancedCpcEnabled\"}, {\"type\": \"STRING\", \"name\": \"EstimatedAddClicksAtFirstPositionCpc\"}, {\"type\": \"STRING\", \"name\": \"EstimatedAddCostAtFirstPositionCpc\"}, {\"type\": \"INTEGER\", \"name\": \"ExternalCustomerId\"}, {\"type\": \"STRING\", \"name\": \"FinalAppUrls\"}, {\"type\": \"STRING\", \"name\": \"FinalMobileUrls\"}, {\"type\": \"STRING\", \"name\": \"FinalUrls\"}, {\"type\": \"INTEGER\", \"name\": \"FirstPageCpc\"}, {\"type\": \"INTEGER\", \"name\": \"FirstPositionCpc\"}, {\"type\": \"INTEGER\", \"name\": \"GmailForwards\"}, {\"type\": \"INTEGER\", \"name\": \"GmailSaves\"}, {\"type\": \"INTEGER\", \"name\": \"GmailSecondaryClicks\"}, {\"type\": \"INTEGER\", \"name\": \"Id\"}, {\"type\": \"INTEGER\", \"name\": \"ImpressionAssistedConversions\"}, {\"type\": \"FLOAT\", \"name\": \"ImpressionAssistedConversionsOverLastClickConversions\"}, {\"type\": \"FLOAT\", \"name\": \"ImpressionAssistedConversionValue\"}, {\"type\": \"INTEGER\", \"name\": \"Impressions\"}, {\"type\": \"STRING\", \"name\": \"InteractionRate\"}, {\"type\": \"INTEGER\", \"name\": \"Interactions\"}, {\"type\": \"BOOLEAN\", \"name\": \"IsNegative\"}, {\"type\": \"STRING\", \"name\": \"KeywordMatchType\"}, {\"type\": \"STRING\", \"name\": \"LabelIds\"}, {\"type\": \"STRING\", \"name\": \"Labels\"}, {\"type\": \"STRING\", \"name\": \"Month\"}, {\"type\": \"STRING\", \"name\": \"MonthOfYear\"}, {\"type\": \"STRING\", \"name\": \"PercentNewVisitors\"}, {\"type\": \"STRING\", \"name\": \"PostClickQualityScore\"}, {\"type\": \"STRING\", \"name\": \"PrimaryCompanyName\"}, {\"type\": \"INTEGER\", \"name\": \"QualityScore\"}, {\"type\": \"STRING\", \"name\": \"Quarter\"}, {\"type\": \"STRING\", \"name\": \"SearchExactMatchImpressionShare\"}, {\"type\": \"STRING\", \"name\": \"SearchImpressionShare\"}, {\"type\": \"STRING\", \"name\": \"SearchPredictedCtr\"}, {\"type\": \"STRING\", \"name\": \"SearchRankLostImpressionShare\"}, {\"type\": \"STRING\", \"name\": \"Status\"}, {\"type\": \"STRING\", \"name\": \"SystemServingStatus\"}, {\"type\": \"INTEGER\", \"name\": \"TopOfPageCpc\"}, {\"type\": \"STRING\", \"name\": \"TrackingUrlTemplate\"}, {\"type\": \"STRING\", \"name\": \"UrlCustomParameters\"}, {\"type\": \"FLOAT\", \"name\": \"ValuePerAllConversion\"}, {\"type\": \"FLOAT\", \"name\": \"ValuePerConversion\"}, {\"type\": \"FLOAT\", \"name\": \"ValuePerConvertedClick\"}, {\"type\": \"STRING\", \"name\": \"VideoQuartile100Rate\"}, {\"type\": \"STRING\", \"name\": \"VideoQuartile25Rate\"}, {\"type\": \"STRING\", \"name\": \"VideoQuartile50Rate\"}, {\"type\": \"STRING\", \"name\": \"VideoQuartile75Rate\"}, {\"type\": \"STRING\", \"name\": \"VideoViewRate\"}, {\"type\": \"INTEGER\", \"name\": \"VideoViews\"}, {\"type\": \"INTEGER\", \"name\": \"ViewThroughConversions\"}, {\"type\": \"STRING\", \"name\": \"Week\"}, {\"type\": \"INTEGER\", \"name\": \"Year\"}]);\n",
       "        }\n",
       "      );\n",
       "    </script>\n",
       "    "
      ],
      "text/plain": [
       "<IPython.core.display.HTML object>"
      ]
     },
     "execution_count": 5,
     "metadata": {},
     "output_type": "execute_result"
    }
   ],
   "source": [
    "%bigquery schema --table google.com:ddm-connectors-demo:aw_dataset.KEYWORDS_PERFORMANCE_ANALYTICS"
   ]
  },
  {
   "cell_type": "markdown",
   "metadata": {},
   "source": [
    "## Let us see how the data look like"
   ]
  },
  {
   "cell_type": "code",
   "execution_count": 6,
   "metadata": {
    "collapsed": false
   },
   "outputs": [
    {
     "data": {
      "text/html": [
       "\n",
       "    <div class=\"bqtv\" id=\"5_146436208044\"><table><tr><th>AccountCurrencyCode</th><th>AccountDescriptiveName</th><th>AccountTimeZoneId</th><th>ActiveViewCpm</th><th>ActiveViewCtr</th><th>ActiveViewImpressions</th><th>ActiveViewMeasurability</th><th>ActiveViewMeasurableCost</th><th>ActiveViewMeasurableImpressions</th><th>ActiveViewViewability</th><th>AdGroupId</th><th>AdGroupName</th><th>AdGroupStatus</th><th>AdNetworkType1</th><th>AdNetworkType2</th><th>AllConversionRate</th><th>AllConversions</th><th>AllConversionValue</th><th>ApprovalStatus</th><th>AverageCost</th><th>AverageCpc</th><th>AverageCpe</th><th>AverageCpm</th><th>AverageCpv</th><th>AveragePageviews</th><th>AveragePosition</th><th>AverageTimeOnSite</th><th>BaseAdGroupId</th><th>BaseCampaignId</th><th>BiddingStrategyId</th><th>BiddingStrategyName</th><th>BiddingStrategySource</th><th>BiddingStrategyType</th><th>BidType</th><th>BounceRate</th><th>CampaignId</th><th>CampaignName</th><th>CampaignStatus</th><th>ClickAssistedConversionsOverLastClickConversions</th><th>ClickAssistedConversionValue</th><th>ClickConversionRate</th><th>Clicks</th><th>ConversionRate</th><th>Conversions</th><th>ConversionValue</th><th>ConvertedClicks</th><th>Cost</th><th>CostPerAllConversion</th><th>CostPerConversion</th><th>CostPerConvertedClick</th><th>CpcBid</th><th>CpcBidSource</th><th>CpmBid</th><th>CreativeQualityScore</th><th>Criteria</th><th>CriteriaDestinationUrl</th><th>CrossDeviceConversions</th><th>Ctr</th><th>CustomerDescriptiveName</th><th>Date</th><th>DayOfWeek</th><th>EngagementRate</th><th>Engagements</th><th>EnhancedCpcEnabled</th><th>EstimatedAddClicksAtFirstPositionCpc</th><th>EstimatedAddCostAtFirstPositionCpc</th><th>ExternalCustomerId</th><th>FinalAppUrls</th><th>FinalMobileUrls</th><th>FinalUrls</th><th>FirstPageCpc</th><th>FirstPositionCpc</th><th>GmailForwards</th><th>GmailSaves</th><th>GmailSecondaryClicks</th><th>Id</th><th>ImpressionAssistedConversions</th><th>ImpressionAssistedConversionsOverLastClickConversions</th><th>ImpressionAssistedConversionValue</th><th>Impressions</th><th>InteractionRate</th><th>Interactions</th><th>IsNegative</th><th>KeywordMatchType</th><th>LabelIds</th><th>Labels</th><th>Month</th><th>MonthOfYear</th><th>PercentNewVisitors</th><th>PostClickQualityScore</th><th>PrimaryCompanyName</th><th>QualityScore</th><th>Quarter</th><th>SearchExactMatchImpressionShare</th><th>SearchImpressionShare</th><th>SearchPredictedCtr</th><th>SearchRankLostImpressionShare</th><th>Status</th><th>SystemServingStatus</th><th>TopOfPageCpc</th><th>TrackingUrlTemplate</th><th>UrlCustomParameters</th><th>ValuePerAllConversion</th><th>ValuePerConversion</th><th>ValuePerConvertedClick</th><th>VideoQuartile100Rate</th><th>VideoQuartile25Rate</th><th>VideoQuartile50Rate</th><th>VideoQuartile75Rate</th><th>VideoViewRate</th><th>VideoViews</th><th>ViewThroughConversions</th><th>Week</th><th>Year</th></tr><tr><td>EUR</td><td>Bravofly Russia Voli</td><td>(GMT+01:00) Rome</td><td>0</td><td>0.00%</td><td>0</td><td>0.00%</td><td>0</td><td>0</td><td>0.00%</td><td>10139184698</td><td>Volagratis</td><td>enabled</td><td>Search Network</td><td>Google search</td><td>0.00%</td><td>0.0</td><td>0.0</td><td> --</td><td>0</td><td>0</td><td>0</td><td>0</td><td>0</td><td>0.0</td><td>2.7</td><td>0</td><td>10139184698</td><td>108030218</td><td>0</td><td> --</td><td>campaign</td><td>cpc</td><td> --</td><td>0.00%</td><td>108030218</td><td>Brand_RU_Broad</td><td>enabled</td><td>0.0</td><td>0.0</td><td>0.00%</td><td>0</td><td>0.00%</td><td>0.0</td><td>0.0</td><td>0</td><td>0</td><td>0</td><td>0</td><td>0</td><td> --</td><td> --</td><td> --</td><td>Not applicable</td><td>vola gratis</td><td> --</td><td>0.0</td><td>0.00%</td><td>Bravofly Russia Voli</td><td>2015-07-11</td><td>Saturday</td><td>0.00%</td><td>0</td><td>False</td><td> --</td><td> --</td><td>9837210897</td><td> --</td><td> --</td><td> --</td><td>0</td><td>0</td><td>0</td><td>0</td><td>0</td><td>297004287</td><td>0</td><td>0.0</td><td>0.0</td><td>3</td><td>0.00%</td><td>0</td><td>False</td><td>Broad</td><td> --</td><td> --</td><td>2015-07-01</td><td>July</td><td>0.00%</td><td>Not applicable</td><td>Red Universal de Marketing y Bookings On Line, S.A.</td><td>0</td><td>2015-07-01</td><td> --</td><td>75.00%</td><td>Not applicable</td><td>25.00%</td><td>removed</td><td> --</td><td>0</td><td> --</td><td> --</td><td>0.0</td><td>0.0</td><td>0.0</td><td>0.00%</td><td>0.00%</td><td>0.00%</td><td>0.00%</td><td>0.00%</td><td>0</td><td>0</td><td>2015-07-06</td><td>2015</td></tr><tr><td>EUR</td><td>Bravofly Russia Voli</td><td>(GMT+01:00) Rome</td><td>0</td><td>0.00%</td><td>0</td><td>0.00%</td><td>0</td><td>0</td><td>0.00%</td><td>3639849698</td><td>Bravoavia</td><td>enabled</td><td>Search Network</td><td>Google search</td><td>0.00%</td><td>0.0</td><td>0.0</td><td> --</td><td>0</td><td>0</td><td>0</td><td>0</td><td>0</td><td>0.0</td><td>1.0</td><td>0</td><td>3639849698</td><td>108030218</td><td>0</td><td> --</td><td>campaign</td><td>cpc</td><td> --</td><td>0.00%</td><td>108030218</td><td>Brand_RU_Broad</td><td>enabled</td><td>0.0</td><td>0.0</td><td>0.00%</td><td>0</td><td>0.00%</td><td>0.0</td><td>0.0</td><td>0</td><td>0</td><td>0</td><td>0</td><td>0</td><td> --</td><td> --</td><td> --</td><td>Not applicable</td><td>bravoavia ru</td><td> --</td><td>0.0</td><td>0.00%</td><td>Bravofly Russia Voli</td><td>2015-02-10</td><td>Tuesday</td><td>0.00%</td><td>0</td><td>False</td><td> --</td><td> --</td><td>9837210897</td><td> --</td><td> --</td><td> --</td><td>0</td><td>0</td><td>0</td><td>0</td><td>0</td><td>29069313846</td><td>0</td><td>0.0</td><td>0.0</td><td>1</td><td>0.00%</td><td>0</td><td>False</td><td>Broad</td><td> --</td><td> --</td><td>2015-02-01</td><td>February</td><td>0.00%</td><td>Not applicable</td><td>Red Universal de Marketing y Bookings On Line, S.A.</td><td>0</td><td>2015-01-01</td><td> --</td><td>100.00%</td><td>Not applicable</td><td>0.00%</td><td>removed</td><td> --</td><td>0</td><td> --</td><td> --</td><td>0.0</td><td>0.0</td><td>0.0</td><td>0.00%</td><td>0.00%</td><td>0.00%</td><td>0.00%</td><td>0.00%</td><td>0</td><td>0</td><td>2015-02-09</td><td>2015</td></tr><tr><td>EUR</td><td>Bravofly Russia Voli</td><td>(GMT+01:00) Rome</td><td>0</td><td>0.00%</td><td>0</td><td>0.00%</td><td>0</td><td>0</td><td>0.00%</td><td>3639849698</td><td>Bravoavia</td><td>enabled</td><td>Search Network</td><td>Google search</td><td>0.00%</td><td>0.0</td><td>0.0</td><td> --</td><td>0</td><td>0</td><td>0</td><td>0</td><td>0</td><td>5.0</td><td>0.0</td><td>158</td><td>3639849698</td><td>108030218</td><td>0</td><td> --</td><td>campaign</td><td>cpc</td><td> --</td><td>0.00%</td><td>108030218</td><td>Brand_RU_Broad</td><td>enabled</td><td>0.0</td><td>0.0</td><td>0.00%</td><td>0</td><td>0.00%</td><td>0.0</td><td>0.0</td><td>0</td><td>0</td><td>0</td><td>0</td><td>0</td><td> --</td><td> --</td><td> --</td><td>Not applicable</td><td>bravo avia</td><td> --</td><td>0.0</td><td>0.00%</td><td>Bravofly Russia Voli</td><td>2015-09-28</td><td>Monday</td><td>0.00%</td><td>0</td><td>False</td><td> --</td><td> --</td><td>9837210897</td><td> --</td><td> --</td><td> --</td><td>0</td><td>0</td><td>0</td><td>0</td><td>0</td><td>36970545128</td><td>0</td><td>0.0</td><td>0.0</td><td>0</td><td>0.00%</td><td>0</td><td>False</td><td>Broad</td><td> --</td><td> --</td><td>2015-09-01</td><td>September</td><td>0.00%</td><td>Not applicable</td><td>Red Universal de Marketing y Bookings On Line, S.A.</td><td>0</td><td>2015-07-01</td><td> --</td><td> --</td><td>Not applicable</td><td> --</td><td>removed</td><td> --</td><td>0</td><td> --</td><td> --</td><td>0.0</td><td>0.0</td><td>0.0</td><td>0.00%</td><td>0.00%</td><td>0.00%</td><td>0.00%</td><td>0.00%</td><td>0</td><td>0</td><td>2015-09-28</td><td>2015</td></tr><tr><td>EUR</td><td>Bravofly Russia Voli</td><td>(GMT+01:00) Rome</td><td>0</td><td>0.00%</td><td>0</td><td>0.00%</td><td>0</td><td>0</td><td>0.00%</td><td>10139184698</td><td>Volagratis</td><td>enabled</td><td>Search Network</td><td>Google search</td><td>0.00%</td><td>0.0</td><td>0.0</td><td> --</td><td>0</td><td>0</td><td>0</td><td>0</td><td>0</td><td>0.0</td><td>2.0</td><td>0</td><td>10139184698</td><td>108030218</td><td>0</td><td> --</td><td>campaign</td><td>cpc</td><td> --</td><td>0.00%</td><td>108030218</td><td>Brand_RU_Broad</td><td>enabled</td><td>0.0</td><td>0.0</td><td>0.00%</td><td>0</td><td>0.00%</td><td>0.0</td><td>0.0</td><td>0</td><td>0</td><td>0</td><td>0</td><td>0</td><td> --</td><td> --</td><td> --</td><td>Not applicable</td><td>vola gratis</td><td> --</td><td>0.0</td><td>0.00%</td><td>Bravofly Russia Voli</td><td>2015-05-11</td><td>Monday</td><td>0.00%</td><td>0</td><td>False</td><td> --</td><td> --</td><td>9837210897</td><td> --</td><td> --</td><td> --</td><td>0</td><td>0</td><td>0</td><td>0</td><td>0</td><td>297004287</td><td>0</td><td>0.0</td><td>0.0</td><td>1</td><td>0.00%</td><td>0</td><td>False</td><td>Broad</td><td> --</td><td> --</td><td>2015-05-01</td><td>May</td><td>0.00%</td><td>Not applicable</td><td>Red Universal de Marketing y Bookings On Line, S.A.</td><td>0</td><td>2015-04-01</td><td> --</td><td>33.33%</td><td>Not applicable</td><td>66.67%</td><td>removed</td><td> --</td><td>0</td><td> --</td><td> --</td><td>0.0</td><td>0.0</td><td>0.0</td><td>0.00%</td><td>0.00%</td><td>0.00%</td><td>0.00%</td><td>0.00%</td><td>0</td><td>0</td><td>2015-05-11</td><td>2015</td></tr><tr><td>EUR</td><td>Bravofly Russia Voli</td><td>(GMT+01:00) Rome</td><td>0</td><td>0.00%</td><td>0</td><td>0.00%</td><td>0</td><td>0</td><td>0.00%</td><td>3639849698</td><td>Bravoavia</td><td>enabled</td><td>Search Network</td><td>Google search</td><td>0.00%</td><td>0.0</td><td>0.0</td><td> --</td><td>0</td><td>0</td><td>0</td><td>0</td><td>0</td><td>0.0</td><td>0.0</td><td>0</td><td>3639849698</td><td>108030218</td><td>0</td><td> --</td><td>campaign</td><td>cpc</td><td> --</td><td>0.00%</td><td>108030218</td><td>Brand_RU_Broad</td><td>enabled</td><td>0.0</td><td>0.0</td><td>0.00%</td><td>0</td><td>0.00%</td><td>0.0</td><td>0.0</td><td>0</td><td>0</td><td>0</td><td>0</td><td>0</td><td> --</td><td> --</td><td> --</td><td>Not applicable</td><td>бравоавиа киев</td><td> --</td><td>0.0</td><td>0.00%</td><td>Bravofly Russia Voli</td><td>2015-03-29</td><td>Sunday</td><td>0.00%</td><td>0</td><td>False</td><td> --</td><td> --</td><td>9837210897</td><td> --</td><td> --</td><td> --</td><td>0</td><td>0</td><td>0</td><td>0</td><td>0</td><td>69203661328</td><td>0</td><td>0.0</td><td>0.0</td><td>0</td><td>0.00%</td><td>0</td><td>False</td><td>Broad</td><td> --</td><td> --</td><td>2015-03-01</td><td>March</td><td>0.00%</td><td>Not applicable</td><td>Red Universal de Marketing y Bookings On Line, S.A.</td><td>0</td><td>2015-01-01</td><td> --</td><td>&lt; 10%</td><td>Not applicable</td><td>&gt; 90%</td><td>removed</td><td> --</td><td>0</td><td> --</td><td> --</td><td>0.0</td><td>0.0</td><td>0.0</td><td>0.00%</td><td>0.00%</td><td>0.00%</td><td>0.00%</td><td>0.00%</td><td>0</td><td>0</td><td>2015-03-23</td><td>2015</td></tr></table></div>\n",
       "    <br />(rows: 5, time: 0.6s, cached, job: job_S45YnB35s2-CGqlpH_WyXLWzUCE)<br />\n",
       "    <script>\n",
       "      require(['extensions/charting', 'element!5_146436208044', 'style!/static/extensions/charting.css'],\n",
       "        function(charts, dom) {\n",
       "          charts.render(dom,\n",
       "            {\n",
       "              chartStyle:\"table\",\n",
       "              dataName:\"1\",\n",
       "              fields:\"AccountCurrencyCode,AccountDescriptiveName,AccountTimeZoneId,ActiveViewCpm,ActiveViewCtr,ActiveViewImpressions,ActiveViewMeasurability,ActiveViewMeasurableCost,ActiveViewMeasurableImpressions,ActiveViewViewability,AdGroupId,AdGroupName,AdGroupStatus,AdNetworkType1,AdNetworkType2,AllConversionRate,AllConversions,AllConversionValue,ApprovalStatus,AverageCost,AverageCpc,AverageCpe,AverageCpm,AverageCpv,AveragePageviews,AveragePosition,AverageTimeOnSite,BaseAdGroupId,BaseCampaignId,BiddingStrategyId,BiddingStrategyName,BiddingStrategySource,BiddingStrategyType,BidType,BounceRate,CampaignId,CampaignName,CampaignStatus,ClickAssistedConversionsOverLastClickConversions,ClickAssistedConversionValue,ClickConversionRate,Clicks,ConversionRate,Conversions,ConversionValue,ConvertedClicks,Cost,CostPerAllConversion,CostPerConversion,CostPerConvertedClick,CpcBid,CpcBidSource,CpmBid,CreativeQualityScore,Criteria,CriteriaDestinationUrl,CrossDeviceConversions,Ctr,CustomerDescriptiveName,Date,DayOfWeek,EngagementRate,Engagements,EnhancedCpcEnabled,EstimatedAddClicksAtFirstPositionCpc,EstimatedAddCostAtFirstPositionCpc,ExternalCustomerId,FinalAppUrls,FinalMobileUrls,FinalUrls,FirstPageCpc,FirstPositionCpc,GmailForwards,GmailSaves,GmailSecondaryClicks,Id,ImpressionAssistedConversions,ImpressionAssistedConversionsOverLastClickConversions,ImpressionAssistedConversionValue,Impressions,InteractionRate,Interactions,IsNegative,KeywordMatchType,LabelIds,Labels,Month,MonthOfYear,PercentNewVisitors,PostClickQualityScore,PrimaryCompanyName,QualityScore,Quarter,SearchExactMatchImpressionShare,SearchImpressionShare,SearchPredictedCtr,SearchRankLostImpressionShare,Status,SystemServingStatus,TopOfPageCpc,TrackingUrlTemplate,UrlCustomParameters,ValuePerAllConversion,ValuePerConversion,ValuePerConvertedClick,VideoQuartile100Rate,VideoQuartile25Rate,VideoQuartile50Rate,VideoQuartile75Rate,VideoViewRate,VideoViews,ViewThroughConversions,Week,Year\",\n",
       "              totalRows:5,\n",
       "              rowsPerPage:25,\n",
       "            }, {}, {\"rows\": [{\"c\": [{\"v\": \"EUR\"}, {\"v\": \"Bravofly Russia Voli\"}, {\"v\": \"(GMT+01:00) Rome\"}, {\"v\": 0}, {\"v\": \"0.00%\"}, {\"v\": 0}, {\"v\": \"0.00%\"}, {\"v\": 0}, {\"v\": 0}, {\"v\": \"0.00%\"}, {\"v\": 10139184698}, {\"v\": \"Volagratis\"}, {\"v\": \"enabled\"}, {\"v\": \"Search Network\"}, {\"v\": \"Google search\"}, {\"v\": \"0.00%\"}, {\"v\": 0.0}, {\"v\": 0.0}, {\"v\": \" --\"}, {\"v\": 0}, {\"v\": 0}, {\"v\": 0}, {\"v\": 0}, {\"v\": 0}, {\"v\": 0.0}, {\"v\": 2.7}, {\"v\": 0}, {\"v\": 10139184698}, {\"v\": 108030218}, {\"v\": 0}, {\"v\": \" --\"}, {\"v\": \"campaign\"}, {\"v\": \"cpc\"}, {\"v\": \" --\"}, {\"v\": \"0.00%\"}, {\"v\": 108030218}, {\"v\": \"Brand_RU_Broad\"}, {\"v\": \"enabled\"}, {\"v\": 0.0}, {\"v\": 0.0}, {\"v\": \"0.00%\"}, {\"v\": 0}, {\"v\": \"0.00%\"}, {\"v\": 0.0}, {\"v\": 0.0}, {\"v\": 0}, {\"v\": 0}, {\"v\": 0}, {\"v\": 0}, {\"v\": 0}, {\"v\": \" --\"}, {\"v\": \" --\"}, {\"v\": \" --\"}, {\"v\": \"Not applicable\"}, {\"v\": \"vola gratis\"}, {\"v\": \" --\"}, {\"v\": 0.0}, {\"v\": \"0.00%\"}, {\"v\": \"Bravofly Russia Voli\"}, {\"v\": \"2015-07-11\"}, {\"v\": \"Saturday\"}, {\"v\": \"0.00%\"}, {\"v\": 0}, {\"v\": false}, {\"v\": \" --\"}, {\"v\": \" --\"}, {\"v\": 9837210897}, {\"v\": \" --\"}, {\"v\": \" --\"}, {\"v\": \" --\"}, {\"v\": 0}, {\"v\": 0}, {\"v\": 0}, {\"v\": 0}, {\"v\": 0}, {\"v\": 297004287}, {\"v\": 0}, {\"v\": 0.0}, {\"v\": 0.0}, {\"v\": 3}, {\"v\": \"0.00%\"}, {\"v\": 0}, {\"v\": false}, {\"v\": \"Broad\"}, {\"v\": \" --\"}, {\"v\": \" --\"}, {\"v\": \"2015-07-01\"}, {\"v\": \"July\"}, {\"v\": \"0.00%\"}, {\"v\": \"Not applicable\"}, {\"v\": \"Red Universal de Marketing y Bookings On Line, S.A.\"}, {\"v\": 0}, {\"v\": \"2015-07-01\"}, {\"v\": \" --\"}, {\"v\": \"75.00%\"}, {\"v\": \"Not applicable\"}, {\"v\": \"25.00%\"}, {\"v\": \"removed\"}, {\"v\": \" --\"}, {\"v\": 0}, {\"v\": \" --\"}, {\"v\": \" --\"}, {\"v\": 0.0}, {\"v\": 0.0}, {\"v\": 0.0}, {\"v\": \"0.00%\"}, {\"v\": \"0.00%\"}, {\"v\": \"0.00%\"}, {\"v\": \"0.00%\"}, {\"v\": \"0.00%\"}, {\"v\": 0}, {\"v\": 0}, {\"v\": \"2015-07-06\"}, {\"v\": 2015}]}, {\"c\": [{\"v\": \"EUR\"}, {\"v\": \"Bravofly Russia Voli\"}, {\"v\": \"(GMT+01:00) Rome\"}, {\"v\": 0}, {\"v\": \"0.00%\"}, {\"v\": 0}, {\"v\": \"0.00%\"}, {\"v\": 0}, {\"v\": 0}, {\"v\": \"0.00%\"}, {\"v\": 3639849698}, {\"v\": \"Bravoavia\"}, {\"v\": \"enabled\"}, {\"v\": \"Search Network\"}, {\"v\": \"Google search\"}, {\"v\": \"0.00%\"}, {\"v\": 0.0}, {\"v\": 0.0}, {\"v\": \" --\"}, {\"v\": 0}, {\"v\": 0}, {\"v\": 0}, {\"v\": 0}, {\"v\": 0}, {\"v\": 0.0}, {\"v\": 1.0}, {\"v\": 0}, {\"v\": 3639849698}, {\"v\": 108030218}, {\"v\": 0}, {\"v\": \" --\"}, {\"v\": \"campaign\"}, {\"v\": \"cpc\"}, {\"v\": \" --\"}, {\"v\": \"0.00%\"}, {\"v\": 108030218}, {\"v\": \"Brand_RU_Broad\"}, {\"v\": \"enabled\"}, {\"v\": 0.0}, {\"v\": 0.0}, {\"v\": \"0.00%\"}, {\"v\": 0}, {\"v\": \"0.00%\"}, {\"v\": 0.0}, {\"v\": 0.0}, {\"v\": 0}, {\"v\": 0}, {\"v\": 0}, {\"v\": 0}, {\"v\": 0}, {\"v\": \" --\"}, {\"v\": \" --\"}, {\"v\": \" --\"}, {\"v\": \"Not applicable\"}, {\"v\": \"bravoavia ru\"}, {\"v\": \" --\"}, {\"v\": 0.0}, {\"v\": \"0.00%\"}, {\"v\": \"Bravofly Russia Voli\"}, {\"v\": \"2015-02-10\"}, {\"v\": \"Tuesday\"}, {\"v\": \"0.00%\"}, {\"v\": 0}, {\"v\": false}, {\"v\": \" --\"}, {\"v\": \" --\"}, {\"v\": 9837210897}, {\"v\": \" --\"}, {\"v\": \" --\"}, {\"v\": \" --\"}, {\"v\": 0}, {\"v\": 0}, {\"v\": 0}, {\"v\": 0}, {\"v\": 0}, {\"v\": 29069313846}, {\"v\": 0}, {\"v\": 0.0}, {\"v\": 0.0}, {\"v\": 1}, {\"v\": \"0.00%\"}, {\"v\": 0}, {\"v\": false}, {\"v\": \"Broad\"}, {\"v\": \" --\"}, {\"v\": \" --\"}, {\"v\": \"2015-02-01\"}, {\"v\": \"February\"}, {\"v\": \"0.00%\"}, {\"v\": \"Not applicable\"}, {\"v\": \"Red Universal de Marketing y Bookings On Line, S.A.\"}, {\"v\": 0}, {\"v\": \"2015-01-01\"}, {\"v\": \" --\"}, {\"v\": \"100.00%\"}, {\"v\": \"Not applicable\"}, {\"v\": \"0.00%\"}, {\"v\": \"removed\"}, {\"v\": \" --\"}, {\"v\": 0}, {\"v\": \" --\"}, {\"v\": \" --\"}, {\"v\": 0.0}, {\"v\": 0.0}, {\"v\": 0.0}, {\"v\": \"0.00%\"}, {\"v\": \"0.00%\"}, {\"v\": \"0.00%\"}, {\"v\": \"0.00%\"}, {\"v\": \"0.00%\"}, {\"v\": 0}, {\"v\": 0}, {\"v\": \"2015-02-09\"}, {\"v\": 2015}]}, {\"c\": [{\"v\": \"EUR\"}, {\"v\": \"Bravofly Russia Voli\"}, {\"v\": \"(GMT+01:00) Rome\"}, {\"v\": 0}, {\"v\": \"0.00%\"}, {\"v\": 0}, {\"v\": \"0.00%\"}, {\"v\": 0}, {\"v\": 0}, {\"v\": \"0.00%\"}, {\"v\": 3639849698}, {\"v\": \"Bravoavia\"}, {\"v\": \"enabled\"}, {\"v\": \"Search Network\"}, {\"v\": \"Google search\"}, {\"v\": \"0.00%\"}, {\"v\": 0.0}, {\"v\": 0.0}, {\"v\": \" --\"}, {\"v\": 0}, {\"v\": 0}, {\"v\": 0}, {\"v\": 0}, {\"v\": 0}, {\"v\": 5.0}, {\"v\": 0.0}, {\"v\": 158}, {\"v\": 3639849698}, {\"v\": 108030218}, {\"v\": 0}, {\"v\": \" --\"}, {\"v\": \"campaign\"}, {\"v\": \"cpc\"}, {\"v\": \" --\"}, {\"v\": \"0.00%\"}, {\"v\": 108030218}, {\"v\": \"Brand_RU_Broad\"}, {\"v\": \"enabled\"}, {\"v\": 0.0}, {\"v\": 0.0}, {\"v\": \"0.00%\"}, {\"v\": 0}, {\"v\": \"0.00%\"}, {\"v\": 0.0}, {\"v\": 0.0}, {\"v\": 0}, {\"v\": 0}, {\"v\": 0}, {\"v\": 0}, {\"v\": 0}, {\"v\": \" --\"}, {\"v\": \" --\"}, {\"v\": \" --\"}, {\"v\": \"Not applicable\"}, {\"v\": \"bravo avia\"}, {\"v\": \" --\"}, {\"v\": 0.0}, {\"v\": \"0.00%\"}, {\"v\": \"Bravofly Russia Voli\"}, {\"v\": \"2015-09-28\"}, {\"v\": \"Monday\"}, {\"v\": \"0.00%\"}, {\"v\": 0}, {\"v\": false}, {\"v\": \" --\"}, {\"v\": \" --\"}, {\"v\": 9837210897}, {\"v\": \" --\"}, {\"v\": \" --\"}, {\"v\": \" --\"}, {\"v\": 0}, {\"v\": 0}, {\"v\": 0}, {\"v\": 0}, {\"v\": 0}, {\"v\": 36970545128}, {\"v\": 0}, {\"v\": 0.0}, {\"v\": 0.0}, {\"v\": 0}, {\"v\": \"0.00%\"}, {\"v\": 0}, {\"v\": false}, {\"v\": \"Broad\"}, {\"v\": \" --\"}, {\"v\": \" --\"}, {\"v\": \"2015-09-01\"}, {\"v\": \"September\"}, {\"v\": \"0.00%\"}, {\"v\": \"Not applicable\"}, {\"v\": \"Red Universal de Marketing y Bookings On Line, S.A.\"}, {\"v\": 0}, {\"v\": \"2015-07-01\"}, {\"v\": \" --\"}, {\"v\": \" --\"}, {\"v\": \"Not applicable\"}, {\"v\": \" --\"}, {\"v\": \"removed\"}, {\"v\": \" --\"}, {\"v\": 0}, {\"v\": \" --\"}, {\"v\": \" --\"}, {\"v\": 0.0}, {\"v\": 0.0}, {\"v\": 0.0}, {\"v\": \"0.00%\"}, {\"v\": \"0.00%\"}, {\"v\": \"0.00%\"}, {\"v\": \"0.00%\"}, {\"v\": \"0.00%\"}, {\"v\": 0}, {\"v\": 0}, {\"v\": \"2015-09-28\"}, {\"v\": 2015}]}, {\"c\": [{\"v\": \"EUR\"}, {\"v\": \"Bravofly Russia Voli\"}, {\"v\": \"(GMT+01:00) Rome\"}, {\"v\": 0}, {\"v\": \"0.00%\"}, {\"v\": 0}, {\"v\": \"0.00%\"}, {\"v\": 0}, {\"v\": 0}, {\"v\": \"0.00%\"}, {\"v\": 10139184698}, {\"v\": \"Volagratis\"}, {\"v\": \"enabled\"}, {\"v\": \"Search Network\"}, {\"v\": \"Google search\"}, {\"v\": \"0.00%\"}, {\"v\": 0.0}, {\"v\": 0.0}, {\"v\": \" --\"}, {\"v\": 0}, {\"v\": 0}, {\"v\": 0}, {\"v\": 0}, {\"v\": 0}, {\"v\": 0.0}, {\"v\": 2.0}, {\"v\": 0}, {\"v\": 10139184698}, {\"v\": 108030218}, {\"v\": 0}, {\"v\": \" --\"}, {\"v\": \"campaign\"}, {\"v\": \"cpc\"}, {\"v\": \" --\"}, {\"v\": \"0.00%\"}, {\"v\": 108030218}, {\"v\": \"Brand_RU_Broad\"}, {\"v\": \"enabled\"}, {\"v\": 0.0}, {\"v\": 0.0}, {\"v\": \"0.00%\"}, {\"v\": 0}, {\"v\": \"0.00%\"}, {\"v\": 0.0}, {\"v\": 0.0}, {\"v\": 0}, {\"v\": 0}, {\"v\": 0}, {\"v\": 0}, {\"v\": 0}, {\"v\": \" --\"}, {\"v\": \" --\"}, {\"v\": \" --\"}, {\"v\": \"Not applicable\"}, {\"v\": \"vola gratis\"}, {\"v\": \" --\"}, {\"v\": 0.0}, {\"v\": \"0.00%\"}, {\"v\": \"Bravofly Russia Voli\"}, {\"v\": \"2015-05-11\"}, {\"v\": \"Monday\"}, {\"v\": \"0.00%\"}, {\"v\": 0}, {\"v\": false}, {\"v\": \" --\"}, {\"v\": \" --\"}, {\"v\": 9837210897}, {\"v\": \" --\"}, {\"v\": \" --\"}, {\"v\": \" --\"}, {\"v\": 0}, {\"v\": 0}, {\"v\": 0}, {\"v\": 0}, {\"v\": 0}, {\"v\": 297004287}, {\"v\": 0}, {\"v\": 0.0}, {\"v\": 0.0}, {\"v\": 1}, {\"v\": \"0.00%\"}, {\"v\": 0}, {\"v\": false}, {\"v\": \"Broad\"}, {\"v\": \" --\"}, {\"v\": \" --\"}, {\"v\": \"2015-05-01\"}, {\"v\": \"May\"}, {\"v\": \"0.00%\"}, {\"v\": \"Not applicable\"}, {\"v\": \"Red Universal de Marketing y Bookings On Line, S.A.\"}, {\"v\": 0}, {\"v\": \"2015-04-01\"}, {\"v\": \" --\"}, {\"v\": \"33.33%\"}, {\"v\": \"Not applicable\"}, {\"v\": \"66.67%\"}, {\"v\": \"removed\"}, {\"v\": \" --\"}, {\"v\": 0}, {\"v\": \" --\"}, {\"v\": \" --\"}, {\"v\": 0.0}, {\"v\": 0.0}, {\"v\": 0.0}, {\"v\": \"0.00%\"}, {\"v\": \"0.00%\"}, {\"v\": \"0.00%\"}, {\"v\": \"0.00%\"}, {\"v\": \"0.00%\"}, {\"v\": 0}, {\"v\": 0}, {\"v\": \"2015-05-11\"}, {\"v\": 2015}]}, {\"c\": [{\"v\": \"EUR\"}, {\"v\": \"Bravofly Russia Voli\"}, {\"v\": \"(GMT+01:00) Rome\"}, {\"v\": 0}, {\"v\": \"0.00%\"}, {\"v\": 0}, {\"v\": \"0.00%\"}, {\"v\": 0}, {\"v\": 0}, {\"v\": \"0.00%\"}, {\"v\": 3639849698}, {\"v\": \"Bravoavia\"}, {\"v\": \"enabled\"}, {\"v\": \"Search Network\"}, {\"v\": \"Google search\"}, {\"v\": \"0.00%\"}, {\"v\": 0.0}, {\"v\": 0.0}, {\"v\": \" --\"}, {\"v\": 0}, {\"v\": 0}, {\"v\": 0}, {\"v\": 0}, {\"v\": 0}, {\"v\": 0.0}, {\"v\": 0.0}, {\"v\": 0}, {\"v\": 3639849698}, {\"v\": 108030218}, {\"v\": 0}, {\"v\": \" --\"}, {\"v\": \"campaign\"}, {\"v\": \"cpc\"}, {\"v\": \" --\"}, {\"v\": \"0.00%\"}, {\"v\": 108030218}, {\"v\": \"Brand_RU_Broad\"}, {\"v\": \"enabled\"}, {\"v\": 0.0}, {\"v\": 0.0}, {\"v\": \"0.00%\"}, {\"v\": 0}, {\"v\": \"0.00%\"}, {\"v\": 0.0}, {\"v\": 0.0}, {\"v\": 0}, {\"v\": 0}, {\"v\": 0}, {\"v\": 0}, {\"v\": 0}, {\"v\": \" --\"}, {\"v\": \" --\"}, {\"v\": \" --\"}, {\"v\": \"Not applicable\"}, {\"v\": \"\\u0431\\u0440\\u0430\\u0432\\u043e\\u0430\\u0432\\u0438\\u0430 \\u043a\\u0438\\u0435\\u0432\"}, {\"v\": \" --\"}, {\"v\": 0.0}, {\"v\": \"0.00%\"}, {\"v\": \"Bravofly Russia Voli\"}, {\"v\": \"2015-03-29\"}, {\"v\": \"Sunday\"}, {\"v\": \"0.00%\"}, {\"v\": 0}, {\"v\": false}, {\"v\": \" --\"}, {\"v\": \" --\"}, {\"v\": 9837210897}, {\"v\": \" --\"}, {\"v\": \" --\"}, {\"v\": \" --\"}, {\"v\": 0}, {\"v\": 0}, {\"v\": 0}, {\"v\": 0}, {\"v\": 0}, {\"v\": 69203661328}, {\"v\": 0}, {\"v\": 0.0}, {\"v\": 0.0}, {\"v\": 0}, {\"v\": \"0.00%\"}, {\"v\": 0}, {\"v\": false}, {\"v\": \"Broad\"}, {\"v\": \" --\"}, {\"v\": \" --\"}, {\"v\": \"2015-03-01\"}, {\"v\": \"March\"}, {\"v\": \"0.00%\"}, {\"v\": \"Not applicable\"}, {\"v\": \"Red Universal de Marketing y Bookings On Line, S.A.\"}, {\"v\": 0}, {\"v\": \"2015-01-01\"}, {\"v\": \" --\"}, {\"v\": \"< 10%\"}, {\"v\": \"Not applicable\"}, {\"v\": \"> 90%\"}, {\"v\": \"removed\"}, {\"v\": \" --\"}, {\"v\": 0}, {\"v\": \" --\"}, {\"v\": \" --\"}, {\"v\": 0.0}, {\"v\": 0.0}, {\"v\": 0.0}, {\"v\": \"0.00%\"}, {\"v\": \"0.00%\"}, {\"v\": \"0.00%\"}, {\"v\": \"0.00%\"}, {\"v\": \"0.00%\"}, {\"v\": 0}, {\"v\": 0}, {\"v\": \"2015-03-23\"}, {\"v\": 2015}]}], \"cols\": [{\"type\": \"string\", \"id\": \"AccountCurrencyCode\", \"label\": \"AccountCurrencyCode\"}, {\"type\": \"string\", \"id\": \"AccountDescriptiveName\", \"label\": \"AccountDescriptiveName\"}, {\"type\": \"string\", \"id\": \"AccountTimeZoneId\", \"label\": \"AccountTimeZoneId\"}, {\"type\": \"number\", \"id\": \"ActiveViewCpm\", \"label\": \"ActiveViewCpm\"}, {\"type\": \"string\", \"id\": \"ActiveViewCtr\", \"label\": \"ActiveViewCtr\"}, {\"type\": \"number\", \"id\": \"ActiveViewImpressions\", \"label\": \"ActiveViewImpressions\"}, {\"type\": \"string\", \"id\": \"ActiveViewMeasurability\", \"label\": \"ActiveViewMeasurability\"}, {\"type\": \"number\", \"id\": \"ActiveViewMeasurableCost\", \"label\": \"ActiveViewMeasurableCost\"}, {\"type\": \"number\", \"id\": \"ActiveViewMeasurableImpressions\", \"label\": \"ActiveViewMeasurableImpressions\"}, {\"type\": \"string\", \"id\": \"ActiveViewViewability\", \"label\": \"ActiveViewViewability\"}, {\"type\": \"number\", \"id\": \"AdGroupId\", \"label\": \"AdGroupId\"}, {\"type\": \"string\", \"id\": \"AdGroupName\", \"label\": \"AdGroupName\"}, {\"type\": \"string\", \"id\": \"AdGroupStatus\", \"label\": \"AdGroupStatus\"}, {\"type\": \"string\", \"id\": \"AdNetworkType1\", \"label\": \"AdNetworkType1\"}, {\"type\": \"string\", \"id\": \"AdNetworkType2\", \"label\": \"AdNetworkType2\"}, {\"type\": \"string\", \"id\": \"AllConversionRate\", \"label\": \"AllConversionRate\"}, {\"type\": \"number\", \"id\": \"AllConversions\", \"label\": \"AllConversions\"}, {\"type\": \"number\", \"id\": \"AllConversionValue\", \"label\": \"AllConversionValue\"}, {\"type\": \"string\", \"id\": \"ApprovalStatus\", \"label\": \"ApprovalStatus\"}, {\"type\": \"number\", \"id\": \"AverageCost\", \"label\": \"AverageCost\"}, {\"type\": \"number\", \"id\": \"AverageCpc\", \"label\": \"AverageCpc\"}, {\"type\": \"number\", \"id\": \"AverageCpe\", \"label\": \"AverageCpe\"}, {\"type\": \"number\", \"id\": \"AverageCpm\", \"label\": \"AverageCpm\"}, {\"type\": \"number\", \"id\": \"AverageCpv\", \"label\": \"AverageCpv\"}, {\"type\": \"number\", \"id\": \"AveragePageviews\", \"label\": \"AveragePageviews\"}, {\"type\": \"number\", \"id\": \"AveragePosition\", \"label\": \"AveragePosition\"}, {\"type\": \"number\", \"id\": \"AverageTimeOnSite\", \"label\": \"AverageTimeOnSite\"}, {\"type\": \"number\", \"id\": \"BaseAdGroupId\", \"label\": \"BaseAdGroupId\"}, {\"type\": \"number\", \"id\": \"BaseCampaignId\", \"label\": \"BaseCampaignId\"}, {\"type\": \"number\", \"id\": \"BiddingStrategyId\", \"label\": \"BiddingStrategyId\"}, {\"type\": \"string\", \"id\": \"BiddingStrategyName\", \"label\": \"BiddingStrategyName\"}, {\"type\": \"string\", \"id\": \"BiddingStrategySource\", \"label\": \"BiddingStrategySource\"}, {\"type\": \"string\", \"id\": \"BiddingStrategyType\", \"label\": \"BiddingStrategyType\"}, {\"type\": \"string\", \"id\": \"BidType\", \"label\": \"BidType\"}, {\"type\": \"string\", \"id\": \"BounceRate\", \"label\": \"BounceRate\"}, {\"type\": \"number\", \"id\": \"CampaignId\", \"label\": \"CampaignId\"}, {\"type\": \"string\", \"id\": \"CampaignName\", \"label\": \"CampaignName\"}, {\"type\": \"string\", \"id\": \"CampaignStatus\", \"label\": \"CampaignStatus\"}, {\"type\": \"number\", \"id\": \"ClickAssistedConversionsOverLastClickConversions\", \"label\": \"ClickAssistedConversionsOverLastClickConversions\"}, {\"type\": \"number\", \"id\": \"ClickAssistedConversionValue\", \"label\": \"ClickAssistedConversionValue\"}, {\"type\": \"string\", \"id\": \"ClickConversionRate\", \"label\": \"ClickConversionRate\"}, {\"type\": \"number\", \"id\": \"Clicks\", \"label\": \"Clicks\"}, {\"type\": \"string\", \"id\": \"ConversionRate\", \"label\": \"ConversionRate\"}, {\"type\": \"number\", \"id\": \"Conversions\", \"label\": \"Conversions\"}, {\"type\": \"number\", \"id\": \"ConversionValue\", \"label\": \"ConversionValue\"}, {\"type\": \"number\", \"id\": \"ConvertedClicks\", \"label\": \"ConvertedClicks\"}, {\"type\": \"number\", \"id\": \"Cost\", \"label\": \"Cost\"}, {\"type\": \"number\", \"id\": \"CostPerAllConversion\", \"label\": \"CostPerAllConversion\"}, {\"type\": \"number\", \"id\": \"CostPerConversion\", \"label\": \"CostPerConversion\"}, {\"type\": \"number\", \"id\": \"CostPerConvertedClick\", \"label\": \"CostPerConvertedClick\"}, {\"type\": \"string\", \"id\": \"CpcBid\", \"label\": \"CpcBid\"}, {\"type\": \"string\", \"id\": \"CpcBidSource\", \"label\": \"CpcBidSource\"}, {\"type\": \"string\", \"id\": \"CpmBid\", \"label\": \"CpmBid\"}, {\"type\": \"string\", \"id\": \"CreativeQualityScore\", \"label\": \"CreativeQualityScore\"}, {\"type\": \"string\", \"id\": \"Criteria\", \"label\": \"Criteria\"}, {\"type\": \"string\", \"id\": \"CriteriaDestinationUrl\", \"label\": \"CriteriaDestinationUrl\"}, {\"type\": \"number\", \"id\": \"CrossDeviceConversions\", \"label\": \"CrossDeviceConversions\"}, {\"type\": \"string\", \"id\": \"Ctr\", \"label\": \"Ctr\"}, {\"type\": \"string\", \"id\": \"CustomerDescriptiveName\", \"label\": \"CustomerDescriptiveName\"}, {\"type\": \"string\", \"id\": \"Date\", \"label\": \"Date\"}, {\"type\": \"string\", \"id\": \"DayOfWeek\", \"label\": \"DayOfWeek\"}, {\"type\": \"string\", \"id\": \"EngagementRate\", \"label\": \"EngagementRate\"}, {\"type\": \"number\", \"id\": \"Engagements\", \"label\": \"Engagements\"}, {\"type\": \"boolean\", \"id\": \"EnhancedCpcEnabled\", \"label\": \"EnhancedCpcEnabled\"}, {\"type\": \"string\", \"id\": \"EstimatedAddClicksAtFirstPositionCpc\", \"label\": \"EstimatedAddClicksAtFirstPositionCpc\"}, {\"type\": \"string\", \"id\": \"EstimatedAddCostAtFirstPositionCpc\", \"label\": \"EstimatedAddCostAtFirstPositionCpc\"}, {\"type\": \"number\", \"id\": \"ExternalCustomerId\", \"label\": \"ExternalCustomerId\"}, {\"type\": \"string\", \"id\": \"FinalAppUrls\", \"label\": \"FinalAppUrls\"}, {\"type\": \"string\", \"id\": \"FinalMobileUrls\", \"label\": \"FinalMobileUrls\"}, {\"type\": \"string\", \"id\": \"FinalUrls\", \"label\": \"FinalUrls\"}, {\"type\": \"number\", \"id\": \"FirstPageCpc\", \"label\": \"FirstPageCpc\"}, {\"type\": \"number\", \"id\": \"FirstPositionCpc\", \"label\": \"FirstPositionCpc\"}, {\"type\": \"number\", \"id\": \"GmailForwards\", \"label\": \"GmailForwards\"}, {\"type\": \"number\", \"id\": \"GmailSaves\", \"label\": \"GmailSaves\"}, {\"type\": \"number\", \"id\": \"GmailSecondaryClicks\", \"label\": \"GmailSecondaryClicks\"}, {\"type\": \"number\", \"id\": \"Id\", \"label\": \"Id\"}, {\"type\": \"number\", \"id\": \"ImpressionAssistedConversions\", \"label\": \"ImpressionAssistedConversions\"}, {\"type\": \"number\", \"id\": \"ImpressionAssistedConversionsOverLastClickConversions\", \"label\": \"ImpressionAssistedConversionsOverLastClickConversions\"}, {\"type\": \"number\", \"id\": \"ImpressionAssistedConversionValue\", \"label\": \"ImpressionAssistedConversionValue\"}, {\"type\": \"number\", \"id\": \"Impressions\", \"label\": \"Impressions\"}, {\"type\": \"string\", \"id\": \"InteractionRate\", \"label\": \"InteractionRate\"}, {\"type\": \"number\", \"id\": \"Interactions\", \"label\": \"Interactions\"}, {\"type\": \"boolean\", \"id\": \"IsNegative\", \"label\": \"IsNegative\"}, {\"type\": \"string\", \"id\": \"KeywordMatchType\", \"label\": \"KeywordMatchType\"}, {\"type\": \"string\", \"id\": \"LabelIds\", \"label\": \"LabelIds\"}, {\"type\": \"string\", \"id\": \"Labels\", \"label\": \"Labels\"}, {\"type\": \"string\", \"id\": \"Month\", \"label\": \"Month\"}, {\"type\": \"string\", \"id\": \"MonthOfYear\", \"label\": \"MonthOfYear\"}, {\"type\": \"string\", \"id\": \"PercentNewVisitors\", \"label\": \"PercentNewVisitors\"}, {\"type\": \"string\", \"id\": \"PostClickQualityScore\", \"label\": \"PostClickQualityScore\"}, {\"type\": \"string\", \"id\": \"PrimaryCompanyName\", \"label\": \"PrimaryCompanyName\"}, {\"type\": \"number\", \"id\": \"QualityScore\", \"label\": \"QualityScore\"}, {\"type\": \"string\", \"id\": \"Quarter\", \"label\": \"Quarter\"}, {\"type\": \"string\", \"id\": \"SearchExactMatchImpressionShare\", \"label\": \"SearchExactMatchImpressionShare\"}, {\"type\": \"string\", \"id\": \"SearchImpressionShare\", \"label\": \"SearchImpressionShare\"}, {\"type\": \"string\", \"id\": \"SearchPredictedCtr\", \"label\": \"SearchPredictedCtr\"}, {\"type\": \"string\", \"id\": \"SearchRankLostImpressionShare\", \"label\": \"SearchRankLostImpressionShare\"}, {\"type\": \"string\", \"id\": \"Status\", \"label\": \"Status\"}, {\"type\": \"string\", \"id\": \"SystemServingStatus\", \"label\": \"SystemServingStatus\"}, {\"type\": \"number\", \"id\": \"TopOfPageCpc\", \"label\": \"TopOfPageCpc\"}, {\"type\": \"string\", \"id\": \"TrackingUrlTemplate\", \"label\": \"TrackingUrlTemplate\"}, {\"type\": \"string\", \"id\": \"UrlCustomParameters\", \"label\": \"UrlCustomParameters\"}, {\"type\": \"number\", \"id\": \"ValuePerAllConversion\", \"label\": \"ValuePerAllConversion\"}, {\"type\": \"number\", \"id\": \"ValuePerConversion\", \"label\": \"ValuePerConversion\"}, {\"type\": \"number\", \"id\": \"ValuePerConvertedClick\", \"label\": \"ValuePerConvertedClick\"}, {\"type\": \"string\", \"id\": \"VideoQuartile100Rate\", \"label\": \"VideoQuartile100Rate\"}, {\"type\": \"string\", \"id\": \"VideoQuartile25Rate\", \"label\": \"VideoQuartile25Rate\"}, {\"type\": \"string\", \"id\": \"VideoQuartile50Rate\", \"label\": \"VideoQuartile50Rate\"}, {\"type\": \"string\", \"id\": \"VideoQuartile75Rate\", \"label\": \"VideoQuartile75Rate\"}, {\"type\": \"string\", \"id\": \"VideoViewRate\", \"label\": \"VideoViewRate\"}, {\"type\": \"number\", \"id\": \"VideoViews\", \"label\": \"VideoViews\"}, {\"type\": \"number\", \"id\": \"ViewThroughConversions\", \"label\": \"ViewThroughConversions\"}, {\"type\": \"string\", \"id\": \"Week\", \"label\": \"Week\"}, {\"type\": \"number\", \"id\": \"Year\", \"label\": \"Year\"}]});\n",
       "        }\n",
       "      );\n",
       "    </script>\n",
       "  "
      ],
      "text/plain": [
       "QueryResultsTable job_S45YnB35s2-CGqlpH_WyXLWzUCE"
      ]
     },
     "execution_count": 6,
     "metadata": {},
     "output_type": "execute_result"
    }
   ],
   "source": [
    "%bigquery sample --table google.com:ddm-connectors-demo:aw_dataset.KEYWORDS_PERFORMANCE_ANALYTICS --count 5"
   ]
  },
  {
   "cell_type": "markdown",
   "metadata": {},
   "source": [
    "# Let us start checking the user experience "
   ]
  },
  {
   "cell_type": "code",
   "execution_count": 71,
   "metadata": {
    "collapsed": false
   },
   "outputs": [],
   "source": [
    "%sql --module query_keywords_overlap\n",
    "SELECT\n",
    "  Criteria,\n",
    "  KeywordMatchType,\n",
    "  Urls,\n",
    "  COUNT(AccountDescriptiveName) as NbOfAccounts,\n",
    "  SUM(IF(Clicks > 0,1,0)) as NbOfAccountsWithClicks,\n",
    "FROM\n",
    "(\n",
    "SELECT\n",
    "  Criteria,\n",
    "  KeywordMatchType,\n",
    "  AccountDescriptiveName,\n",
    "  IF(CriteriaDestinationUrl != ' --',CriteriaDestinationUrl,FinalUrls) as Urls,\n",
    "  SUM(Clicks) as Clicks,\n",
    "FROM\n",
    " [google.com:ddm-connectors-demo:aw_dataset.KEYWORDS_PERFORMANCE_ANALYTICS]\n",
    "WHERE True\n",
    "AND  AdNetworkType2 = 'Google search' \n",
    "AND NOT IsNegative \n",
    "AND Status = 'enabled' AND AdGroupStatus = 'enabled' AND CampaignStatus = 'enabled'\n",
    "AND Month = '2016-04-01'\n",
    "GROUP BY 1,2,3,4\n",
    ")\n",
    "GROUP BY 1,2,3"
   ]
  },
  {
   "cell_type": "code",
   "execution_count": 72,
   "metadata": {
    "collapsed": false
   },
   "outputs": [],
   "source": [
    "df = bq.Query(query_keywords_overlap).to_dataframe()"
   ]
  },
  {
   "cell_type": "code",
   "execution_count": 74,
   "metadata": {
    "collapsed": false
   },
   "outputs": [
    {
     "data": {
      "text/plain": [
       "array([[<matplotlib.axes._subplots.AxesSubplot object at 0x7fdbb1c70310>]], dtype=object)"
      ]
     },
     "execution_count": 74,
     "metadata": {},
     "output_type": "execute_result"
    },
    {
     "data": {
      "image/png": "[encoded data removed]",
      "text/plain": [
       "<matplotlib.figure.Figure at 0x7fdbb1c36a90>"
      ]
     },
     "metadata": {},
     "output_type": "display_data"
    }
   ],
   "source": [
    "df.hist(column='NbOfAccounts',bins=df['NbOfAccounts'].max()+1)"
   ]
  },
  {
   "cell_type": "code",
   "execution_count": 75,
   "metadata": {
    "collapsed": false
   },
   "outputs": [
    {
     "data": {
      "text/plain": [
       "array([[<matplotlib.axes._subplots.AxesSubplot object at 0x7fdbb64f0450>]], dtype=object)"
      ]
     },
     "execution_count": 75,
     "metadata": {},
     "output_type": "execute_result"
    },
    {
     "data": {
      "image/png": "[encoded data removed]",
      "text/plain": [
       "<matplotlib.figure.Figure at 0x7fdbb0648a10>"
      ]
     },
     "metadata": {},
     "output_type": "display_data"
    }
   ],
   "source": [
    "df.hist(column='NbOfAccounts',bins=df['NbOfAccounts'].max()+1,log=True)"
   ]
  },
  {
   "cell_type": "code",
   "execution_count": 76,
   "metadata": {
    "collapsed": false
   },
   "outputs": [
    {
     "data": {
      "text/plain": [
       "array([<matplotlib.axes._subplots.AxesSubplot object at 0x7fdbb0462890>], dtype=object)"
      ]
     },
     "execution_count": 76,
     "metadata": {},
     "output_type": "execute_result"
    },
    {
     "data": {
      "image/png": "[encoded data removed]",
      "text/plain": [
       "<matplotlib.figure.Figure at 0x7fdbb0462990>"
      ]
     },
     "metadata": {},
     "output_type": "display_data"
    }
   ],
   "source": [
    "_, ax = plt.subplots()\n",
    "bins = np.arange(np.max([df['NbOfAccounts'].max(),df['NbOfAccountsWithClicks'].max()])+1)\n",
    "\n",
    "df.hist(column='NbOfAccounts',bins=bins,log=True,ax=ax)\n",
    "df.hist(column='NbOfAccountsWithClicks',bins=bins,log=True,ax=ax,color='g',alpha=0.6)"
   ]
  },
  {
   "cell_type": "code",
   "execution_count": 80,
   "metadata": {
    "collapsed": false
   },
   "outputs": [
    {
     "data": {
      "text/html": [
       "<div>\n",
       "<table border=\"1\" class=\"dataframe\">\n",
       "  <thead>\n",
       "    <tr style=\"text-align: right;\">\n",
       "      <th></th>\n",
       "      <th>Criteria</th>\n",
       "      <th>KeywordMatchType</th>\n",
       "      <th>Urls</th>\n",
       "      <th>NbOfAccounts</th>\n",
       "      <th>NbOfAccountsWithClicks</th>\n",
       "    </tr>\n",
       "  </thead>\n",
       "  <tbody>\n",
       "    <tr>\n",
       "      <th>1396</th>\n",
       "      <td>flight to London</td>\n",
       "      <td>Phrase</td>\n",
       "      <td>[\"http://www.bravofly.com/vg1/home.do?arrivalA...</td>\n",
       "      <td>2</td>\n",
       "      <td>2</td>\n",
       "    </tr>\n",
       "    <tr>\n",
       "      <th>135151</th>\n",
       "      <td>+belfast +flight +and +hotel</td>\n",
       "      <td>Broad</td>\n",
       "      <td>[\"http://www.lastminute.com/city-breaks/belfas...</td>\n",
       "      <td>2</td>\n",
       "      <td>2</td>\n",
       "    </tr>\n",
       "    <tr>\n",
       "      <th>136340</th>\n",
       "      <td>+flight +to +Stansted</td>\n",
       "      <td>Broad</td>\n",
       "      <td>[\"http://www.lastminute.com/flights/search-for...</td>\n",
       "      <td>2</td>\n",
       "      <td>2</td>\n",
       "    </tr>\n",
       "    <tr>\n",
       "      <th>136727</th>\n",
       "      <td>+vuelos +last +minute</td>\n",
       "      <td>Broad</td>\n",
       "      <td>[\"http://www.es.lastminute.com/vuelos/?COBRAND...</td>\n",
       "      <td>2</td>\n",
       "      <td>2</td>\n",
       "    </tr>\n",
       "    <tr>\n",
       "      <th>136763</th>\n",
       "      <td>+train +Bourg St Maurice</td>\n",
       "      <td>Broad</td>\n",
       "      <td>[\"http://www.lastminute.com/city-breaks/eurost...</td>\n",
       "      <td>2</td>\n",
       "      <td>2</td>\n",
       "    </tr>\n",
       "    <tr>\n",
       "      <th>137444</th>\n",
       "      <td>bravo fly com</td>\n",
       "      <td>Exact</td>\n",
       "      <td>[\"http://www.bravofly.com/vg1/flights.do?COBRA...</td>\n",
       "      <td>2</td>\n",
       "      <td>2</td>\n",
       "    </tr>\n",
       "    <tr>\n",
       "      <th>137702</th>\n",
       "      <td>city trip last minute</td>\n",
       "      <td>Exact</td>\n",
       "      <td>[\"http://www.fr.lastminute.com/week-end-pas-ch...</td>\n",
       "      <td>2</td>\n",
       "      <td>2</td>\n",
       "    </tr>\n",
       "    <tr>\n",
       "      <th>147719</th>\n",
       "      <td>+train +Bordeaux</td>\n",
       "      <td>Broad</td>\n",
       "      <td>[\"http://www.lastminute.com/city-breaks/eurost...</td>\n",
       "      <td>2</td>\n",
       "      <td>2</td>\n",
       "    </tr>\n",
       "    <tr>\n",
       "      <th>147977</th>\n",
       "      <td>+train +Cannes</td>\n",
       "      <td>Broad</td>\n",
       "      <td>[\"http://www.lastminute.com/city-breaks/eurost...</td>\n",
       "      <td>2</td>\n",
       "      <td>2</td>\n",
       "    </tr>\n",
       "    <tr>\n",
       "      <th>147978</th>\n",
       "      <td>+train +to +Dijon</td>\n",
       "      <td>Broad</td>\n",
       "      <td>[\"http://www.lastminute.com/city-breaks/eurost...</td>\n",
       "      <td>2</td>\n",
       "      <td>2</td>\n",
       "    </tr>\n",
       "    <tr>\n",
       "      <th>148113</th>\n",
       "      <td>bravo air</td>\n",
       "      <td>Exact</td>\n",
       "      <td>[\"http://www.bravofly.com/vg1/flights.do?COBRA...</td>\n",
       "      <td>2</td>\n",
       "      <td>2</td>\n",
       "    </tr>\n",
       "    <tr>\n",
       "      <th>148320</th>\n",
       "      <td>London to prague</td>\n",
       "      <td>Exact</td>\n",
       "      <td>[\"http://www.lastminute.com/flights/prague.htm...</td>\n",
       "      <td>2</td>\n",
       "      <td>2</td>\n",
       "    </tr>\n",
       "    <tr>\n",
       "      <th>148721</th>\n",
       "      <td>brabofly</td>\n",
       "      <td>Exact</td>\n",
       "      <td>[\"http://www.bravofly.com/vg1/flights.do?COBRA...</td>\n",
       "      <td>2</td>\n",
       "      <td>2</td>\n",
       "    </tr>\n",
       "    <tr>\n",
       "      <th>148997</th>\n",
       "      <td>last minute palerme</td>\n",
       "      <td>Exact</td>\n",
       "      <td>[\"http://www.fr.lastminute.com/week-end-pas-ch...</td>\n",
       "      <td>2</td>\n",
       "      <td>2</td>\n",
       "    </tr>\n",
       "    <tr>\n",
       "      <th>151645</th>\n",
       "      <td>last minute casablanca</td>\n",
       "      <td>Exact</td>\n",
       "      <td>[\"http://www.fr.lastminute.com/week-end-pas-ch...</td>\n",
       "      <td>2</td>\n",
       "      <td>2</td>\n",
       "    </tr>\n",
       "    <tr>\n",
       "      <th>152970</th>\n",
       "      <td>citytrip rome</td>\n",
       "      <td>Exact</td>\n",
       "      <td>[\"http://www.fr.lastminute.com/week-end-pas-ch...</td>\n",
       "      <td>2</td>\n",
       "      <td>2</td>\n",
       "    </tr>\n",
       "    <tr>\n",
       "      <th>154066</th>\n",
       "      <td>rome last minute</td>\n",
       "      <td>Exact</td>\n",
       "      <td>[\"http://www.fr.lastminute.com/week-end-pas-ch...</td>\n",
       "      <td>2</td>\n",
       "      <td>2</td>\n",
       "    </tr>\n",
       "    <tr>\n",
       "      <th>154357</th>\n",
       "      <td>+trains +to +Bordeaux</td>\n",
       "      <td>Broad</td>\n",
       "      <td>[\"http://www.lastminute.com/city-breaks/eurost...</td>\n",
       "      <td>2</td>\n",
       "      <td>2</td>\n",
       "    </tr>\n",
       "    <tr>\n",
       "      <th>155679</th>\n",
       "      <td>+train +Poitiers</td>\n",
       "      <td>Broad</td>\n",
       "      <td>[\"http://www.lastminute.com/city-breaks/eurost...</td>\n",
       "      <td>2</td>\n",
       "      <td>2</td>\n",
       "    </tr>\n",
       "    <tr>\n",
       "      <th>155943</th>\n",
       "      <td>+train +Lille</td>\n",
       "      <td>Broad</td>\n",
       "      <td>[\"http://www.lastminute.com/city-breaks/eurost...</td>\n",
       "      <td>2</td>\n",
       "      <td>2</td>\n",
       "    </tr>\n",
       "    <tr>\n",
       "      <th>156199</th>\n",
       "      <td>beavofly</td>\n",
       "      <td>Exact</td>\n",
       "      <td>[\"http://www.bravofly.com/vg1/flights.do?COBRA...</td>\n",
       "      <td>2</td>\n",
       "      <td>2</td>\n",
       "    </tr>\n",
       "    <tr>\n",
       "      <th>135603</th>\n",
       "      <td>bravofy</td>\n",
       "      <td>Exact</td>\n",
       "      <td>[\"http://www.bravofly.com/vg1/flights.do?COBRA...</td>\n",
       "      <td>2</td>\n",
       "      <td>2</td>\n",
       "    </tr>\n",
       "    <tr>\n",
       "      <th>134474</th>\n",
       "      <td>+train +to +Biarritz</td>\n",
       "      <td>Broad</td>\n",
       "      <td>[\"http://www.lastminute.com/city-breaks/eurost...</td>\n",
       "      <td>2</td>\n",
       "      <td>2</td>\n",
       "    </tr>\n",
       "    <tr>\n",
       "      <th>1652</th>\n",
       "      <td>+weekends +to +rome</td>\n",
       "      <td>Broad</td>\n",
       "      <td>[\"http://www.lastminute.com/city-breaks/rome.h...</td>\n",
       "      <td>2</td>\n",
       "      <td>2</td>\n",
       "    </tr>\n",
       "    <tr>\n",
       "      <th>132123</th>\n",
       "      <td>cheapflights</td>\n",
       "      <td>Exact</td>\n",
       "      <td>[\"http://www.lastminute.com/flights/?COBRANDED...</td>\n",
       "      <td>2</td>\n",
       "      <td>2</td>\n",
       "    </tr>\n",
       "  </tbody>\n",
       "</table>\n",
       "</div>"
      ],
      "text/plain": [
       "                            Criteria KeywordMatchType  \\\n",
       "1396                flight to London           Phrase   \n",
       "135151  +belfast +flight +and +hotel            Broad   \n",
       "136340         +flight +to +Stansted            Broad   \n",
       "136727         +vuelos +last +minute            Broad   \n",
       "136763      +train +Bourg St Maurice            Broad   \n",
       "137444                 bravo fly com            Exact   \n",
       "137702         city trip last minute            Exact   \n",
       "147719              +train +Bordeaux            Broad   \n",
       "147977                +train +Cannes            Broad   \n",
       "147978             +train +to +Dijon            Broad   \n",
       "148113                     bravo air            Exact   \n",
       "148320              London to prague            Exact   \n",
       "148721                      brabofly            Exact   \n",
       "148997           last minute palerme            Exact   \n",
       "151645        last minute casablanca            Exact   \n",
       "152970                 citytrip rome            Exact   \n",
       "154066              rome last minute            Exact   \n",
       "154357         +trains +to +Bordeaux            Broad   \n",
       "155679              +train +Poitiers            Broad   \n",
       "155943                 +train +Lille            Broad   \n",
       "156199                      beavofly            Exact   \n",
       "135603                       bravofy            Exact   \n",
       "134474          +train +to +Biarritz            Broad   \n",
       "1652             +weekends +to +rome            Broad   \n",
       "132123                  cheapflights            Exact   \n",
       "\n",
       "                                                     Urls  NbOfAccounts  \\\n",
       "1396    [\"http://www.bravofly.com/vg1/home.do?arrivalA...             2   \n",
       "135151  [\"http://www.lastminute.com/city-breaks/belfas...             2   \n",
       "136340  [\"http://www.lastminute.com/flights/search-for...             2   \n",
       "136727  [\"http://www.es.lastminute.com/vuelos/?COBRAND...             2   \n",
       "136763  [\"http://www.lastminute.com/city-breaks/eurost...             2   \n",
       "137444  [\"http://www.bravofly.com/vg1/flights.do?COBRA...             2   \n",
       "137702  [\"http://www.fr.lastminute.com/week-end-pas-ch...             2   \n",
       "147719  [\"http://www.lastminute.com/city-breaks/eurost...             2   \n",
       "147977  [\"http://www.lastminute.com/city-breaks/eurost...             2   \n",
       "147978  [\"http://www.lastminute.com/city-breaks/eurost...             2   \n",
       "148113  [\"http://www.bravofly.com/vg1/flights.do?COBRA...             2   \n",
       "148320  [\"http://www.lastminute.com/flights/prague.htm...             2   \n",
       "148721  [\"http://www.bravofly.com/vg1/flights.do?COBRA...             2   \n",
       "148997  [\"http://www.fr.lastminute.com/week-end-pas-ch...             2   \n",
       "151645  [\"http://www.fr.lastminute.com/week-end-pas-ch...             2   \n",
       "152970  [\"http://www.fr.lastminute.com/week-end-pas-ch...             2   \n",
       "154066  [\"http://www.fr.lastminute.com/week-end-pas-ch...             2   \n",
       "154357  [\"http://www.lastminute.com/city-breaks/eurost...             2   \n",
       "155679  [\"http://www.lastminute.com/city-breaks/eurost...             2   \n",
       "155943  [\"http://www.lastminute.com/city-breaks/eurost...             2   \n",
       "156199  [\"http://www.bravofly.com/vg1/flights.do?COBRA...             2   \n",
       "135603  [\"http://www.bravofly.com/vg1/flights.do?COBRA...             2   \n",
       "134474  [\"http://www.lastminute.com/city-breaks/eurost...             2   \n",
       "1652    [\"http://www.lastminute.com/city-breaks/rome.h...             2   \n",
       "132123  [\"http://www.lastminute.com/flights/?COBRANDED...             2   \n",
       "\n",
       "        NbOfAccountsWithClicks  \n",
       "1396                         2  \n",
       "135151                       2  \n",
       "136340                       2  \n",
       "136727                       2  \n",
       "136763                       2  \n",
       "137444                       2  \n",
       "137702                       2  \n",
       "147719                       2  \n",
       "147977                       2  \n",
       "147978                       2  \n",
       "148113                       2  \n",
       "148320                       2  \n",
       "148721                       2  \n",
       "148997                       2  \n",
       "151645                       2  \n",
       "152970                       2  \n",
       "154066                       2  \n",
       "154357                       2  \n",
       "155679                       2  \n",
       "155943                       2  \n",
       "156199                       2  \n",
       "135603                       2  \n",
       "134474                       2  \n",
       "1652                         2  \n",
       "132123                       2  "
      ]
     },
     "execution_count": 80,
     "metadata": {},
     "output_type": "execute_result"
    }
   ],
   "source": [
    "df[df['NbOfAccountsWithClicks'] > 1].sort_values(by=['NbOfAccountsWithClicks'],ascending=False)[:25]"
   ]
  },
  {
   "cell_type": "code",
   "execution_count": 81,
   "metadata": {
    "collapsed": false
   },
   "outputs": [
    {
     "data": {
      "text/html": [
       "\n",
       "    <div class=\"bqtv\" id=\"10_146436135316\"><table><tr><th>Criteria</th><th>KeywordMatchType</th><th>AccountDescriptiveName</th><th>CampaignName</th><th>AdGroupName</th><th>Urls</th><th>AprilQualityScore</th><th>Impressions</th><th>Clicks</th><th>Cost</th><th>AllConversions</th><th>CostPerAllConversion</th></tr><tr><td>flight to London</td><td>Phrase</td><td>BravoFly.com</td><td>Destinazioni Cipro Phrase</td><td>London</td><td>[\"http://www.bravofly.com/vg1/home.do?arrivalAirport=LON&amp;COBRANDED=GMADWORDCOM\"]</td><td>9.0</td><td>44</td><td>1</td><td>0.43</td><td>0.0</td><td>&nbsp;</td></tr><tr><td>flight to London</td><td>Phrase</td><td>Bravofly COM ROW</td><td>Destinazioni Città Mondo Phrase</td><td>London</td><td>[\"http://www.bravofly.com/vg1/home.do?arrivalAirport=LON&amp;COBRANDED=GMADWORDCOM\"]</td><td>8.0</td><td>537</td><td>28</td><td>22.85</td><td>0.0</td><td>&nbsp;</td></tr></table></div>\n",
       "    <br />(rows: 2, time: 4.7s,    93GB processed, job: job_zjDMVdiG49n5xLT875fzAZIk-KM)<br />\n",
       "    <script>\n",
       "      require(['extensions/charting', 'element!10_146436135316', 'style!/static/extensions/charting.css'],\n",
       "        function(charts, dom) {\n",
       "          charts.render(dom,\n",
       "            {\n",
       "              chartStyle:\"table\",\n",
       "              dataName:\"8\",\n",
       "              fields:\"Criteria,KeywordMatchType,AccountDescriptiveName,CampaignName,AdGroupName,Urls,AprilQualityScore,Impressions,Clicks,Cost,AllConversions,CostPerAllConversion\",\n",
       "              totalRows:2,\n",
       "              rowsPerPage:25,\n",
       "            }, {}, {\"rows\": [{\"c\": [{\"v\": \"flight to London\"}, {\"v\": \"Phrase\"}, {\"v\": \"BravoFly.com\"}, {\"v\": \"Destinazioni Cipro Phrase\"}, {\"v\": \"London\"}, {\"v\": \"[\\\"http://www.bravofly.com/vg1/home.do?arrivalAirport=LON&COBRANDED=GMADWORDCOM\\\"]\"}, {\"v\": 9.0}, {\"v\": 44}, {\"v\": 1}, {\"v\": 0.43}, {\"v\": 0.0}, {\"v\": null}]}, {\"c\": [{\"v\": \"flight to London\"}, {\"v\": \"Phrase\"}, {\"v\": \"Bravofly COM ROW\"}, {\"v\": \"Destinazioni Citt\\u00e0 Mondo Phrase\"}, {\"v\": \"London\"}, {\"v\": \"[\\\"http://www.bravofly.com/vg1/home.do?arrivalAirport=LON&COBRANDED=GMADWORDCOM\\\"]\"}, {\"v\": 8.0}, {\"v\": 537}, {\"v\": 28}, {\"v\": 22.85}, {\"v\": 0.0}, {\"v\": null}]}], \"cols\": [{\"type\": \"string\", \"id\": \"Criteria\", \"label\": \"Criteria\"}, {\"type\": \"string\", \"id\": \"KeywordMatchType\", \"label\": \"KeywordMatchType\"}, {\"type\": \"string\", \"id\": \"AccountDescriptiveName\", \"label\": \"AccountDescriptiveName\"}, {\"type\": \"string\", \"id\": \"CampaignName\", \"label\": \"CampaignName\"}, {\"type\": \"string\", \"id\": \"AdGroupName\", \"label\": \"AdGroupName\"}, {\"type\": \"string\", \"id\": \"Urls\", \"label\": \"Urls\"}, {\"type\": \"number\", \"id\": \"AprilQualityScore\", \"label\": \"AprilQualityScore\"}, {\"type\": \"number\", \"id\": \"Impressions\", \"label\": \"Impressions\"}, {\"type\": \"number\", \"id\": \"Clicks\", \"label\": \"Clicks\"}, {\"type\": \"number\", \"id\": \"Cost\", \"label\": \"Cost\"}, {\"type\": \"number\", \"id\": \"AllConversions\", \"label\": \"AllConversions\"}, {\"type\": \"number\", \"id\": \"CostPerAllConversion\", \"label\": \"CostPerAllConversion\"}]});\n",
       "        }\n",
       "      );\n",
       "    </script>\n",
       "  "
      ],
      "text/plain": [
       "QueryResultsTable job_zjDMVdiG49n5xLT875fzAZIk-KM"
      ]
     },
     "execution_count": 81,
     "metadata": {},
     "output_type": "execute_result"
    }
   ],
   "source": [
    "%sql\n",
    "SELECT\n",
    "  Criteria,\n",
    "  KeywordMatchType,\n",
    "  AccountDescriptiveName,\n",
    "  CampaignName,\n",
    "  AdGroupName,\n",
    "  IF(CriteriaDestinationUrl != ' --',CriteriaDestinationUrl,FinalUrls) as Urls,\n",
    "  AVG(QualityScore) as AprilQualityScore,\n",
    "  SUM(Impressions) as Impressions,\n",
    "  SUM(Clicks) as Clicks,\n",
    "  SUM(Cost)/1000000 as Cost,\n",
    "  SUM(AllConversions) as AllConversions,\n",
    "  SUM(Cost)/SUM(AllConversions)/1000000 as CostPerAllConversion\n",
    "FROM\n",
    " [google.com:ddm-connectors-demo:aw_dataset.KEYWORDS_PERFORMANCE_ANALYTICS]\n",
    "WHERE True\n",
    "AND  AdNetworkType2 = 'Google search' \n",
    "AND NOT IsNegative \n",
    "AND Status = 'enabled' AND AdGroupStatus = 'enabled' AND CampaignStatus = 'enabled'\n",
    "AND Month = '2016-04-01'\n",
    "AND Criteria = 'flight to London' AND KeywordMatchType = 'Phrase'\n",
    "GROUP BY 1,2,3,4,5,6"
   ]
  },
  {
   "cell_type": "code",
   "execution_count": null,
   "metadata": {
    "collapsed": true
   },
   "outputs": [],
   "source": []
  }
 ],
 "metadata": {
  "kernelspec": {
   "display_name": "Python 2",
   "language": "python",
   "name": "python2"
  },
  "language_info": {
   "codemirror_mode": {
    "name": "ipython",
    "version": 2
   },
   "file_extension": ".py",
   "mimetype": "text/x-python",
   "name": "python",
   "nbconvert_exporter": "python",
   "pygments_lexer": "ipython2",
   "version": "2.7.9"
  }
 },
 "nbformat": 4,
 "nbformat_minor": 0
}
