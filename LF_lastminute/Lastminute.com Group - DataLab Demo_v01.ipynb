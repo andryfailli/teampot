{
 "cells": [
  {
   "cell_type": "markdown",
   "metadata": {},
   "source": [
    "# Preminary operations\n",
    "\n",
    "Let us start by importing the relevant packages"
   ]
  },
  {
   "cell_type": "code",
   "execution_count": 5,
   "metadata": {
    "collapsed": true
   },
   "outputs": [],
   "source": [
    "import gcp.bigquery as bq\n",
    "import pandas as pd\n",
    "import matplotlib.pylab as plt\n",
    "import numpy as np\n",
    "import seaborn as sns"
   ]
  },
  {
   "cell_type": "markdown",
   "metadata": {},
   "source": [
    "## Let us explore the dataset"
   ]
  },
  {
   "cell_type": "code",
   "execution_count": 6,
   "metadata": {
    "collapsed": false
   },
   "outputs": [
    {
     "data": {
      "text/html": [
       "\n",
       "    <div class=\"bqtv\" id=\"1_146453200096\"><table><tr><th>project_id</th><th>dataset_id</th><th>table_id</th><th>creation_time</th><th>last_modified_time</th><th>row_count</th><th>size_bytes</th><th>type</th></tr><tr><td>google.com:ddm-connectors-demo</td><td>aw_dataset</td><td>ACCOUNT_PERFORMANCE_DEVICE</td><td>1462865492924</td><td>1462865646222</td><td>344872</td><td>213766803</td><td>1</td></tr><tr><td>google.com:ddm-connectors-demo</td><td>aw_dataset</td><td>ACCOUNT_PERFORMANCE_HOUR_OF_DAY</td><td>1462866241157</td><td>1462868328687</td><td>7585976</td><td>4293195830</td><td>1</td></tr><tr><td>google.com:ddm-connectors-demo</td><td>aw_dataset</td><td>CAMPAIGN_PERFORMANCE_DEVICE</td><td>1462882853869</td><td>1462884926720</td><td>12818403</td><td>11156943261</td><td>1</td></tr><tr><td>google.com:ddm-connectors-demo</td><td>aw_dataset</td><td>CAMPAIGN_PERFORMANCE_GA</td><td>1462886351515</td><td>1462888587490</td><td>12818403</td><td>11092304675</td><td>1</td></tr><tr><td>google.com:ddm-connectors-demo</td><td>aw_dataset</td><td>CAMPAIGN_PERFORMANCE_HOUR_OF_DAY</td><td>1462890199029</td><td>1462910444516</td><td>149020493</td><td>120843835228</td><td>1</td></tr><tr><td>google.com:ddm-connectors-demo</td><td>aw_dataset</td><td>KEYWORDS_PERFORMANCE_ANALYTICS</td><td>1462965362235</td><td>1463059120058</td><td>295426051</td><td>435427263267</td><td>1</td></tr><tr><td>google.com:ddm-connectors-demo</td><td>aw_dataset</td><td>KEYWORDS_PERFORMANCE_DEVICE</td><td>1463050362280</td><td>1463408383328</td><td>447387461</td><td>631380449113</td><td>1</td></tr></table></div>\n",
       "    <br />(rows: 7, time: 0.9s, cached, job: job_3KYP2-aVdbVdu-22TZ5435AWn48)<br />\n",
       "    <script>\n",
       "      require(['extensions/charting', 'element!1_146453200096', 'style!/static/extensions/charting.css'],\n",
       "        function(charts, dom) {\n",
       "          charts.render(dom,\n",
       "            {\n",
       "              chartStyle:\"table\",\n",
       "              dataName:\"0\",\n",
       "              fields:\"project_id,dataset_id,table_id,creation_time,last_modified_time,row_count,size_bytes,type\",\n",
       "              totalRows:7,\n",
       "              rowsPerPage:25,\n",
       "            }, {}, {\"rows\": [{\"c\": [{\"v\": \"google.com:ddm-connectors-demo\"}, {\"v\": \"aw_dataset\"}, {\"v\": \"ACCOUNT_PERFORMANCE_DEVICE\"}, {\"v\": 1462865492924}, {\"v\": 1462865646222}, {\"v\": 344872}, {\"v\": 213766803}, {\"v\": 1}]}, {\"c\": [{\"v\": \"google.com:ddm-connectors-demo\"}, {\"v\": \"aw_dataset\"}, {\"v\": \"ACCOUNT_PERFORMANCE_HOUR_OF_DAY\"}, {\"v\": 1462866241157}, {\"v\": 1462868328687}, {\"v\": 7585976}, {\"v\": 4293195830}, {\"v\": 1}]}, {\"c\": [{\"v\": \"google.com:ddm-connectors-demo\"}, {\"v\": \"aw_dataset\"}, {\"v\": \"CAMPAIGN_PERFORMANCE_DEVICE\"}, {\"v\": 1462882853869}, {\"v\": 1462884926720}, {\"v\": 12818403}, {\"v\": 11156943261}, {\"v\": 1}]}, {\"c\": [{\"v\": \"google.com:ddm-connectors-demo\"}, {\"v\": \"aw_dataset\"}, {\"v\": \"CAMPAIGN_PERFORMANCE_GA\"}, {\"v\": 1462886351515}, {\"v\": 1462888587490}, {\"v\": 12818403}, {\"v\": 11092304675}, {\"v\": 1}]}, {\"c\": [{\"v\": \"google.com:ddm-connectors-demo\"}, {\"v\": \"aw_dataset\"}, {\"v\": \"CAMPAIGN_PERFORMANCE_HOUR_OF_DAY\"}, {\"v\": 1462890199029}, {\"v\": 1462910444516}, {\"v\": 149020493}, {\"v\": 120843835228}, {\"v\": 1}]}, {\"c\": [{\"v\": \"google.com:ddm-connectors-demo\"}, {\"v\": \"aw_dataset\"}, {\"v\": \"KEYWORDS_PERFORMANCE_ANALYTICS\"}, {\"v\": 1462965362235}, {\"v\": 1463059120058}, {\"v\": 295426051}, {\"v\": 435427263267}, {\"v\": 1}]}, {\"c\": [{\"v\": \"google.com:ddm-connectors-demo\"}, {\"v\": \"aw_dataset\"}, {\"v\": \"KEYWORDS_PERFORMANCE_DEVICE\"}, {\"v\": 1463050362280}, {\"v\": 1463408383328}, {\"v\": 447387461}, {\"v\": 631380449113}, {\"v\": 1}]}], \"cols\": [{\"type\": \"string\", \"id\": \"project_id\", \"label\": \"project_id\"}, {\"type\": \"string\", \"id\": \"dataset_id\", \"label\": \"dataset_id\"}, {\"type\": \"string\", \"id\": \"table_id\", \"label\": \"table_id\"}, {\"type\": \"number\", \"id\": \"creation_time\", \"label\": \"creation_time\"}, {\"type\": \"number\", \"id\": \"last_modified_time\", \"label\": \"last_modified_time\"}, {\"type\": \"number\", \"id\": \"row_count\", \"label\": \"row_count\"}, {\"type\": \"number\", \"id\": \"size_bytes\", \"label\": \"size_bytes\"}, {\"type\": \"number\", \"id\": \"type\", \"label\": \"type\"}]});\n",
       "        }\n",
       "      );\n",
       "    </script>\n",
       "  "
      ],
      "text/plain": [
       "QueryResultsTable job_3KYP2-aVdbVdu-22TZ5435AWn48"
      ]
     },
     "execution_count": 6,
     "metadata": {},
     "output_type": "execute_result"
    }
   ],
   "source": [
    "%%sql \n",
    "SELECT * FROM [google.com:ddm-connectors-demo:aw_dataset.__TABLES__];"
   ]
  },
  {
   "cell_type": "markdown",
   "metadata": {},
   "source": [
    "## Lest us explore the table KEYWORDS_PERFORMANCE_ANALYTICS"
   ]
  },
  {
   "cell_type": "code",
   "execution_count": 7,
   "metadata": {
    "collapsed": false
   },
   "outputs": [
    {
     "data": {
      "text/html": [
       "\n",
       "    <div class=\"bqsv\" id=\"2_146453200131\"></div>\n",
       "    <script>\n",
       "      require(['extensions/bigquery', 'element!2_146453200131', 'style!/static/extensions/bigquery.css'],\n",
       "        function(bq, dom) {\n",
       "          bq.renderSchema(dom, [{\"type\": \"STRING\", \"name\": \"AccountCurrencyCode\"}, {\"type\": \"STRING\", \"name\": \"AccountDescriptiveName\"}, {\"type\": \"STRING\", \"name\": \"AccountTimeZoneId\"}, {\"type\": \"INTEGER\", \"name\": \"ActiveViewCpm\"}, {\"type\": \"STRING\", \"name\": \"ActiveViewCtr\"}, {\"type\": \"INTEGER\", \"name\": \"ActiveViewImpressions\"}, {\"type\": \"STRING\", \"name\": \"ActiveViewMeasurability\"}, {\"type\": \"INTEGER\", \"name\": \"ActiveViewMeasurableCost\"}, {\"type\": \"INTEGER\", \"name\": \"ActiveViewMeasurableImpressions\"}, {\"type\": \"STRING\", \"name\": \"ActiveViewViewability\"}, {\"type\": \"INTEGER\", \"name\": \"AdGroupId\"}, {\"type\": \"STRING\", \"name\": \"AdGroupName\"}, {\"type\": \"STRING\", \"name\": \"AdGroupStatus\"}, {\"type\": \"STRING\", \"name\": \"AdNetworkType1\"}, {\"type\": \"STRING\", \"name\": \"AdNetworkType2\"}, {\"type\": \"STRING\", \"name\": \"AllConversionRate\"}, {\"type\": \"FLOAT\", \"name\": \"AllConversions\"}, {\"type\": \"FLOAT\", \"name\": \"AllConversionValue\"}, {\"type\": \"STRING\", \"name\": \"ApprovalStatus\"}, {\"type\": \"INTEGER\", \"name\": \"AverageCost\"}, {\"type\": \"INTEGER\", \"name\": \"AverageCpc\"}, {\"type\": \"INTEGER\", \"name\": \"AverageCpe\"}, {\"type\": \"INTEGER\", \"name\": \"AverageCpm\"}, {\"type\": \"INTEGER\", \"name\": \"AverageCpv\"}, {\"type\": \"FLOAT\", \"name\": \"AveragePageviews\"}, {\"type\": \"FLOAT\", \"name\": \"AveragePosition\"}, {\"type\": \"INTEGER\", \"name\": \"AverageTimeOnSite\"}, {\"type\": \"INTEGER\", \"name\": \"BaseAdGroupId\"}, {\"type\": \"INTEGER\", \"name\": \"BaseCampaignId\"}, {\"type\": \"INTEGER\", \"name\": \"BiddingStrategyId\"}, {\"type\": \"STRING\", \"name\": \"BiddingStrategyName\"}, {\"type\": \"STRING\", \"name\": \"BiddingStrategySource\"}, {\"type\": \"STRING\", \"name\": \"BiddingStrategyType\"}, {\"type\": \"STRING\", \"name\": \"BidType\"}, {\"type\": \"STRING\", \"name\": \"BounceRate\"}, {\"type\": \"INTEGER\", \"name\": \"CampaignId\"}, {\"type\": \"STRING\", \"name\": \"CampaignName\"}, {\"type\": \"STRING\", \"name\": \"CampaignStatus\"}, {\"type\": \"FLOAT\", \"name\": \"ClickAssistedConversionsOverLastClickConversions\"}, {\"type\": \"FLOAT\", \"name\": \"ClickAssistedConversionValue\"}, {\"type\": \"STRING\", \"name\": \"ClickConversionRate\"}, {\"type\": \"INTEGER\", \"name\": \"Clicks\"}, {\"type\": \"STRING\", \"name\": \"ConversionRate\"}, {\"type\": \"FLOAT\", \"name\": \"Conversions\"}, {\"type\": \"FLOAT\", \"name\": \"ConversionValue\"}, {\"type\": \"INTEGER\", \"name\": \"ConvertedClicks\"}, {\"type\": \"INTEGER\", \"name\": \"Cost\"}, {\"type\": \"INTEGER\", \"name\": \"CostPerAllConversion\"}, {\"type\": \"INTEGER\", \"name\": \"CostPerConversion\"}, {\"type\": \"INTEGER\", \"name\": \"CostPerConvertedClick\"}, {\"type\": \"STRING\", \"name\": \"CpcBid\"}, {\"type\": \"STRING\", \"name\": \"CpcBidSource\"}, {\"type\": \"STRING\", \"name\": \"CpmBid\"}, {\"type\": \"STRING\", \"name\": \"CreativeQualityScore\"}, {\"type\": \"STRING\", \"name\": \"Criteria\"}, {\"type\": \"STRING\", \"name\": \"CriteriaDestinationUrl\"}, {\"type\": \"FLOAT\", \"name\": \"CrossDeviceConversions\"}, {\"type\": \"STRING\", \"name\": \"Ctr\"}, {\"type\": \"STRING\", \"name\": \"CustomerDescriptiveName\"}, {\"type\": \"STRING\", \"name\": \"Date\"}, {\"type\": \"STRING\", \"name\": \"DayOfWeek\"}, {\"type\": \"STRING\", \"name\": \"EngagementRate\"}, {\"type\": \"INTEGER\", \"name\": \"Engagements\"}, {\"type\": \"BOOLEAN\", \"name\": \"EnhancedCpcEnabled\"}, {\"type\": \"STRING\", \"name\": \"EstimatedAddClicksAtFirstPositionCpc\"}, {\"type\": \"STRING\", \"name\": \"EstimatedAddCostAtFirstPositionCpc\"}, {\"type\": \"INTEGER\", \"name\": \"ExternalCustomerId\"}, {\"type\": \"STRING\", \"name\": \"FinalAppUrls\"}, {\"type\": \"STRING\", \"name\": \"FinalMobileUrls\"}, {\"type\": \"STRING\", \"name\": \"FinalUrls\"}, {\"type\": \"INTEGER\", \"name\": \"FirstPageCpc\"}, {\"type\": \"INTEGER\", \"name\": \"FirstPositionCpc\"}, {\"type\": \"INTEGER\", \"name\": \"GmailForwards\"}, {\"type\": \"INTEGER\", \"name\": \"GmailSaves\"}, {\"type\": \"INTEGER\", \"name\": \"GmailSecondaryClicks\"}, {\"type\": \"INTEGER\", \"name\": \"Id\"}, {\"type\": \"INTEGER\", \"name\": \"ImpressionAssistedConversions\"}, {\"type\": \"FLOAT\", \"name\": \"ImpressionAssistedConversionsOverLastClickConversions\"}, {\"type\": \"FLOAT\", \"name\": \"ImpressionAssistedConversionValue\"}, {\"type\": \"INTEGER\", \"name\": \"Impressions\"}, {\"type\": \"STRING\", \"name\": \"InteractionRate\"}, {\"type\": \"INTEGER\", \"name\": \"Interactions\"}, {\"type\": \"BOOLEAN\", \"name\": \"IsNegative\"}, {\"type\": \"STRING\", \"name\": \"KeywordMatchType\"}, {\"type\": \"STRING\", \"name\": \"LabelIds\"}, {\"type\": \"STRING\", \"name\": \"Labels\"}, {\"type\": \"STRING\", \"name\": \"Month\"}, {\"type\": \"STRING\", \"name\": \"MonthOfYear\"}, {\"type\": \"STRING\", \"name\": \"PercentNewVisitors\"}, {\"type\": \"STRING\", \"name\": \"PostClickQualityScore\"}, {\"type\": \"STRING\", \"name\": \"PrimaryCompanyName\"}, {\"type\": \"INTEGER\", \"name\": \"QualityScore\"}, {\"type\": \"STRING\", \"name\": \"Quarter\"}, {\"type\": \"STRING\", \"name\": \"SearchExactMatchImpressionShare\"}, {\"type\": \"STRING\", \"name\": \"SearchImpressionShare\"}, {\"type\": \"STRING\", \"name\": \"SearchPredictedCtr\"}, {\"type\": \"STRING\", \"name\": \"SearchRankLostImpressionShare\"}, {\"type\": \"STRING\", \"name\": \"Status\"}, {\"type\": \"STRING\", \"name\": \"SystemServingStatus\"}, {\"type\": \"INTEGER\", \"name\": \"TopOfPageCpc\"}, {\"type\": \"STRING\", \"name\": \"TrackingUrlTemplate\"}, {\"type\": \"STRING\", \"name\": \"UrlCustomParameters\"}, {\"type\": \"FLOAT\", \"name\": \"ValuePerAllConversion\"}, {\"type\": \"FLOAT\", \"name\": \"ValuePerConversion\"}, {\"type\": \"FLOAT\", \"name\": \"ValuePerConvertedClick\"}, {\"type\": \"STRING\", \"name\": \"VideoQuartile100Rate\"}, {\"type\": \"STRING\", \"name\": \"VideoQuartile25Rate\"}, {\"type\": \"STRING\", \"name\": \"VideoQuartile50Rate\"}, {\"type\": \"STRING\", \"name\": \"VideoQuartile75Rate\"}, {\"type\": \"STRING\", \"name\": \"VideoViewRate\"}, {\"type\": \"INTEGER\", \"name\": \"VideoViews\"}, {\"type\": \"INTEGER\", \"name\": \"ViewThroughConversions\"}, {\"type\": \"STRING\", \"name\": \"Week\"}, {\"type\": \"INTEGER\", \"name\": \"Year\"}]);\n",
       "        }\n",
       "      );\n",
       "    </script>\n",
       "    "
      ],
      "text/plain": [
       "<IPython.core.display.HTML object>"
      ]
     },
     "execution_count": 7,
     "metadata": {},
     "output_type": "execute_result"
    }
   ],
   "source": [
    "%bigquery schema --table google.com:ddm-connectors-demo:aw_dataset.KEYWORDS_PERFORMANCE_ANALYTICS"
   ]
  },
  {
   "cell_type": "markdown",
   "metadata": {},
   "source": [
    "## Let us see how the data look like"
   ]
  },
  {
   "cell_type": "code",
   "execution_count": 8,
   "metadata": {
    "collapsed": false
   },
   "outputs": [
    {
     "data": {
      "text/html": [
       "\n",
       "    <div class=\"bqtv\" id=\"3_146453200249\"><table><tr><th>AccountCurrencyCode</th><th>AccountDescriptiveName</th><th>AccountTimeZoneId</th><th>ActiveViewCpm</th><th>ActiveViewCtr</th><th>ActiveViewImpressions</th><th>ActiveViewMeasurability</th><th>ActiveViewMeasurableCost</th><th>ActiveViewMeasurableImpressions</th><th>ActiveViewViewability</th><th>AdGroupId</th><th>AdGroupName</th><th>AdGroupStatus</th><th>AdNetworkType1</th><th>AdNetworkType2</th><th>AllConversionRate</th><th>AllConversions</th><th>AllConversionValue</th><th>ApprovalStatus</th><th>AverageCost</th><th>AverageCpc</th><th>AverageCpe</th><th>AverageCpm</th><th>AverageCpv</th><th>AveragePageviews</th><th>AveragePosition</th><th>AverageTimeOnSite</th><th>BaseAdGroupId</th><th>BaseCampaignId</th><th>BiddingStrategyId</th><th>BiddingStrategyName</th><th>BiddingStrategySource</th><th>BiddingStrategyType</th><th>BidType</th><th>BounceRate</th><th>CampaignId</th><th>CampaignName</th><th>CampaignStatus</th><th>ClickAssistedConversionsOverLastClickConversions</th><th>ClickAssistedConversionValue</th><th>ClickConversionRate</th><th>Clicks</th><th>ConversionRate</th><th>Conversions</th><th>ConversionValue</th><th>ConvertedClicks</th><th>Cost</th><th>CostPerAllConversion</th><th>CostPerConversion</th><th>CostPerConvertedClick</th><th>CpcBid</th><th>CpcBidSource</th><th>CpmBid</th><th>CreativeQualityScore</th><th>Criteria</th><th>CriteriaDestinationUrl</th><th>CrossDeviceConversions</th><th>Ctr</th><th>CustomerDescriptiveName</th><th>Date</th><th>DayOfWeek</th><th>EngagementRate</th><th>Engagements</th><th>EnhancedCpcEnabled</th><th>EstimatedAddClicksAtFirstPositionCpc</th><th>EstimatedAddCostAtFirstPositionCpc</th><th>ExternalCustomerId</th><th>FinalAppUrls</th><th>FinalMobileUrls</th><th>FinalUrls</th><th>FirstPageCpc</th><th>FirstPositionCpc</th><th>GmailForwards</th><th>GmailSaves</th><th>GmailSecondaryClicks</th><th>Id</th><th>ImpressionAssistedConversions</th><th>ImpressionAssistedConversionsOverLastClickConversions</th><th>ImpressionAssistedConversionValue</th><th>Impressions</th><th>InteractionRate</th><th>Interactions</th><th>IsNegative</th><th>KeywordMatchType</th><th>LabelIds</th><th>Labels</th><th>Month</th><th>MonthOfYear</th><th>PercentNewVisitors</th><th>PostClickQualityScore</th><th>PrimaryCompanyName</th><th>QualityScore</th><th>Quarter</th><th>SearchExactMatchImpressionShare</th><th>SearchImpressionShare</th><th>SearchPredictedCtr</th><th>SearchRankLostImpressionShare</th><th>Status</th><th>SystemServingStatus</th><th>TopOfPageCpc</th><th>TrackingUrlTemplate</th><th>UrlCustomParameters</th><th>ValuePerAllConversion</th><th>ValuePerConversion</th><th>ValuePerConvertedClick</th><th>VideoQuartile100Rate</th><th>VideoQuartile25Rate</th><th>VideoQuartile50Rate</th><th>VideoQuartile75Rate</th><th>VideoViewRate</th><th>VideoViews</th><th>ViewThroughConversions</th><th>Week</th><th>Year</th></tr><tr><td>EUR</td><td>Bravofly FR</td><td>(GMT+01:00) Paris</td><td>20000000</td><td>11.11%</td><td>9</td><td>100.00%</td><td>180000</td><td>11</td><td>81.82%</td><td>4742873125</td><td>Bravofly Misspellings</td><td>enabled</td><td>Display Network</td><td>Display Network</td><td>0.00%</td><td>0.0</td><td>0.0</td><td> --</td><td>180000</td><td>180000</td><td>0</td><td>16363636</td><td>0</td><td>1.0</td><td>1.0</td><td>0</td><td>4742873125</td><td>98913565</td><td>0</td><td> --</td><td>campaign</td><td>cpc</td><td> --</td><td>100.00%</td><td>98913565</td><td>Brand Content</td><td>enabled</td><td>0.0</td><td>0.0</td><td>0.00%</td><td>1</td><td>0.00%</td><td>0.0</td><td>0.0</td><td>0</td><td>180000</td><td>0</td><td>0</td><td>0</td><td> --</td><td> --</td><td> --</td><td>Not applicable</td><td>Content</td><td> --</td><td>0.0</td><td>9.09%</td><td>Bravofly FR</td><td>2015-09-30</td><td>Wednesday</td><td>0.00%</td><td>0</td><td>False</td><td> --</td><td> --</td><td>9348411392</td><td> --</td><td> --</td><td> --</td><td>0</td><td>0</td><td>0</td><td>0</td><td>0</td><td>3000000</td><td>0</td><td>0.0</td><td>0.0</td><td>11</td><td>9.09%</td><td>1</td><td>False</td><td>Broad</td><td> --</td><td> --</td><td>2015-09-01</td><td>September</td><td>100.00%</td><td>Not applicable</td><td>Red Universal de Marketing y Bookings On Line, S.A.</td><td>0</td><td>2015-07-01</td><td> --</td><td> --</td><td>Not applicable</td><td> --</td><td>enabled</td><td>eligible</td><td>0</td><td> --</td><td> --</td><td>0.0</td><td>0.0</td><td>0.0</td><td>0.00%</td><td>0.00%</td><td>0.00%</td><td>0.00%</td><td>0.00%</td><td>0</td><td>0</td><td>2015-09-28</td><td>2015</td></tr><tr><td>EUR</td><td>Bravofly Russia Voli</td><td>(GMT+01:00) Rome</td><td>0</td><td>0.00%</td><td>0</td><td>0.00%</td><td>0</td><td>0</td><td>0.00%</td><td>3639849698</td><td>Bravoavia</td><td>enabled</td><td>Search Network</td><td>Google search</td><td>0.00%</td><td>0.0</td><td>0.0</td><td> --</td><td>140000</td><td>140000</td><td>0</td><td>17500000</td><td>0</td><td>7.0</td><td>4.8</td><td>139</td><td>3639849698</td><td>108030218</td><td>0</td><td> --</td><td>campaign</td><td>cpc</td><td> --</td><td>0.00%</td><td>108030218</td><td>Brand_RU_Broad</td><td>enabled</td><td>0.0</td><td>0.0</td><td>0.00%</td><td>1</td><td>0.00%</td><td>0.0</td><td>0.0</td><td>0</td><td>140000</td><td>0</td><td>0</td><td>0</td><td> --</td><td> --</td><td> --</td><td>Not applicable</td><td>бравоавиа билеты</td><td> --</td><td>0.0</td><td>12.50%</td><td>Bravofly Russia Voli</td><td>2015-03-22</td><td>Sunday</td><td>0.00%</td><td>0</td><td>False</td><td> --</td><td> --</td><td>9837210897</td><td> --</td><td> --</td><td> --</td><td>0</td><td>0</td><td>0</td><td>0</td><td>0</td><td>33239627618</td><td>0</td><td>0.0</td><td>0.0</td><td>8</td><td>12.50%</td><td>1</td><td>False</td><td>Broad</td><td> --</td><td> --</td><td>2015-03-01</td><td>March</td><td>0.00%</td><td>Not applicable</td><td>Red Universal de Marketing y Bookings On Line, S.A.</td><td>0</td><td>2015-01-01</td><td> --</td><td>57.14%</td><td>Not applicable</td><td>42.86%</td><td>removed</td><td> --</td><td>0</td><td> --</td><td> --</td><td>0.0</td><td>0.0</td><td>0.0</td><td>0.00%</td><td>0.00%</td><td>0.00%</td><td>0.00%</td><td>0.00%</td><td>0</td><td>0</td><td>2015-03-16</td><td>2015</td></tr><tr><td>EUR</td><td>Bravofly Russia Voli</td><td>(GMT+01:00) Rome</td><td>0</td><td>0.00%</td><td>0</td><td>0.00%</td><td>0</td><td>0</td><td>0.00%</td><td>3639850178</td><td>Bravofly</td><td>enabled</td><td>Search Network</td><td>Search partners</td><td>0.00%</td><td>0.0</td><td>0.0</td><td> --</td><td>0</td><td>0</td><td>0</td><td>0</td><td>0</td><td>0.0</td><td>1.0</td><td>0</td><td>3639850178</td><td>108030218</td><td>0</td><td> --</td><td>campaign</td><td>cpc</td><td> --</td><td>0.00%</td><td>108030218</td><td>Brand_RU_Broad</td><td>enabled</td><td>0.0</td><td>0.0</td><td>0.00%</td><td>0</td><td>0.00%</td><td>0.0</td><td>0.0</td><td>0</td><td>0</td><td>0</td><td>0</td><td>0</td><td> --</td><td> --</td><td> --</td><td>Not applicable</td><td>bravofly</td><td> --</td><td>0.0</td><td>0.00%</td><td>Bravofly Russia Voli</td><td>2015-03-19</td><td>Thursday</td><td>0.00%</td><td>0</td><td>False</td><td> --</td><td> --</td><td>9837210897</td><td> --</td><td> --</td><td> --</td><td>0</td><td>0</td><td>0</td><td>0</td><td>0</td><td>3117710189</td><td>0</td><td>0.0</td><td>0.0</td><td>1</td><td>0.00%</td><td>0</td><td>False</td><td>Phrase</td><td> --</td><td> --</td><td>2015-03-01</td><td>March</td><td>0.00%</td><td>Not applicable</td><td>Red Universal de Marketing y Bookings On Line, S.A.</td><td>0</td><td>2015-01-01</td><td> --</td><td>100.00%</td><td>Not applicable</td><td>0.00%</td><td>removed</td><td> --</td><td>0</td><td> --</td><td> --</td><td>0.0</td><td>0.0</td><td>0.0</td><td>0.00%</td><td>0.00%</td><td>0.00%</td><td>0.00%</td><td>0.00%</td><td>0</td><td>0</td><td>2015-03-16</td><td>2015</td></tr><tr><td>EUR</td><td>Bravofly Russia Voli</td><td>(GMT+01:00) Rome</td><td>0</td><td>0.00%</td><td>0</td><td>0.00%</td><td>0</td><td>0</td><td>0.00%</td><td>3639850178</td><td>Bravofly</td><td>enabled</td><td>Search Network</td><td>Google search</td><td>0.00%</td><td>0.0</td><td>0.0</td><td> --</td><td>30000</td><td>30000</td><td>0</td><td>15000000</td><td>0</td><td>14.0</td><td>1.0</td><td>701</td><td>3639850178</td><td>108030218</td><td>0</td><td> --</td><td>campaign</td><td>cpc</td><td> --</td><td>0.00%</td><td>108030218</td><td>Brand_RU_Broad</td><td>enabled</td><td>0.0</td><td>0.0</td><td>0.00%</td><td>1</td><td>0.00%</td><td>0.0</td><td>0.0</td><td>0</td><td>30000</td><td>0</td><td>0</td><td>0</td><td> --</td><td> --</td><td> --</td><td>Not applicable</td><td>www bravofly com</td><td> --</td><td>0.0</td><td>50.00%</td><td>Bravofly Russia Voli</td><td>2015-03-28</td><td>Saturday</td><td>0.00%</td><td>0</td><td>False</td><td> --</td><td> --</td><td>9837210897</td><td> --</td><td> --</td><td> --</td><td>0</td><td>0</td><td>0</td><td>0</td><td>0</td><td>4437800410</td><td>0</td><td>0.0</td><td>0.0</td><td>2</td><td>50.00%</td><td>1</td><td>False</td><td>Broad</td><td> --</td><td> --</td><td>2015-03-01</td><td>March</td><td>0.00%</td><td>Not applicable</td><td>Red Universal de Marketing y Bookings On Line, S.A.</td><td>0</td><td>2015-01-01</td><td> --</td><td>100.00%</td><td>Not applicable</td><td>0.00%</td><td>removed</td><td> --</td><td>0</td><td> --</td><td> --</td><td>0.0</td><td>0.0</td><td>0.0</td><td>0.00%</td><td>0.00%</td><td>0.00%</td><td>0.00%</td><td>0.00%</td><td>0</td><td>0</td><td>2015-03-23</td><td>2015</td></tr><tr><td>EUR</td><td>Bravofly Russia Voli</td><td>(GMT+01:00) Rome</td><td>0</td><td>0.00%</td><td>0</td><td>0.00%</td><td>0</td><td>0</td><td>0.00%</td><td>10139184698</td><td>Volagratis</td><td>enabled</td><td>Search Network</td><td>Google search</td><td>0.00%</td><td>0.0</td><td>0.0</td><td> --</td><td>0</td><td>0</td><td>0</td><td>0</td><td>0</td><td>0.0</td><td>0.0</td><td>0</td><td>10139184698</td><td>108030218</td><td>0</td><td> --</td><td>campaign</td><td>cpc</td><td> --</td><td>0.00%</td><td>108030218</td><td>Brand_RU_Broad</td><td>enabled</td><td>0.0</td><td>0.0</td><td>0.00%</td><td>0</td><td>0.00%</td><td>0.0</td><td>0.0</td><td>0</td><td>0</td><td>0</td><td>0</td><td>0</td><td> --</td><td> --</td><td> --</td><td>Not applicable</td><td>vola gratis</td><td> --</td><td>0.0</td><td>0.00%</td><td>Bravofly Russia Voli</td><td>2015-06-25</td><td>Thursday</td><td>0.00%</td><td>0</td><td>False</td><td> --</td><td> --</td><td>9837210897</td><td> --</td><td> --</td><td> --</td><td>0</td><td>0</td><td>0</td><td>0</td><td>0</td><td>297004287</td><td>0</td><td>0.0</td><td>0.0</td><td>0</td><td>0.00%</td><td>0</td><td>False</td><td>Broad</td><td> --</td><td> --</td><td>2015-06-01</td><td>June</td><td>0.00%</td><td>Not applicable</td><td>Red Universal de Marketing y Bookings On Line, S.A.</td><td>0</td><td>2015-04-01</td><td> --</td><td>&lt; 10%</td><td>Not applicable</td><td>&gt; 90%</td><td>removed</td><td> --</td><td>0</td><td> --</td><td> --</td><td>0.0</td><td>0.0</td><td>0.0</td><td>0.00%</td><td>0.00%</td><td>0.00%</td><td>0.00%</td><td>0.00%</td><td>0</td><td>0</td><td>2015-06-22</td><td>2015</td></tr></table></div>\n",
       "    <br />(rows: 5, time: 0.8s, cached, job: job_2sU-GOHIL2ooZtrhZmRza2MpTmY)<br />\n",
       "    <script>\n",
       "      require(['extensions/charting', 'element!3_146453200249', 'style!/static/extensions/charting.css'],\n",
       "        function(charts, dom) {\n",
       "          charts.render(dom,\n",
       "            {\n",
       "              chartStyle:\"table\",\n",
       "              dataName:\"1\",\n",
       "              fields:\"AccountCurrencyCode,AccountDescriptiveName,AccountTimeZoneId,ActiveViewCpm,ActiveViewCtr,ActiveViewImpressions,ActiveViewMeasurability,ActiveViewMeasurableCost,ActiveViewMeasurableImpressions,ActiveViewViewability,AdGroupId,AdGroupName,AdGroupStatus,AdNetworkType1,AdNetworkType2,AllConversionRate,AllConversions,AllConversionValue,ApprovalStatus,AverageCost,AverageCpc,AverageCpe,AverageCpm,AverageCpv,AveragePageviews,AveragePosition,AverageTimeOnSite,BaseAdGroupId,BaseCampaignId,BiddingStrategyId,BiddingStrategyName,BiddingStrategySource,BiddingStrategyType,BidType,BounceRate,CampaignId,CampaignName,CampaignStatus,ClickAssistedConversionsOverLastClickConversions,ClickAssistedConversionValue,ClickConversionRate,Clicks,ConversionRate,Conversions,ConversionValue,ConvertedClicks,Cost,CostPerAllConversion,CostPerConversion,CostPerConvertedClick,CpcBid,CpcBidSource,CpmBid,CreativeQualityScore,Criteria,CriteriaDestinationUrl,CrossDeviceConversions,Ctr,CustomerDescriptiveName,Date,DayOfWeek,EngagementRate,Engagements,EnhancedCpcEnabled,EstimatedAddClicksAtFirstPositionCpc,EstimatedAddCostAtFirstPositionCpc,ExternalCustomerId,FinalAppUrls,FinalMobileUrls,FinalUrls,FirstPageCpc,FirstPositionCpc,GmailForwards,GmailSaves,GmailSecondaryClicks,Id,ImpressionAssistedConversions,ImpressionAssistedConversionsOverLastClickConversions,ImpressionAssistedConversionValue,Impressions,InteractionRate,Interactions,IsNegative,KeywordMatchType,LabelIds,Labels,Month,MonthOfYear,PercentNewVisitors,PostClickQualityScore,PrimaryCompanyName,QualityScore,Quarter,SearchExactMatchImpressionShare,SearchImpressionShare,SearchPredictedCtr,SearchRankLostImpressionShare,Status,SystemServingStatus,TopOfPageCpc,TrackingUrlTemplate,UrlCustomParameters,ValuePerAllConversion,ValuePerConversion,ValuePerConvertedClick,VideoQuartile100Rate,VideoQuartile25Rate,VideoQuartile50Rate,VideoQuartile75Rate,VideoViewRate,VideoViews,ViewThroughConversions,Week,Year\",\n",
       "              totalRows:5,\n",
       "              rowsPerPage:25,\n",
       "            }, {}, {\"rows\": [{\"c\": [{\"v\": \"EUR\"}, {\"v\": \"Bravofly FR\"}, {\"v\": \"(GMT+01:00) Paris\"}, {\"v\": 20000000}, {\"v\": \"11.11%\"}, {\"v\": 9}, {\"v\": \"100.00%\"}, {\"v\": 180000}, {\"v\": 11}, {\"v\": \"81.82%\"}, {\"v\": 4742873125}, {\"v\": \"Bravofly Misspellings\"}, {\"v\": \"enabled\"}, {\"v\": \"Display Network\"}, {\"v\": \"Display Network\"}, {\"v\": \"0.00%\"}, {\"v\": 0.0}, {\"v\": 0.0}, {\"v\": \" --\"}, {\"v\": 180000}, {\"v\": 180000}, {\"v\": 0}, {\"v\": 16363636}, {\"v\": 0}, {\"v\": 1.0}, {\"v\": 1.0}, {\"v\": 0}, {\"v\": 4742873125}, {\"v\": 98913565}, {\"v\": 0}, {\"v\": \" --\"}, {\"v\": \"campaign\"}, {\"v\": \"cpc\"}, {\"v\": \" --\"}, {\"v\": \"100.00%\"}, {\"v\": 98913565}, {\"v\": \"Brand Content\"}, {\"v\": \"enabled\"}, {\"v\": 0.0}, {\"v\": 0.0}, {\"v\": \"0.00%\"}, {\"v\": 1}, {\"v\": \"0.00%\"}, {\"v\": 0.0}, {\"v\": 0.0}, {\"v\": 0}, {\"v\": 180000}, {\"v\": 0}, {\"v\": 0}, {\"v\": 0}, {\"v\": \" --\"}, {\"v\": \" --\"}, {\"v\": \" --\"}, {\"v\": \"Not applicable\"}, {\"v\": \"Content\"}, {\"v\": \" --\"}, {\"v\": 0.0}, {\"v\": \"9.09%\"}, {\"v\": \"Bravofly FR\"}, {\"v\": \"2015-09-30\"}, {\"v\": \"Wednesday\"}, {\"v\": \"0.00%\"}, {\"v\": 0}, {\"v\": false}, {\"v\": \" --\"}, {\"v\": \" --\"}, {\"v\": 9348411392}, {\"v\": \" --\"}, {\"v\": \" --\"}, {\"v\": \" --\"}, {\"v\": 0}, {\"v\": 0}, {\"v\": 0}, {\"v\": 0}, {\"v\": 0}, {\"v\": 3000000}, {\"v\": 0}, {\"v\": 0.0}, {\"v\": 0.0}, {\"v\": 11}, {\"v\": \"9.09%\"}, {\"v\": 1}, {\"v\": false}, {\"v\": \"Broad\"}, {\"v\": \" --\"}, {\"v\": \" --\"}, {\"v\": \"2015-09-01\"}, {\"v\": \"September\"}, {\"v\": \"100.00%\"}, {\"v\": \"Not applicable\"}, {\"v\": \"Red Universal de Marketing y Bookings On Line, S.A.\"}, {\"v\": 0}, {\"v\": \"2015-07-01\"}, {\"v\": \" --\"}, {\"v\": \" --\"}, {\"v\": \"Not applicable\"}, {\"v\": \" --\"}, {\"v\": \"enabled\"}, {\"v\": \"eligible\"}, {\"v\": 0}, {\"v\": \" --\"}, {\"v\": \" --\"}, {\"v\": 0.0}, {\"v\": 0.0}, {\"v\": 0.0}, {\"v\": \"0.00%\"}, {\"v\": \"0.00%\"}, {\"v\": \"0.00%\"}, {\"v\": \"0.00%\"}, {\"v\": \"0.00%\"}, {\"v\": 0}, {\"v\": 0}, {\"v\": \"2015-09-28\"}, {\"v\": 2015}]}, {\"c\": [{\"v\": \"EUR\"}, {\"v\": \"Bravofly Russia Voli\"}, {\"v\": \"(GMT+01:00) Rome\"}, {\"v\": 0}, {\"v\": \"0.00%\"}, {\"v\": 0}, {\"v\": \"0.00%\"}, {\"v\": 0}, {\"v\": 0}, {\"v\": \"0.00%\"}, {\"v\": 3639849698}, {\"v\": \"Bravoavia\"}, {\"v\": \"enabled\"}, {\"v\": \"Search Network\"}, {\"v\": \"Google search\"}, {\"v\": \"0.00%\"}, {\"v\": 0.0}, {\"v\": 0.0}, {\"v\": \" --\"}, {\"v\": 140000}, {\"v\": 140000}, {\"v\": 0}, {\"v\": 17500000}, {\"v\": 0}, {\"v\": 7.0}, {\"v\": 4.8}, {\"v\": 139}, {\"v\": 3639849698}, {\"v\": 108030218}, {\"v\": 0}, {\"v\": \" --\"}, {\"v\": \"campaign\"}, {\"v\": \"cpc\"}, {\"v\": \" --\"}, {\"v\": \"0.00%\"}, {\"v\": 108030218}, {\"v\": \"Brand_RU_Broad\"}, {\"v\": \"enabled\"}, {\"v\": 0.0}, {\"v\": 0.0}, {\"v\": \"0.00%\"}, {\"v\": 1}, {\"v\": \"0.00%\"}, {\"v\": 0.0}, {\"v\": 0.0}, {\"v\": 0}, {\"v\": 140000}, {\"v\": 0}, {\"v\": 0}, {\"v\": 0}, {\"v\": \" --\"}, {\"v\": \" --\"}, {\"v\": \" --\"}, {\"v\": \"Not applicable\"}, {\"v\": \"\\u0431\\u0440\\u0430\\u0432\\u043e\\u0430\\u0432\\u0438\\u0430 \\u0431\\u0438\\u043b\\u0435\\u0442\\u044b\"}, {\"v\": \" --\"}, {\"v\": 0.0}, {\"v\": \"12.50%\"}, {\"v\": \"Bravofly Russia Voli\"}, {\"v\": \"2015-03-22\"}, {\"v\": \"Sunday\"}, {\"v\": \"0.00%\"}, {\"v\": 0}, {\"v\": false}, {\"v\": \" --\"}, {\"v\": \" --\"}, {\"v\": 9837210897}, {\"v\": \" --\"}, {\"v\": \" --\"}, {\"v\": \" --\"}, {\"v\": 0}, {\"v\": 0}, {\"v\": 0}, {\"v\": 0}, {\"v\": 0}, {\"v\": 33239627618}, {\"v\": 0}, {\"v\": 0.0}, {\"v\": 0.0}, {\"v\": 8}, {\"v\": \"12.50%\"}, {\"v\": 1}, {\"v\": false}, {\"v\": \"Broad\"}, {\"v\": \" --\"}, {\"v\": \" --\"}, {\"v\": \"2015-03-01\"}, {\"v\": \"March\"}, {\"v\": \"0.00%\"}, {\"v\": \"Not applicable\"}, {\"v\": \"Red Universal de Marketing y Bookings On Line, S.A.\"}, {\"v\": 0}, {\"v\": \"2015-01-01\"}, {\"v\": \" --\"}, {\"v\": \"57.14%\"}, {\"v\": \"Not applicable\"}, {\"v\": \"42.86%\"}, {\"v\": \"removed\"}, {\"v\": \" --\"}, {\"v\": 0}, {\"v\": \" --\"}, {\"v\": \" --\"}, {\"v\": 0.0}, {\"v\": 0.0}, {\"v\": 0.0}, {\"v\": \"0.00%\"}, {\"v\": \"0.00%\"}, {\"v\": \"0.00%\"}, {\"v\": \"0.00%\"}, {\"v\": \"0.00%\"}, {\"v\": 0}, {\"v\": 0}, {\"v\": \"2015-03-16\"}, {\"v\": 2015}]}, {\"c\": [{\"v\": \"EUR\"}, {\"v\": \"Bravofly Russia Voli\"}, {\"v\": \"(GMT+01:00) Rome\"}, {\"v\": 0}, {\"v\": \"0.00%\"}, {\"v\": 0}, {\"v\": \"0.00%\"}, {\"v\": 0}, {\"v\": 0}, {\"v\": \"0.00%\"}, {\"v\": 3639850178}, {\"v\": \"Bravofly\"}, {\"v\": \"enabled\"}, {\"v\": \"Search Network\"}, {\"v\": \"Search partners\"}, {\"v\": \"0.00%\"}, {\"v\": 0.0}, {\"v\": 0.0}, {\"v\": \" --\"}, {\"v\": 0}, {\"v\": 0}, {\"v\": 0}, {\"v\": 0}, {\"v\": 0}, {\"v\": 0.0}, {\"v\": 1.0}, {\"v\": 0}, {\"v\": 3639850178}, {\"v\": 108030218}, {\"v\": 0}, {\"v\": \" --\"}, {\"v\": \"campaign\"}, {\"v\": \"cpc\"}, {\"v\": \" --\"}, {\"v\": \"0.00%\"}, {\"v\": 108030218}, {\"v\": \"Brand_RU_Broad\"}, {\"v\": \"enabled\"}, {\"v\": 0.0}, {\"v\": 0.0}, {\"v\": \"0.00%\"}, {\"v\": 0}, {\"v\": \"0.00%\"}, {\"v\": 0.0}, {\"v\": 0.0}, {\"v\": 0}, {\"v\": 0}, {\"v\": 0}, {\"v\": 0}, {\"v\": 0}, {\"v\": \" --\"}, {\"v\": \" --\"}, {\"v\": \" --\"}, {\"v\": \"Not applicable\"}, {\"v\": \"bravofly\"}, {\"v\": \" --\"}, {\"v\": 0.0}, {\"v\": \"0.00%\"}, {\"v\": \"Bravofly Russia Voli\"}, {\"v\": \"2015-03-19\"}, {\"v\": \"Thursday\"}, {\"v\": \"0.00%\"}, {\"v\": 0}, {\"v\": false}, {\"v\": \" --\"}, {\"v\": \" --\"}, {\"v\": 9837210897}, {\"v\": \" --\"}, {\"v\": \" --\"}, {\"v\": \" --\"}, {\"v\": 0}, {\"v\": 0}, {\"v\": 0}, {\"v\": 0}, {\"v\": 0}, {\"v\": 3117710189}, {\"v\": 0}, {\"v\": 0.0}, {\"v\": 0.0}, {\"v\": 1}, {\"v\": \"0.00%\"}, {\"v\": 0}, {\"v\": false}, {\"v\": \"Phrase\"}, {\"v\": \" --\"}, {\"v\": \" --\"}, {\"v\": \"2015-03-01\"}, {\"v\": \"March\"}, {\"v\": \"0.00%\"}, {\"v\": \"Not applicable\"}, {\"v\": \"Red Universal de Marketing y Bookings On Line, S.A.\"}, {\"v\": 0}, {\"v\": \"2015-01-01\"}, {\"v\": \" --\"}, {\"v\": \"100.00%\"}, {\"v\": \"Not applicable\"}, {\"v\": \"0.00%\"}, {\"v\": \"removed\"}, {\"v\": \" --\"}, {\"v\": 0}, {\"v\": \" --\"}, {\"v\": \" --\"}, {\"v\": 0.0}, {\"v\": 0.0}, {\"v\": 0.0}, {\"v\": \"0.00%\"}, {\"v\": \"0.00%\"}, {\"v\": \"0.00%\"}, {\"v\": \"0.00%\"}, {\"v\": \"0.00%\"}, {\"v\": 0}, {\"v\": 0}, {\"v\": \"2015-03-16\"}, {\"v\": 2015}]}, {\"c\": [{\"v\": \"EUR\"}, {\"v\": \"Bravofly Russia Voli\"}, {\"v\": \"(GMT+01:00) Rome\"}, {\"v\": 0}, {\"v\": \"0.00%\"}, {\"v\": 0}, {\"v\": \"0.00%\"}, {\"v\": 0}, {\"v\": 0}, {\"v\": \"0.00%\"}, {\"v\": 3639850178}, {\"v\": \"Bravofly\"}, {\"v\": \"enabled\"}, {\"v\": \"Search Network\"}, {\"v\": \"Google search\"}, {\"v\": \"0.00%\"}, {\"v\": 0.0}, {\"v\": 0.0}, {\"v\": \" --\"}, {\"v\": 30000}, {\"v\": 30000}, {\"v\": 0}, {\"v\": 15000000}, {\"v\": 0}, {\"v\": 14.0}, {\"v\": 1.0}, {\"v\": 701}, {\"v\": 3639850178}, {\"v\": 108030218}, {\"v\": 0}, {\"v\": \" --\"}, {\"v\": \"campaign\"}, {\"v\": \"cpc\"}, {\"v\": \" --\"}, {\"v\": \"0.00%\"}, {\"v\": 108030218}, {\"v\": \"Brand_RU_Broad\"}, {\"v\": \"enabled\"}, {\"v\": 0.0}, {\"v\": 0.0}, {\"v\": \"0.00%\"}, {\"v\": 1}, {\"v\": \"0.00%\"}, {\"v\": 0.0}, {\"v\": 0.0}, {\"v\": 0}, {\"v\": 30000}, {\"v\": 0}, {\"v\": 0}, {\"v\": 0}, {\"v\": \" --\"}, {\"v\": \" --\"}, {\"v\": \" --\"}, {\"v\": \"Not applicable\"}, {\"v\": \"www bravofly com\"}, {\"v\": \" --\"}, {\"v\": 0.0}, {\"v\": \"50.00%\"}, {\"v\": \"Bravofly Russia Voli\"}, {\"v\": \"2015-03-28\"}, {\"v\": \"Saturday\"}, {\"v\": \"0.00%\"}, {\"v\": 0}, {\"v\": false}, {\"v\": \" --\"}, {\"v\": \" --\"}, {\"v\": 9837210897}, {\"v\": \" --\"}, {\"v\": \" --\"}, {\"v\": \" --\"}, {\"v\": 0}, {\"v\": 0}, {\"v\": 0}, {\"v\": 0}, {\"v\": 0}, {\"v\": 4437800410}, {\"v\": 0}, {\"v\": 0.0}, {\"v\": 0.0}, {\"v\": 2}, {\"v\": \"50.00%\"}, {\"v\": 1}, {\"v\": false}, {\"v\": \"Broad\"}, {\"v\": \" --\"}, {\"v\": \" --\"}, {\"v\": \"2015-03-01\"}, {\"v\": \"March\"}, {\"v\": \"0.00%\"}, {\"v\": \"Not applicable\"}, {\"v\": \"Red Universal de Marketing y Bookings On Line, S.A.\"}, {\"v\": 0}, {\"v\": \"2015-01-01\"}, {\"v\": \" --\"}, {\"v\": \"100.00%\"}, {\"v\": \"Not applicable\"}, {\"v\": \"0.00%\"}, {\"v\": \"removed\"}, {\"v\": \" --\"}, {\"v\": 0}, {\"v\": \" --\"}, {\"v\": \" --\"}, {\"v\": 0.0}, {\"v\": 0.0}, {\"v\": 0.0}, {\"v\": \"0.00%\"}, {\"v\": \"0.00%\"}, {\"v\": \"0.00%\"}, {\"v\": \"0.00%\"}, {\"v\": \"0.00%\"}, {\"v\": 0}, {\"v\": 0}, {\"v\": \"2015-03-23\"}, {\"v\": 2015}]}, {\"c\": [{\"v\": \"EUR\"}, {\"v\": \"Bravofly Russia Voli\"}, {\"v\": \"(GMT+01:00) Rome\"}, {\"v\": 0}, {\"v\": \"0.00%\"}, {\"v\": 0}, {\"v\": \"0.00%\"}, {\"v\": 0}, {\"v\": 0}, {\"v\": \"0.00%\"}, {\"v\": 10139184698}, {\"v\": \"Volagratis\"}, {\"v\": \"enabled\"}, {\"v\": \"Search Network\"}, {\"v\": \"Google search\"}, {\"v\": \"0.00%\"}, {\"v\": 0.0}, {\"v\": 0.0}, {\"v\": \" --\"}, {\"v\": 0}, {\"v\": 0}, {\"v\": 0}, {\"v\": 0}, {\"v\": 0}, {\"v\": 0.0}, {\"v\": 0.0}, {\"v\": 0}, {\"v\": 10139184698}, {\"v\": 108030218}, {\"v\": 0}, {\"v\": \" --\"}, {\"v\": \"campaign\"}, {\"v\": \"cpc\"}, {\"v\": \" --\"}, {\"v\": \"0.00%\"}, {\"v\": 108030218}, {\"v\": \"Brand_RU_Broad\"}, {\"v\": \"enabled\"}, {\"v\": 0.0}, {\"v\": 0.0}, {\"v\": \"0.00%\"}, {\"v\": 0}, {\"v\": \"0.00%\"}, {\"v\": 0.0}, {\"v\": 0.0}, {\"v\": 0}, {\"v\": 0}, {\"v\": 0}, {\"v\": 0}, {\"v\": 0}, {\"v\": \" --\"}, {\"v\": \" --\"}, {\"v\": \" --\"}, {\"v\": \"Not applicable\"}, {\"v\": \"vola gratis\"}, {\"v\": \" --\"}, {\"v\": 0.0}, {\"v\": \"0.00%\"}, {\"v\": \"Bravofly Russia Voli\"}, {\"v\": \"2015-06-25\"}, {\"v\": \"Thursday\"}, {\"v\": \"0.00%\"}, {\"v\": 0}, {\"v\": false}, {\"v\": \" --\"}, {\"v\": \" --\"}, {\"v\": 9837210897}, {\"v\": \" --\"}, {\"v\": \" --\"}, {\"v\": \" --\"}, {\"v\": 0}, {\"v\": 0}, {\"v\": 0}, {\"v\": 0}, {\"v\": 0}, {\"v\": 297004287}, {\"v\": 0}, {\"v\": 0.0}, {\"v\": 0.0}, {\"v\": 0}, {\"v\": \"0.00%\"}, {\"v\": 0}, {\"v\": false}, {\"v\": \"Broad\"}, {\"v\": \" --\"}, {\"v\": \" --\"}, {\"v\": \"2015-06-01\"}, {\"v\": \"June\"}, {\"v\": \"0.00%\"}, {\"v\": \"Not applicable\"}, {\"v\": \"Red Universal de Marketing y Bookings On Line, S.A.\"}, {\"v\": 0}, {\"v\": \"2015-04-01\"}, {\"v\": \" --\"}, {\"v\": \"< 10%\"}, {\"v\": \"Not applicable\"}, {\"v\": \"> 90%\"}, {\"v\": \"removed\"}, {\"v\": \" --\"}, {\"v\": 0}, {\"v\": \" --\"}, {\"v\": \" --\"}, {\"v\": 0.0}, {\"v\": 0.0}, {\"v\": 0.0}, {\"v\": \"0.00%\"}, {\"v\": \"0.00%\"}, {\"v\": \"0.00%\"}, {\"v\": \"0.00%\"}, {\"v\": \"0.00%\"}, {\"v\": 0}, {\"v\": 0}, {\"v\": \"2015-06-22\"}, {\"v\": 2015}]}], \"cols\": [{\"type\": \"string\", \"id\": \"AccountCurrencyCode\", \"label\": \"AccountCurrencyCode\"}, {\"type\": \"string\", \"id\": \"AccountDescriptiveName\", \"label\": \"AccountDescriptiveName\"}, {\"type\": \"string\", \"id\": \"AccountTimeZoneId\", \"label\": \"AccountTimeZoneId\"}, {\"type\": \"number\", \"id\": \"ActiveViewCpm\", \"label\": \"ActiveViewCpm\"}, {\"type\": \"string\", \"id\": \"ActiveViewCtr\", \"label\": \"ActiveViewCtr\"}, {\"type\": \"number\", \"id\": \"ActiveViewImpressions\", \"label\": \"ActiveViewImpressions\"}, {\"type\": \"string\", \"id\": \"ActiveViewMeasurability\", \"label\": \"ActiveViewMeasurability\"}, {\"type\": \"number\", \"id\": \"ActiveViewMeasurableCost\", \"label\": \"ActiveViewMeasurableCost\"}, {\"type\": \"number\", \"id\": \"ActiveViewMeasurableImpressions\", \"label\": \"ActiveViewMeasurableImpressions\"}, {\"type\": \"string\", \"id\": \"ActiveViewViewability\", \"label\": \"ActiveViewViewability\"}, {\"type\": \"number\", \"id\": \"AdGroupId\", \"label\": \"AdGroupId\"}, {\"type\": \"string\", \"id\": \"AdGroupName\", \"label\": \"AdGroupName\"}, {\"type\": \"string\", \"id\": \"AdGroupStatus\", \"label\": \"AdGroupStatus\"}, {\"type\": \"string\", \"id\": \"AdNetworkType1\", \"label\": \"AdNetworkType1\"}, {\"type\": \"string\", \"id\": \"AdNetworkType2\", \"label\": \"AdNetworkType2\"}, {\"type\": \"string\", \"id\": \"AllConversionRate\", \"label\": \"AllConversionRate\"}, {\"type\": \"number\", \"id\": \"AllConversions\", \"label\": \"AllConversions\"}, {\"type\": \"number\", \"id\": \"AllConversionValue\", \"label\": \"AllConversionValue\"}, {\"type\": \"string\", \"id\": \"ApprovalStatus\", \"label\": \"ApprovalStatus\"}, {\"type\": \"number\", \"id\": \"AverageCost\", \"label\": \"AverageCost\"}, {\"type\": \"number\", \"id\": \"AverageCpc\", \"label\": \"AverageCpc\"}, {\"type\": \"number\", \"id\": \"AverageCpe\", \"label\": \"AverageCpe\"}, {\"type\": \"number\", \"id\": \"AverageCpm\", \"label\": \"AverageCpm\"}, {\"type\": \"number\", \"id\": \"AverageCpv\", \"label\": \"AverageCpv\"}, {\"type\": \"number\", \"id\": \"AveragePageviews\", \"label\": \"AveragePageviews\"}, {\"type\": \"number\", \"id\": \"AveragePosition\", \"label\": \"AveragePosition\"}, {\"type\": \"number\", \"id\": \"AverageTimeOnSite\", \"label\": \"AverageTimeOnSite\"}, {\"type\": \"number\", \"id\": \"BaseAdGroupId\", \"label\": \"BaseAdGroupId\"}, {\"type\": \"number\", \"id\": \"BaseCampaignId\", \"label\": \"BaseCampaignId\"}, {\"type\": \"number\", \"id\": \"BiddingStrategyId\", \"label\": \"BiddingStrategyId\"}, {\"type\": \"string\", \"id\": \"BiddingStrategyName\", \"label\": \"BiddingStrategyName\"}, {\"type\": \"string\", \"id\": \"BiddingStrategySource\", \"label\": \"BiddingStrategySource\"}, {\"type\": \"string\", \"id\": \"BiddingStrategyType\", \"label\": \"BiddingStrategyType\"}, {\"type\": \"string\", \"id\": \"BidType\", \"label\": \"BidType\"}, {\"type\": \"string\", \"id\": \"BounceRate\", \"label\": \"BounceRate\"}, {\"type\": \"number\", \"id\": \"CampaignId\", \"label\": \"CampaignId\"}, {\"type\": \"string\", \"id\": \"CampaignName\", \"label\": \"CampaignName\"}, {\"type\": \"string\", \"id\": \"CampaignStatus\", \"label\": \"CampaignStatus\"}, {\"type\": \"number\", \"id\": \"ClickAssistedConversionsOverLastClickConversions\", \"label\": \"ClickAssistedConversionsOverLastClickConversions\"}, {\"type\": \"number\", \"id\": \"ClickAssistedConversionValue\", \"label\": \"ClickAssistedConversionValue\"}, {\"type\": \"string\", \"id\": \"ClickConversionRate\", \"label\": \"ClickConversionRate\"}, {\"type\": \"number\", \"id\": \"Clicks\", \"label\": \"Clicks\"}, {\"type\": \"string\", \"id\": \"ConversionRate\", \"label\": \"ConversionRate\"}, {\"type\": \"number\", \"id\": \"Conversions\", \"label\": \"Conversions\"}, {\"type\": \"number\", \"id\": \"ConversionValue\", \"label\": \"ConversionValue\"}, {\"type\": \"number\", \"id\": \"ConvertedClicks\", \"label\": \"ConvertedClicks\"}, {\"type\": \"number\", \"id\": \"Cost\", \"label\": \"Cost\"}, {\"type\": \"number\", \"id\": \"CostPerAllConversion\", \"label\": \"CostPerAllConversion\"}, {\"type\": \"number\", \"id\": \"CostPerConversion\", \"label\": \"CostPerConversion\"}, {\"type\": \"number\", \"id\": \"CostPerConvertedClick\", \"label\": \"CostPerConvertedClick\"}, {\"type\": \"string\", \"id\": \"CpcBid\", \"label\": \"CpcBid\"}, {\"type\": \"string\", \"id\": \"CpcBidSource\", \"label\": \"CpcBidSource\"}, {\"type\": \"string\", \"id\": \"CpmBid\", \"label\": \"CpmBid\"}, {\"type\": \"string\", \"id\": \"CreativeQualityScore\", \"label\": \"CreativeQualityScore\"}, {\"type\": \"string\", \"id\": \"Criteria\", \"label\": \"Criteria\"}, {\"type\": \"string\", \"id\": \"CriteriaDestinationUrl\", \"label\": \"CriteriaDestinationUrl\"}, {\"type\": \"number\", \"id\": \"CrossDeviceConversions\", \"label\": \"CrossDeviceConversions\"}, {\"type\": \"string\", \"id\": \"Ctr\", \"label\": \"Ctr\"}, {\"type\": \"string\", \"id\": \"CustomerDescriptiveName\", \"label\": \"CustomerDescriptiveName\"}, {\"type\": \"string\", \"id\": \"Date\", \"label\": \"Date\"}, {\"type\": \"string\", \"id\": \"DayOfWeek\", \"label\": \"DayOfWeek\"}, {\"type\": \"string\", \"id\": \"EngagementRate\", \"label\": \"EngagementRate\"}, {\"type\": \"number\", \"id\": \"Engagements\", \"label\": \"Engagements\"}, {\"type\": \"boolean\", \"id\": \"EnhancedCpcEnabled\", \"label\": \"EnhancedCpcEnabled\"}, {\"type\": \"string\", \"id\": \"EstimatedAddClicksAtFirstPositionCpc\", \"label\": \"EstimatedAddClicksAtFirstPositionCpc\"}, {\"type\": \"string\", \"id\": \"EstimatedAddCostAtFirstPositionCpc\", \"label\": \"EstimatedAddCostAtFirstPositionCpc\"}, {\"type\": \"number\", \"id\": \"ExternalCustomerId\", \"label\": \"ExternalCustomerId\"}, {\"type\": \"string\", \"id\": \"FinalAppUrls\", \"label\": \"FinalAppUrls\"}, {\"type\": \"string\", \"id\": \"FinalMobileUrls\", \"label\": \"FinalMobileUrls\"}, {\"type\": \"string\", \"id\": \"FinalUrls\", \"label\": \"FinalUrls\"}, {\"type\": \"number\", \"id\": \"FirstPageCpc\", \"label\": \"FirstPageCpc\"}, {\"type\": \"number\", \"id\": \"FirstPositionCpc\", \"label\": \"FirstPositionCpc\"}, {\"type\": \"number\", \"id\": \"GmailForwards\", \"label\": \"GmailForwards\"}, {\"type\": \"number\", \"id\": \"GmailSaves\", \"label\": \"GmailSaves\"}, {\"type\": \"number\", \"id\": \"GmailSecondaryClicks\", \"label\": \"GmailSecondaryClicks\"}, {\"type\": \"number\", \"id\": \"Id\", \"label\": \"Id\"}, {\"type\": \"number\", \"id\": \"ImpressionAssistedConversions\", \"label\": \"ImpressionAssistedConversions\"}, {\"type\": \"number\", \"id\": \"ImpressionAssistedConversionsOverLastClickConversions\", \"label\": \"ImpressionAssistedConversionsOverLastClickConversions\"}, {\"type\": \"number\", \"id\": \"ImpressionAssistedConversionValue\", \"label\": \"ImpressionAssistedConversionValue\"}, {\"type\": \"number\", \"id\": \"Impressions\", \"label\": \"Impressions\"}, {\"type\": \"string\", \"id\": \"InteractionRate\", \"label\": \"InteractionRate\"}, {\"type\": \"number\", \"id\": \"Interactions\", \"label\": \"Interactions\"}, {\"type\": \"boolean\", \"id\": \"IsNegative\", \"label\": \"IsNegative\"}, {\"type\": \"string\", \"id\": \"KeywordMatchType\", \"label\": \"KeywordMatchType\"}, {\"type\": \"string\", \"id\": \"LabelIds\", \"label\": \"LabelIds\"}, {\"type\": \"string\", \"id\": \"Labels\", \"label\": \"Labels\"}, {\"type\": \"string\", \"id\": \"Month\", \"label\": \"Month\"}, {\"type\": \"string\", \"id\": \"MonthOfYear\", \"label\": \"MonthOfYear\"}, {\"type\": \"string\", \"id\": \"PercentNewVisitors\", \"label\": \"PercentNewVisitors\"}, {\"type\": \"string\", \"id\": \"PostClickQualityScore\", \"label\": \"PostClickQualityScore\"}, {\"type\": \"string\", \"id\": \"PrimaryCompanyName\", \"label\": \"PrimaryCompanyName\"}, {\"type\": \"number\", \"id\": \"QualityScore\", \"label\": \"QualityScore\"}, {\"type\": \"string\", \"id\": \"Quarter\", \"label\": \"Quarter\"}, {\"type\": \"string\", \"id\": \"SearchExactMatchImpressionShare\", \"label\": \"SearchExactMatchImpressionShare\"}, {\"type\": \"string\", \"id\": \"SearchImpressionShare\", \"label\": \"SearchImpressionShare\"}, {\"type\": \"string\", \"id\": \"SearchPredictedCtr\", \"label\": \"SearchPredictedCtr\"}, {\"type\": \"string\", \"id\": \"SearchRankLostImpressionShare\", \"label\": \"SearchRankLostImpressionShare\"}, {\"type\": \"string\", \"id\": \"Status\", \"label\": \"Status\"}, {\"type\": \"string\", \"id\": \"SystemServingStatus\", \"label\": \"SystemServingStatus\"}, {\"type\": \"number\", \"id\": \"TopOfPageCpc\", \"label\": \"TopOfPageCpc\"}, {\"type\": \"string\", \"id\": \"TrackingUrlTemplate\", \"label\": \"TrackingUrlTemplate\"}, {\"type\": \"string\", \"id\": \"UrlCustomParameters\", \"label\": \"UrlCustomParameters\"}, {\"type\": \"number\", \"id\": \"ValuePerAllConversion\", \"label\": \"ValuePerAllConversion\"}, {\"type\": \"number\", \"id\": \"ValuePerConversion\", \"label\": \"ValuePerConversion\"}, {\"type\": \"number\", \"id\": \"ValuePerConvertedClick\", \"label\": \"ValuePerConvertedClick\"}, {\"type\": \"string\", \"id\": \"VideoQuartile100Rate\", \"label\": \"VideoQuartile100Rate\"}, {\"type\": \"string\", \"id\": \"VideoQuartile25Rate\", \"label\": \"VideoQuartile25Rate\"}, {\"type\": \"string\", \"id\": \"VideoQuartile50Rate\", \"label\": \"VideoQuartile50Rate\"}, {\"type\": \"string\", \"id\": \"VideoQuartile75Rate\", \"label\": \"VideoQuartile75Rate\"}, {\"type\": \"string\", \"id\": \"VideoViewRate\", \"label\": \"VideoViewRate\"}, {\"type\": \"number\", \"id\": \"VideoViews\", \"label\": \"VideoViews\"}, {\"type\": \"number\", \"id\": \"ViewThroughConversions\", \"label\": \"ViewThroughConversions\"}, {\"type\": \"string\", \"id\": \"Week\", \"label\": \"Week\"}, {\"type\": \"number\", \"id\": \"Year\", \"label\": \"Year\"}]});\n",
       "        }\n",
       "      );\n",
       "    </script>\n",
       "  "
      ],
      "text/plain": [
       "QueryResultsTable job_2sU-GOHIL2ooZtrhZmRza2MpTmY"
      ]
     },
     "execution_count": 8,
     "metadata": {},
     "output_type": "execute_result"
    }
   ],
   "source": [
    "%bigquery sample --table google.com:ddm-connectors-demo:aw_dataset.KEYWORDS_PERFORMANCE_ANALYTICS --count 5"
   ]
  },
  {
   "cell_type": "markdown",
   "metadata": {},
   "source": [
    "# Let us start checking the monthly performance on Volagratis in Italy"
   ]
  },
  {
   "cell_type": "code",
   "execution_count": null,
   "metadata": {
    "collapsed": false
   },
   "outputs": [],
   "source": [
    "%sql --module monthly_keywords_performance\n",
    "SELECT\n",
    "  AccountDescriptiveName,\n",
    "  CampaignName,\n",
    "  AdGroupName,\n",
    "  Criteria,\n",
    "  KeywordMatchType,\n",
    "  COUNT(Month) as MonthsWithImpressions,\n",
    "  AVG(Impressions) as Impressions,\n",
    "  AVG(ImpressionAssistedConversions) as ImpressionAssistedConversions,\n",
    "  AVG(Clicks) as Clicks,\n",
    "  AVG(ClickAssistedConversions) as ClickAssistedConversions,  \n",
    "  AVG(CTR) as CTR,\n",
    "  AVG(QualityScore) as QualityScore, \n",
    "  AVG(CostEUR) as CostEUR,\n",
    "  AVG(AllConversions) as AllConversions,\n",
    "  AVG(Conversions) as Conversions,    \n",
    "  AVG(CostPerAllConversion) as CostPerAllConversion,\n",
    "  AVG(CostPerConversion) as CostPerConversion,  \n",
    "  #Analytics Metrics\n",
    "  AVG(BounceRate) as BounceRate,\n",
    "  AVG(AveragePosition) as AveragePosition,\n",
    "  AVG(AveragePageviews) as AveragePageviews,\n",
    "  AVG(AverageTimeOnSite) as AverageTimeOnSite,\n",
    "  AVG(PercentNewVisitors) as PercentNewVisitors,\n",
    "FROM\n",
    "(\n",
    "SELECT\n",
    "  Month,\n",
    "  AccountDescriptiveName,\n",
    "  CampaignName,\n",
    "  AdGroupName,\n",
    "  Criteria,\n",
    "  KeywordMatchType,\n",
    "  SUM(Impressions) as Impressions,\n",
    "  SUM(ImpressionAssistedConversions) as ImpressionAssistedConversions,\n",
    "  SUM(Clicks) as Clicks,\n",
    "  SUM(Clicks)/SUM(Impressions) as CTR,\n",
    "  SUM(IF(ClickAssistedConversionsOverLastClickConversions = 0, 0,\n",
    "  CASE\n",
    "    WHEN Conversions > 0 OR AllConversions > 0 THEN IF(AllConversions>Conversions,AllConversions,Conversions)*ClickAssistedConversionsOverLastClickConversions\n",
    "    WHEN ImpressionAssistedConversions > 0 THEN ImpressionAssistedConversions*ClickAssistedConversionsOverLastClickConversions\n",
    "    ELSE 1.0\n",
    "  END\n",
    "  )) as ClickAssistedConversions,\n",
    "  \n",
    "  AVG(QualityScore) as QualityScore,\n",
    "  \n",
    "  SUM(IF(AccountCurrencyCode = 'GBP', Cost*1.37, Cost*1.0))/1000000 as CostEUR,\n",
    "  SUM(AllConversions) as AllConversions,\n",
    "  SUM(Conversions) as Conversions,  \n",
    "  \n",
    "  SUM(IF(AccountCurrencyCode = 'GBP', Cost*1.37, Cost*1.0))/1000000/SUM(AllConversions) as CostPerAllConversion,\n",
    "  SUM(IF(AccountCurrencyCode = 'GBP', Cost*1.37, Cost*1.0))/1000000/SUM(Conversions) as CostPerConversion,\n",
    "  \n",
    "  #Analytics Metrics\n",
    "  SUM(FLOAT(RTRIM(BounceRate,'%'))/100.0 * Clicks)/SUM(Clicks) as BounceRate,\n",
    "  SUM(AveragePosition * Impressions)/SUM(Impressions) as AveragePosition,\n",
    "  SUM(AveragePageviews * Clicks)/SUM(Clicks) as AveragePageviews,\n",
    "  SUM(AverageTimeOnSite * Clicks)/SUM(Clicks) as AverageTimeOnSite,\n",
    "  SUM(FLOAT(RTRIM(PercentNewVisitors,'%'))/100.0 * Clicks)/SUM(Clicks) as PercentNewVisitors,\n",
    "\n",
    "FROM\n",
    "  [google.com:ddm-connectors-demo:aw_dataset.KEYWORDS_PERFORMANCE_ANALYTICS]\n",
    "WHERE TRUE\n",
    "AND NOT IsNegative\n",
    "AND AdNetworkType2 = 'Google search'\n",
    "AND Impressions > 0 \n",
    "AND Year = 2016\n",
    "AND AccountDescriptiveName IN ('Account Primario Volagratis','Volagratis Tratte Italia','Volagratis')\n",
    "GROUP BY 1,2,3,4,5,6)\n",
    "GROUP BY 1,2,3,4,5"
   ]
  },
  {
   "cell_type": "code",
   "execution_count": null,
   "metadata": {
    "collapsed": false
   },
   "outputs": [],
   "source": [
    "df = bq.Query(monthly_keywords_performance).to_dataframe()"
   ]
  },
  {
   "cell_type": "markdown",
   "metadata": {},
   "source": [
    "First of all let us identify the Brand Keywords assuming that \n",
    "- they have at least 10 impressions a month\n",
    "- their CTR is higher the \"normal\""
   ]
  },
  {
   "cell_type": "code",
   "execution_count": null,
   "metadata": {
    "collapsed": false
   },
   "outputs": [],
   "source": [
    "df[df['Impressions']>10].hist('CTR',bins=np.arange(101)/100.0,\n",
    "                              normed=True,cumulative=1,histtype='step')"
   ]
  },
  {
   "cell_type": "code",
   "execution_count": null,
   "metadata": {
    "collapsed": false
   },
   "outputs": [],
   "source": [
    "df[(df['AdGroupName'] == 'Brand')&(df['Impressions']>10)].hist('CTR',bins=np.arange(101)/100.0,\n",
    "                                                              cumulative=1,normed=1,\n",
    "                                                               histtype='step')"
   ]
  },
  {
   "cell_type": "code",
   "execution_count": null,
   "metadata": {
    "collapsed": false
   },
   "outputs": [],
   "source": [
    "df[(df['AdGroupName'] == 'Brand')&\n",
    "   (df['CTR']<0.4)&\n",
    "   (df['Impressions']>10)].sort_values(by='CostEUR',ascending=False)[['AccountDescriptiveName',\n",
    "                                                                                        'CampaignName',\n",
    "                                                                                        'AdGroupName',\n",
    "                                                                                        'Criteria',\n",
    "                                                                                        'KeywordMatchType',\n",
    "                                                                                        'CTR',\n",
    "                                                                                        'Impressions',\n",
    "                                                                                        'CostEUR']]"
   ]
  },
  {
   "cell_type": "code",
   "execution_count": null,
   "metadata": {
    "collapsed": false
   },
   "outputs": [],
   "source": [
    "df[(df['Impressions']>10) & (df['CTR']>0.4)].sort_values(by='CostEUR',ascending=False)[['AccountDescriptiveName',\n",
    "                                                                                        'CampaignName',\n",
    "                                                                                        'AdGroupName',\n",
    "                                                                                        'Criteria',\n",
    "                                                                                        'KeywordMatchType',\n",
    "                                                                                        'CTR',\n",
    "                                                                                        'Impressions',\n",
    "                                                                                        'CostEUR']]"
   ]
  },
  {
   "cell_type": "code",
   "execution_count": null,
   "metadata": {
    "collapsed": false
   },
   "outputs": [],
   "source": [
    "df['KeywordType'] = df.apply(lambda x: 'Gold' if \n",
    "                             (x['Impressions']>10 and x['CTR']>0.4) \n",
    "                             else 'Standard', axis=1)\n"
   ]
  },
  {
   "cell_type": "markdown",
   "metadata": {},
   "source": [
    "Let us start assessing the performance of the keywords from the AllConversions"
   ]
  },
  {
   "cell_type": "code",
   "execution_count": null,
   "metadata": {
    "collapsed": false
   },
   "outputs": [],
   "source": [
    "df.groupby(by=(df['AllConversions'] > 0))[['AllConversions','ClickAssistedConversions',\n",
    "                                           'ImpressionAssistedConversions','CostEUR',\n",
    "                                           'Impressions','Clicks',\n",
    "                                           'Criteria']].aggregate({'AllConversions':sum,\n",
    "                                                                   'ClickAssistedConversions':sum,\n",
    "                                                                   'ImpressionAssistedConversions':sum,\n",
    "                                                                   'CostEUR':sum,\n",
    "                                                                   'Impressions':sum,\n",
    "                                                                   'Clicks':sum,\n",
    "                                                                   'Criteria':'count'})"
   ]
  },
  {
   "cell_type": "code",
   "execution_count": null,
   "metadata": {
    "collapsed": false
   },
   "outputs": [],
   "source": [
    "df[df['AllConversions'] > 0].hist('Conversions',bins=100)"
   ]
  },
  {
   "cell_type": "code",
   "execution_count": null,
   "metadata": {
    "collapsed": false
   },
   "outputs": [],
   "source": [
    "axes = df[df['AllConversions'] > 0].hist('AllConversions',bins=np.logspace(0,4),log=True,by='KeywordType')\n",
    "axes[0].set_xscale('log')\n",
    "axes[1].set_xscale('log')"
   ]
  },
  {
   "cell_type": "code",
   "execution_count": null,
   "metadata": {
    "collapsed": false
   },
   "outputs": [],
   "source": [
    "axes = df[df['AllConversions'] > 0].hist('AllConversions',bins=np.logspace(0,4),by='KeywordType',\n",
    "              cumulative=1,normed=True,histtype='step')\n",
    "axes[0].set_xscale('log')\n",
    "axes[1].set_xscale('log')"
   ]
  },
  {
   "cell_type": "code",
   "execution_count": null,
   "metadata": {
    "collapsed": false
   },
   "outputs": [],
   "source": [
    "df[df['AllConversions'] > 0].hist('AllConversions',bins=np.logspace(0,4),\n",
    "              cumulative=1,histtype='step')\n",
    "plt.gca().set_xscale('log')"
   ]
  },
  {
   "cell_type": "code",
   "execution_count": null,
   "metadata": {
    "collapsed": false
   },
   "outputs": [],
   "source": [
    "def setGroup(x):\n",
    "  if x['AllConversions'] > 0:\n",
    "    return 'Converter'\n",
    "  else:\n",
    "    return 'Other'\n",
    "  \n",
    "def setSubGroup(x):\n",
    "  if x['AllConversions'] > 99:\n",
    "    return 'Converter - High'\n",
    "  elif x['AllConversions'] > 9:\n",
    "    return 'Converter - Mid'\n",
    "  elif x['AllConversions'] > 2:\n",
    "    return 'Converter - Low'\n",
    "  elif x['AllConversions'] > 0:\n",
    "    return 'Converter - Occasional'\n",
    "  else:\n",
    "    return 'Other'\n",
    "  \n",
    "df['Group'] = df.apply(setGroup,axis=1)\n",
    "df['SubGroup'] = df.apply(setSubGroup,axis=1)"
   ]
  },
  {
   "cell_type": "code",
   "execution_count": null,
   "metadata": {
    "collapsed": false
   },
   "outputs": [],
   "source": [
    "g = sns.pairplot(data=df[df['Group'] == 'Converter'][[u'SubGroup','CTR',\n",
    "                                                  'CostPerAllConversion',\n",
    "                            u'QualityScore',u'AveragePosition',                          \n",
    "                            u'BounceRate', u'AveragePageviews',\n",
    "                            u'AverageTimeOnSite',u'PercentNewVisitors']],hue=u'SubGroup')"
   ]
  },
  {
   "cell_type": "code",
   "execution_count": null,
   "metadata": {
    "collapsed": false
   },
   "outputs": [],
   "source": [
    "g = sns.pairplot(data=df[df['Group'] == 'Converter'][[u'SubGroup',                         \n",
    "                            u'BounceRate', u'AveragePageviews',\n",
    "                            u'AverageTimeOnSite',u'PercentNewVisitors']],hue=u'SubGroup')"
   ]
  },
  {
   "cell_type": "code",
   "execution_count": null,
   "metadata": {
    "collapsed": false
   },
   "outputs": [],
   "source": [
    "g = sns.pairplot(data=df[df['Group'] == 'Converter'][[u'SubGroup','CTR',\n",
    "                                                  'CostPerAllConversion',\n",
    "                            u'QualityScore',u'AveragePosition',                          \n",
    "                            u'BounceRate',u'PercentNewVisitors']],hue=u'SubGroup')"
   ]
  },
  {
   "cell_type": "markdown",
   "metadata": {},
   "source": [
    "Can we move away from LastClick?"
   ]
  },
  {
   "cell_type": "code",
   "execution_count": null,
   "metadata": {
    "collapsed": false
   },
   "outputs": [],
   "source": [
    "df.groupby(by='SubGroup')[['AllConversions','ClickAssistedConversions',\n",
    "                        'ImpressionAssistedConversions',\n",
    "                        'CostEUR','Impressions','Clicks',\n",
    "                        'Criteria']].aggregate({'AllConversions':sum,\n",
    "                                                'ClickAssistedConversions':sum,\n",
    "                                                'ImpressionAssistedConversions':sum,\n",
    "                                                'CostEUR':sum,\n",
    "                                                'Impressions':sum,\n",
    "                                                'Clicks':sum,\n",
    "                                                'Criteria':'count'})"
   ]
  },
  {
   "cell_type": "code",
   "execution_count": null,
   "metadata": {
    "collapsed": false
   },
   "outputs": [],
   "source": [
    "df[df['Group'] == 'Other'].groupby(by=(df[df['Group'] == 'Other']['ClickAssistedConversions'] +\n",
    "                                       df[df['Group'] == 'Other']['ImpressionAssistedConversions']>0))[\n",
    "  ['ClickAssistedConversions','ImpressionAssistedConversions','CostEUR',\n",
    "   'Impressions','Clicks','Criteria']].aggregate({'ClickAssistedConversions':sum,\n",
    "                                                  'ImpressionAssistedConversions':sum,\n",
    "                                                  'CostEUR':sum,\n",
    "                                                  'Impressions':sum,\n",
    "                                                  'Clicks':sum,\n",
    "                                                  'Criteria':'count'})"
   ]
  },
  {
   "cell_type": "code",
   "execution_count": null,
   "metadata": {
    "collapsed": false
   },
   "outputs": [],
   "source": [
    "with sns.axes_style(\"white\"):\n",
    "  data=df[df['Group'] == 'Other'].plot(x='CostEUR',y='Impressions', kind=\"hex\")"
   ]
  },
  {
   "cell_type": "code",
   "execution_count": null,
   "metadata": {
    "collapsed": true
   },
   "outputs": [],
   "source": []
  }
 ],
 "metadata": {
  "kernelspec": {
   "display_name": "Python 2",
   "language": "python",
   "name": "python2"
  },
  "language_info": {
   "codemirror_mode": {
    "name": "ipython",
    "version": 2
   },
   "file_extension": ".py",
   "mimetype": "text/x-python",
   "name": "python",
   "nbconvert_exporter": "python",
   "pygments_lexer": "ipython2",
   "version": "2.7.9"
  }
 },
 "nbformat": 4,
 "nbformat_minor": 0
}
