{
 "cells": [
  {
   "cell_type": "markdown",
   "metadata": {},
   "source": [
    "# Preminary operations\n",
    "\n",
    "Let us start by importing the relevant packages"
   ]
  },
  {
   "cell_type": "code",
   "execution_count": null,
   "metadata": {
    "collapsed": true
   },
   "outputs": [],
   "source": [
    "import gcp\n",
    "import gcp.bigquery as bq\n",
    "import gcp.storage as storage\n",
    "import pandas as pd\n",
    "import matplotlib.pylab as plt\n",
    "import matplotlib.colors as colors\n",
    "import numpy as np\n",
    "import seaborn as sns"
   ]
  },
  {
   "cell_type": "markdown",
   "metadata": {},
   "source": [
    "## Let us explore the dataset"
   ]
  },
  {
   "cell_type": "code",
   "execution_count": null,
   "metadata": {
    "collapsed": false
   },
   "outputs": [],
   "source": [
    "%%sql \n",
    "SELECT * FROM [google.com:ddm-connectors-demo:aw_dataset.__TABLES__];"
   ]
  },
  {
   "cell_type": "markdown",
   "metadata": {},
   "source": [
    "## Lest us explore the table KEYWORDS_PERFORMANCE_ANALYTICS"
   ]
  },
  {
   "cell_type": "code",
   "execution_count": null,
   "metadata": {
    "collapsed": false
   },
   "outputs": [],
   "source": [
    "%bigquery schema --table google.com:ddm-connectors-demo:aw_dataset.KEYWORDS_PERFORMANCE_ANALYTICS"
   ]
  },
  {
   "cell_type": "markdown",
   "metadata": {},
   "source": [
    "## Let us see how the data look like"
   ]
  },
  {
   "cell_type": "code",
   "execution_count": null,
   "metadata": {
    "collapsed": false
   },
   "outputs": [],
   "source": [
    "%bigquery sample --table google.com:ddm-connectors-demo:aw_dataset.KEYWORDS_PERFORMANCE_ANALYTICS --count 5"
   ]
  },
  {
   "cell_type": "markdown",
   "metadata": {},
   "source": [
    "# Let us start checking the monthly performance on Volagratis in Italy"
   ]
  },
  {
   "cell_type": "code",
   "execution_count": null,
   "metadata": {
    "collapsed": false
   },
   "outputs": [],
   "source": [
    "%sql --module monthly_keywords_performance\n",
    "SELECT\n",
    "  AccountDescriptiveName,\n",
    "  CampaignName,\n",
    "  AdGroupName,\n",
    "  Criteria,\n",
    "  KeywordMatchType,\n",
    "  COUNT(Month) as MonthsWithImpressions,\n",
    "  AVG(Impressions) as Impressions,\n",
    "  AVG(ImpressionAssistedConversions) as ImpressionAssistedConversions,\n",
    "  AVG(Clicks) as Clicks,\n",
    "  AVG(ClickAssistedConversions) as ClickAssistedConversions,  \n",
    "  AVG(CTR) as CTR,\n",
    "  AVG(CostEUR/Clicks) as CPC,\n",
    "  AVG(QualityScore) as QualityScore, \n",
    "  AVG(CostEUR) as CostEUR,\n",
    "  AVG(AllConversions) as AllConversions,\n",
    "  AVG(Conversions) as Conversions,    \n",
    "  AVG(CostPerAllConversion) as CostPerAllConversion,\n",
    "  AVG(CostPerConversion) as CostPerConversion,  \n",
    "  #Analytics Metrics\n",
    "  AVG(BounceRate) as BounceRate,\n",
    "  AVG(AveragePosition) as AveragePosition,\n",
    "  AVG(AveragePageviews) as AveragePageviews,\n",
    "  AVG(AverageTimeOnSite) as AverageTimeOnSite,\n",
    "  AVG(PercentNewVisitors) as PercentNewVisitors,\n",
    "FROM\n",
    "(\n",
    "SELECT\n",
    "  Month,\n",
    "  AccountDescriptiveName,\n",
    "  CampaignName,\n",
    "  AdGroupName,\n",
    "  Criteria,\n",
    "  KeywordMatchType,\n",
    "  SUM(Impressions) as Impressions,\n",
    "  SUM(ImpressionAssistedConversions) as ImpressionAssistedConversions,\n",
    "  SUM(Clicks) as Clicks,\n",
    "  SUM(Clicks)/SUM(Impressions) as CTR,\n",
    "  SUM(IF(ClickAssistedConversionsOverLastClickConversions = 0, 0,\n",
    "  CASE\n",
    "    WHEN Conversions > 0 OR AllConversions > 0 THEN IF(AllConversions>Conversions,AllConversions,Conversions)*ClickAssistedConversionsOverLastClickConversions\n",
    "    WHEN ImpressionAssistedConversions > 0 THEN ImpressionAssistedConversions*ClickAssistedConversionsOverLastClickConversions\n",
    "    ELSE 1.0\n",
    "  END\n",
    "  )) as ClickAssistedConversions,\n",
    "  \n",
    "  AVG(QualityScore) as QualityScore,\n",
    "  \n",
    "  SUM(IF(AccountCurrencyCode = 'GBP', Cost*1.37, Cost*1.0))/1000000 as CostEUR,\n",
    "  SUM(AllConversions) as AllConversions,\n",
    "  SUM(Conversions) as Conversions,  \n",
    "  \n",
    "  SUM(IF(AccountCurrencyCode = 'GBP', Cost*1.37, Cost*1.0))/1000000/SUM(AllConversions) as CostPerAllConversion,\n",
    "  SUM(IF(AccountCurrencyCode = 'GBP', Cost*1.37, Cost*1.0))/1000000/SUM(Conversions) as CostPerConversion,\n",
    "  \n",
    "  #Analytics Metrics\n",
    "  SUM(FLOAT(RTRIM(BounceRate,'%'))/100.0 * Clicks)/SUM(Clicks) as BounceRate,\n",
    "  SUM(AveragePosition * Impressions)/SUM(Impressions) as AveragePosition,\n",
    "  SUM(AveragePageviews * Clicks)/SUM(Clicks) as AveragePageviews,\n",
    "  SUM(AverageTimeOnSite * Clicks)/SUM(Clicks) as AverageTimeOnSite,\n",
    "  SUM(FLOAT(RTRIM(PercentNewVisitors,'%'))/100.0 * Clicks)/SUM(Clicks) as PercentNewVisitors,\n",
    "\n",
    "FROM\n",
    "  [google.com:ddm-connectors-demo:aw_dataset.KEYWORDS_PERFORMANCE_ANALYTICS]\n",
    "WHERE TRUE\n",
    "AND NOT IsNegative\n",
    "AND AdNetworkType2 = 'Google search'\n",
    "AND Impressions > 0 \n",
    "AND Month IN ('2015-08-01','2015-09-01','2015-10-01','2015-11-01')\n",
    "AND AccountDescriptiveName IN ('Account Primario Volagratis','Volagratis Tratte Italia','Volagratis')\n",
    "GROUP BY 1,2,3,4,5,6)\n",
    "GROUP BY 1,2,3,4,5"
   ]
  },
  {
   "cell_type": "code",
   "execution_count": null,
   "metadata": {
    "collapsed": false
   },
   "outputs": [],
   "source": [
    "df = bq.Query(monthly_keywords_performance).to_dataframe()"
   ]
  },
  {
   "cell_type": "markdown",
   "metadata": {},
   "source": [
    "## Does it make sense to differentiate among Brand and Generic?"
   ]
  },
  {
   "cell_type": "markdown",
   "metadata": {},
   "source": [
    "Let us identify the Brand Keywords by assuming that \n",
    "- they have at least 10 impressions a month\n",
    "- their CTR is higher the \"normal\""
   ]
  },
  {
   "cell_type": "code",
   "execution_count": null,
   "metadata": {
    "collapsed": false
   },
   "outputs": [],
   "source": [
    "df[df['Impressions']>10].hist('CTR',bins=np.arange(101)/100.0,\n",
    "                              normed=True,cumulative=1,histtype='step')"
   ]
  },
  {
   "cell_type": "code",
   "execution_count": null,
   "metadata": {
    "collapsed": false
   },
   "outputs": [],
   "source": [
    "df[(df['AdGroupName'] == 'Brand')&(df['Impressions']>10)].hist('CTR',bins=np.arange(101)/100.0,\n",
    "                                                              cumulative=1,normed=1,\n",
    "                                                               histtype='step')"
   ]
  },
  {
   "cell_type": "code",
   "execution_count": null,
   "metadata": {
    "collapsed": false
   },
   "outputs": [],
   "source": [
    "df[(df['AdGroupName'] == 'Brand')&\n",
    "   (df['CTR']<0.4)&\n",
    "   (df['Impressions']>10)].sort_values(by='CostEUR',ascending=False)[['AccountDescriptiveName',\n",
    "                                                                                        'CampaignName',\n",
    "                                                                                        'AdGroupName',\n",
    "                                                                                        'Criteria',\n",
    "                                                                                        'KeywordMatchType',\n",
    "                                                                                        'CTR',\n",
    "                                                                                        'Impressions',\n",
    "                                                                                        'CostEUR']]"
   ]
  },
  {
   "cell_type": "code",
   "execution_count": null,
   "metadata": {
    "collapsed": false
   },
   "outputs": [],
   "source": [
    "df[(df['Impressions']>10) & (df['CTR']>0.4)].sort_values(by='CostEUR',ascending=False)[['AccountDescriptiveName',\n",
    "                                                                                        'CampaignName',\n",
    "                                                                                        'AdGroupName',\n",
    "                                                                                        'Criteria',\n",
    "                                                                                        'KeywordMatchType',\n",
    "                                                                                        'CTR',\n",
    "                                                                                        'Impressions',\n",
    "                                                                                        'CostEUR']]"
   ]
  },
  {
   "cell_type": "code",
   "execution_count": null,
   "metadata": {
    "collapsed": false
   },
   "outputs": [],
   "source": [
    "df['KeywordType'] = df.apply(lambda x: 'Gold' if \n",
    "                             (x['Impressions']>10 and x['CTR']>0.4) \n",
    "                             else 'Standard', axis=1)\n"
   ]
  },
  {
   "cell_type": "markdown",
   "metadata": {},
   "source": [
    "Let us start assessing the performance of the converting keywords"
   ]
  },
  {
   "cell_type": "code",
   "execution_count": null,
   "metadata": {
    "collapsed": false
   },
   "outputs": [],
   "source": [
    "df.groupby(by=(df['AllConversions'] > 0))[['AllConversions','ClickAssistedConversions',\n",
    "                                           'ImpressionAssistedConversions','CostEUR',\n",
    "                                           'Impressions','Clicks',\n",
    "                                           'Criteria']].aggregate({'AllConversions':sum,\n",
    "                                                                   'ClickAssistedConversions':sum,\n",
    "                                                                   'ImpressionAssistedConversions':sum,\n",
    "                                                                   'CostEUR':sum,\n",
    "                                                                   'Impressions':sum,\n",
    "                                                                   'Clicks':sum,\n",
    "                                                                   'Criteria':'count'})"
   ]
  },
  {
   "cell_type": "code",
   "execution_count": null,
   "metadata": {
    "collapsed": false
   },
   "outputs": [],
   "source": [
    "df[df['AllConversions'] > 0].hist('Conversions',bins=100)"
   ]
  },
  {
   "cell_type": "code",
   "execution_count": null,
   "metadata": {
    "collapsed": false
   },
   "outputs": [],
   "source": [
    "axes = df[df['AllConversions'] > 0].hist('AllConversions',bins=np.logspace(0,4),log=True,by='KeywordType')\n",
    "axes[0].set_xscale('log')\n",
    "axes[1].set_xscale('log')"
   ]
  },
  {
   "cell_type": "code",
   "execution_count": null,
   "metadata": {
    "collapsed": false
   },
   "outputs": [],
   "source": [
    "axes = df[df['AllConversions'] > 0].hist('AllConversions',bins=np.logspace(0,4),by='KeywordType',\n",
    "              cumulative=1,normed=True,histtype='step')\n",
    "axes[0].set_xscale('log')\n",
    "axes[1].set_xscale('log')"
   ]
  },
  {
   "cell_type": "code",
   "execution_count": null,
   "metadata": {
    "collapsed": false
   },
   "outputs": [],
   "source": [
    "df[df['AllConversions'] > 0].hist('AllConversions',bins=np.logspace(0,4),\n",
    "              cumulative=1,histtype='step')\n",
    "plt.gca().set_xscale('log')"
   ]
  },
  {
   "cell_type": "code",
   "execution_count": null,
   "metadata": {
    "collapsed": false
   },
   "outputs": [],
   "source": [
    "def setGroup(x):\n",
    "  if x['AllConversions'] > 0:\n",
    "    return 'Converter'\n",
    "  else:\n",
    "    return 'Other'\n",
    "  \n",
    "def setSubGroup(x):\n",
    "  if x['AllConversions'] > 99:\n",
    "    return 'Converter - High'\n",
    "  elif x['AllConversions'] > 9:\n",
    "    return 'Converter - Mid'\n",
    "  elif x['AllConversions'] > 2:\n",
    "    return 'Converter - Low'\n",
    "  elif x['AllConversions'] > 0:\n",
    "    return 'Converter - Occasional'\n",
    "  else:\n",
    "    return 'Other'\n",
    "  \n",
    "df['Group'] = df.apply(setGroup,axis=1)\n",
    "df['SubGroup'] = df.apply(setSubGroup,axis=1)"
   ]
  },
  {
   "cell_type": "markdown",
   "metadata": {},
   "source": [
    "## Let as check how the attributes of the Converters looks like "
   ]
  },
  {
   "cell_type": "code",
   "execution_count": null,
   "metadata": {
    "collapsed": false
   },
   "outputs": [],
   "source": [
    "g = sns.pairplot(data=df[df['Group'] == 'Converter'][[u'SubGroup','CTR',\n",
    "                                                  'CostPerAllConversion',\n",
    "                            u'QualityScore',u'AveragePosition',                          \n",
    "                            u'BounceRate', u'AveragePageviews',\n",
    "                            u'AverageTimeOnSite',u'PercentNewVisitors']],hue=u'SubGroup')"
   ]
  },
  {
   "cell_type": "code",
   "execution_count": null,
   "metadata": {
    "collapsed": false
   },
   "outputs": [],
   "source": [
    "g = sns.pairplot(data=df[df['Group'] == 'Converter'][[u'SubGroup',                         \n",
    "                            u'BounceRate', u'AveragePageviews',\n",
    "                            u'AverageTimeOnSite',u'PercentNewVisitors']],hue=u'SubGroup')"
   ]
  },
  {
   "cell_type": "code",
   "execution_count": null,
   "metadata": {
    "collapsed": false
   },
   "outputs": [],
   "source": [
    "g = sns.pairplot(data=df[df['Group'] == 'Converter'][[u'SubGroup','CTR',\n",
    "                                                  'CostPerAllConversion',\n",
    "                            u'QualityScore',u'AveragePosition',                          \n",
    "                            u'BounceRate',u'PercentNewVisitors']],hue=u'SubGroup')"
   ]
  },
  {
   "cell_type": "markdown",
   "metadata": {},
   "source": [
    "## Can we move away from LastClick?"
   ]
  },
  {
   "cell_type": "code",
   "execution_count": null,
   "metadata": {
    "collapsed": false
   },
   "outputs": [],
   "source": [
    "df.groupby(by='SubGroup')[['AllConversions','ClickAssistedConversions',\n",
    "                        'ImpressionAssistedConversions',\n",
    "                        'CostEUR','Impressions','Clicks',\n",
    "                        'Criteria']].aggregate({'AllConversions':sum,\n",
    "                                                'ClickAssistedConversions':sum,\n",
    "                                                'ImpressionAssistedConversions':sum,\n",
    "                                                'CostEUR':sum,\n",
    "                                                'Impressions':sum,\n",
    "                                                'Clicks':sum,\n",
    "                                                'Criteria':'count'})"
   ]
  },
  {
   "cell_type": "code",
   "execution_count": null,
   "metadata": {
    "collapsed": false
   },
   "outputs": [],
   "source": [
    "df[df['Group'] == 'Other'].groupby(by=(df[df['Group'] == 'Other']['ClickAssistedConversions'] +\n",
    "                                       df[df['Group'] == 'Other']['ImpressionAssistedConversions']>0))[\n",
    "  ['ClickAssistedConversions','ImpressionAssistedConversions','CostEUR',\n",
    "   'Impressions','Clicks','Criteria']].aggregate({'ClickAssistedConversions':sum,\n",
    "                                                  'ImpressionAssistedConversions':sum,\n",
    "                                                  'CostEUR':sum,\n",
    "                                                  'Impressions':sum,\n",
    "                                                  'Clicks':sum,\n",
    "                                                  'Criteria':'count'})"
   ]
  },
  {
   "cell_type": "code",
   "execution_count": null,
   "metadata": {
    "collapsed": false
   },
   "outputs": [],
   "source": [
    "def setGroup(x):\n",
    "  if x['AllConversions'] > 0:\n",
    "    return 'Converter'\n",
    "  elif x['Clicks'] > 0:\n",
    "    return 'Click'\n",
    "  else:\n",
    "    return 'Impressions'\n",
    "  \n",
    "def setSubGroup(x):\n",
    "  if x['AllConversions'] > 99:\n",
    "    return 'Converter - High'\n",
    "  elif x['AllConversions'] > 9:\n",
    "    return 'Converter - Mid'\n",
    "  elif x['AllConversions'] > 2:\n",
    "    return 'Converter - Low'\n",
    "  elif x['AllConversions'] > 0:\n",
    "    return 'Converter - Occasional'\n",
    "  elif x['Clicks'] > 0:\n",
    "    return 'Click'\n",
    "  else:\n",
    "    return 'Impressions'\n",
    "  \n",
    "df['Group'] = df.apply(setGroup,axis=1)\n",
    "df['SubGroup'] = df.apply(setSubGroup,axis=1)"
   ]
  },
  {
   "cell_type": "code",
   "execution_count": null,
   "metadata": {
    "collapsed": false
   },
   "outputs": [],
   "source": [
    "df.hist('CPC',by='SubGroup',bins=100)"
   ]
  },
  {
   "cell_type": "code",
   "execution_count": null,
   "metadata": {
    "collapsed": false
   },
   "outputs": [],
   "source": [
    "with sns.axes_style({ 'axes.facecolor': 'white','axes.grid': False}):\n",
    "  fig,ax = plt.subplots()\n",
    "  data=df[df['Group'] == 'Click'].plot(x='CostEUR',y='CPC', \n",
    "                                     kind='hexbin',ax=ax,\n",
    "                                     norm=colors.LogNorm(),\n",
    "                                     cmap='PuBu_r',\n",
    "                                     mincnt=1)"
   ]
  },
  {
   "cell_type": "code",
   "execution_count": null,
   "metadata": {
    "collapsed": false
   },
   "outputs": [],
   "source": [
    "metrics = ['CTR','CPC',u'QualityScore',u'AveragePosition',                          \n",
    "           u'BounceRate',u'AveragePageviews',u'AverageTimeOnSite',\n",
    "           u'PercentNewVisitors']\n",
    "\n",
    "fig, ax_arr = plt.subplots( 4, 2,figsize=(10,10))\n",
    "\n",
    "for i in range(len(metrics)):  \n",
    "  sns.boxplot(data=df,y=metrics[i],x='Group',ax=ax_arr[i/2][(i%4)%2],showfliers=False)\n",
    "\n"
   ]
  },
  {
   "cell_type": "code",
   "execution_count": null,
   "metadata": {
    "collapsed": false
   },
   "outputs": [],
   "source": [
    "threshold = df[df['Group'] == 'Converter'][metrics].median()"
   ]
  },
  {
   "cell_type": "code",
   "execution_count": null,
   "metadata": {
    "collapsed": false
   },
   "outputs": [],
   "source": [
    "def setGroup(x):\n",
    "  if x['AllConversions'] > 0:\n",
    "    return 'Converter'\n",
    "  elif x['Clicks'] > 0:\n",
    "    return 'Click'\n",
    "  else:\n",
    "    return 'Impressions'\n",
    "  \n",
    "def setSubGroup(x,threshold=threshold):\n",
    "  if x['AllConversions'] > 99:\n",
    "    return 'Converter - High'\n",
    "  elif x['AllConversions'] > 9:\n",
    "    return 'Converter - Mid'\n",
    "  elif x['AllConversions'] > 2:\n",
    "    return 'Converter - Low'\n",
    "  elif x['AllConversions'] > 0:    \n",
    "    return 'Converter - Occasional'\n",
    "  elif x['Clicks'] > 0:\n",
    "    score = 0\n",
    "    if x['CTR'] > threshold['CTR']:\n",
    "      score+=1\n",
    "      \n",
    "    if x['CPC'] < threshold['CPC']:\n",
    "      score+=1\n",
    "\n",
    "    if x['QualityScore'] >= threshold['QualityScore']:\n",
    "      score+=1\n",
    "      \n",
    "    if x['BounceRate'] < threshold['BounceRate']:\n",
    "      score+=1    \n",
    "    \n",
    "    if x['AveragePageviews'] > threshold['AveragePageviews']:\n",
    "      score+=1\n",
    "      \n",
    "    if x['AverageTimeOnSite'] > threshold['AverageTimeOnSite']:\n",
    "      score+=1\n",
    "\n",
    "    if x['PercentNewVisitors'] > threshold['PercentNewVisitors']:\n",
    "      score+=1\n",
    "      \n",
    "    if x['AveragePosition'] < threshold['AveragePosition']:\n",
    "      score+=1 \n",
    "    \n",
    "    return 'Click - {0:02d}'.format(score/3)  \n",
    "  else:\n",
    "    score = 0\n",
    "    if x['QualityScore'] >= threshold['QualityScore']:\n",
    "      score+=1\n",
    "    \n",
    "    if x['AveragePosition'] < threshold['AveragePosition']:\n",
    "      score+=1\n",
    "\n",
    "    return 'Impressions - {0:02d}'.format(score)  \n",
    "  \n",
    "df['Group'] = df.apply(setGroup,axis=1)\n",
    "df['SubGroup'] = df.apply(setSubGroup,axis=1)"
   ]
  },
  {
   "cell_type": "code",
   "execution_count": null,
   "metadata": {
    "collapsed": false
   },
   "outputs": [],
   "source": [
    "df.groupby(by='SubGroup')[['AllConversions','ClickAssistedConversions',\n",
    "                        'ImpressionAssistedConversions',\n",
    "                        'CostEUR','Impressions','Clicks',\n",
    "                        'Criteria']].aggregate({'AllConversions':sum,\n",
    "                                                'ClickAssistedConversions':sum,\n",
    "                                                'ImpressionAssistedConversions':sum,\n",
    "                                                'CostEUR':sum,\n",
    "                                                'Impressions':sum,\n",
    "                                                'Clicks':sum,\n",
    "                                                'Criteria':'count'})"
   ]
  },
  {
   "cell_type": "code",
   "execution_count": null,
   "metadata": {
    "collapsed": false
   },
   "outputs": [],
   "source": [
    "demo_context = gcp.Context.default()\n",
    "ddm_context = gcp.Context(project_id='google.com:ddm-connectors-demo',\n",
    "                          credentials=gcp.Context.default().credentials)\n",
    "\n",
    "bigquery_dataset_name = 'aw_dataset'\n",
    "bigquery_table_name = 'KEYWORDS_GROUPS'\n",
    "\n",
    "# Define BigQuery dataset and table\n",
    "dataset = bq.DataSet(name=bigquery_dataset_name,context=ddm_context)\n",
    "table = bq.Table(bigquery_dataset_name + '.' + bigquery_table_name,context=ddm_context)\n",
    "\n",
    "# Create BigQuery dataset\n",
    "if not dataset.exists():\n",
    "    dataset.create()\n",
    "\n",
    "# Create or overwrite the existing table if it exists\n",
    "table_schema = bq.Schema.from_dataframe(df[[u'AccountDescriptiveName', \n",
    "                                            u'CampaignName',u'AdGroupName', \n",
    "                                            u'Criteria', u'KeywordMatchType',\n",
    "                                            u'Group',u'SubGroup']])\n",
    "table.create(schema = table_schema, overwrite = True)\n",
    "\n",
    "# Write the DataFrame to a BigQuery table\n",
    "table.insert_data(df[[u'AccountDescriptiveName', u'CampaignName',u'AdGroupName', u'Criteria', u'KeywordMatchType',u'Group',u'SubGroup']])"
   ]
  },
  {
   "cell_type": "code",
   "execution_count": null,
   "metadata": {
    "collapsed": false
   },
   "outputs": [],
   "source": [
    "%bigquery sample --table google.com:ddm-connectors-demo:aw_dataset.KEYWORDS_GROUPS --count 5"
   ]
  },
  {
   "cell_type": "code",
   "execution_count": null,
   "metadata": {
    "collapsed": true
   },
   "outputs": [],
   "source": [
    "%sql --module query_group\n",
    "SELECT\n",
    "  a.Date as Date,\n",
    "  b.Group as Group,\n",
    "  b.SubGroup as SubGroup,\n",
    "  SUM(a.Impressions) as Impressions,\n",
    "  SUM(a.Clicks) as Clicks,\n",
    "  SUM(IF(a.AccountCurrencyCode = 'GBP', a.Cost*1.37, a.Cost*1.0))/1000000 as CostEUR,\n",
    "  SUM(a.AllConversions) as AllConversions,\n",
    "FROM\n",
    "  [google.com:ddm-connectors-demo:aw_dataset.KEYWORDS_PERFORMANCE_ANALYTICS]  a\n",
    "JOIN\n",
    "  [google.com:ddm-connectors-demo:aw_dataset.KEYWORDS_GROUPS]  b\n",
    "ON\n",
    "  a.AccountDescriptiveName = b.AccountDescriptiveName AND \n",
    "  a.CampaignName = b.CampaignName AND\n",
    "  a.AdGroupName = b.AdGroupName AND\n",
    "  a.Criteria = b.Criteria AND\n",
    "  a.KeywordMatchType = b.KeywordMatchType\n",
    "WHERE TRUE\n",
    "AND NOT a.IsNegative\n",
    "AND a.AdNetworkType2 = 'Google search'\n",
    "AND a.Impressions > 0 \n",
    "AND Month IN ('2015-08-01','2015-09-01','2015-10-01','2015-11-01')\n",
    "AND a.AccountDescriptiveName IN ('Account Primario Volagratis','Volagratis Tratte Italia','Volagratis')\n",
    "GROUP BY 1,2,3"
   ]
  },
  {
   "cell_type": "code",
   "execution_count": null,
   "metadata": {
    "collapsed": false
   },
   "outputs": [],
   "source": [
    "timeseries = bq.Query(query_group).to_dataframe()"
   ]
  },
  {
   "cell_type": "code",
   "execution_count": null,
   "metadata": {
    "collapsed": false
   },
   "outputs": [],
   "source": [
    "timeseries['Date'] = pd.to_datetime(timeseries['Date'])"
   ]
  },
  {
   "cell_type": "code",
   "execution_count": null,
   "metadata": {
    "collapsed": false
   },
   "outputs": [],
   "source": [
    "timeseries.set_index('Date',inplace=True)"
   ]
  },
  {
   "cell_type": "code",
   "execution_count": null,
   "metadata": {
    "collapsed": false
   },
   "outputs": [],
   "source": [
    "data = timeseries[['SubGroup','Impressions',\n",
    "            'Clicks','AllConversions']].pivot(columns='SubGroup')"
   ]
  },
  {
   "cell_type": "code",
   "execution_count": null,
   "metadata": {
    "collapsed": false
   },
   "outputs": [],
   "source": [
    "data[[(u'Impressions',u'Impressions - 00'),(u'Impressions',u'Impressions - 01'),\n",
    "      (u'Clicks',u'Click - 00'),(u'Clicks',u'Click - 01'),\n",
    "      (u'Clicks',u'Click - 02'),(u'AllConversions',u'Converter - Occasional'),\n",
    "      (u'AllConversions',u'Converter - Low'),\n",
    "      (u'AllConversions',u'Converter - Mid'),\n",
    "      (u'AllConversions',u'Converter - High')\n",
    "      ]].plot()"
   ]
  },
  {
   "cell_type": "code",
   "execution_count": null,
   "metadata": {
    "collapsed": false
   },
   "outputs": [],
   "source": [
    "corr = data[[(u'Impressions',u'Impressions - 00'),(u'Impressions',u'Impressions - 01'),\n",
    "      (u'Clicks',u'Click - 00'),(u'Clicks',u'Click - 01'),\n",
    "      (u'Clicks',u'Click - 02'),(u'AllConversions',u'Converter - Occasional'),\n",
    "      (u'AllConversions',u'Converter - Low'),\n",
    "      (u'AllConversions',u'Converter - Mid'),\n",
    "      (u'AllConversions',u'Converter - High')\n",
    "      ]].corr()"
   ]
  },
  {
   "cell_type": "code",
   "execution_count": null,
   "metadata": {
    "collapsed": false
   },
   "outputs": [],
   "source": [
    "corr"
   ]
  },
  {
   "cell_type": "code",
   "execution_count": null,
   "metadata": {
    "collapsed": false
   },
   "outputs": [],
   "source": [
    "sns.heatmap(corr,)"
   ]
  },
  {
   "cell_type": "code",
   "execution_count": null,
   "metadata": {
    "collapsed": true
   },
   "outputs": [],
   "source": []
  }
 ],
 "metadata": {
  "kernelspec": {
   "display_name": "Python 2",
   "language": "python",
   "name": "python2"
  },
  "language_info": {
   "codemirror_mode": {
    "name": "ipython",
    "version": 2
   },
   "file_extension": ".py",
   "mimetype": "text/x-python",
   "name": "python",
   "nbconvert_exporter": "python",
   "pygments_lexer": "ipython2",
   "version": "2.7.9"
  }
 },
 "nbformat": 4,
 "nbformat_minor": 0
}
