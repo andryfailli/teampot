{
 "cells": [
  {
   "cell_type": "markdown",
   "metadata": {},
   "source": [
    "# Preminary operations\n",
    "\n",
    "Let us start by importing the relevant packages"
   ]
  },
  {
   "cell_type": "code",
   "execution_count": null,
   "metadata": {
    "collapsed": true
   },
   "outputs": [],
   "source": [
    "import gcp.bigquery as bq\n",
    "import pandas as pd\n",
    "import matplotlib.pylab as plt\n",
    "import numpy as np\n",
    "import seaborn as sns"
   ]
  },
  {
   "cell_type": "markdown",
   "metadata": {},
   "source": [
    "## Let us explore the dataset"
   ]
  },
  {
   "cell_type": "code",
   "execution_count": null,
   "metadata": {
    "collapsed": false
   },
   "outputs": [],
   "source": [
    "%%sql \n",
    "SELECT * FROM [google.com:ddm-connectors-demo:aw_dataset.__TABLES__];"
   ]
  },
  {
   "cell_type": "markdown",
   "metadata": {},
   "source": [
    "## Lest us explore the table KEYWORDS_PERFORMANCE_ANALYTICS"
   ]
  },
  {
   "cell_type": "code",
   "execution_count": null,
   "metadata": {
    "collapsed": false
   },
   "outputs": [],
   "source": [
    "%bigquery schema --table google.com:ddm-connectors-demo:aw_dataset.KEYWORDS_PERFORMANCE_ANALYTICS"
   ]
  },
  {
   "cell_type": "markdown",
   "metadata": {},
   "source": [
    "## Let us see how the data look like"
   ]
  },
  {
   "cell_type": "code",
   "execution_count": null,
   "metadata": {
    "collapsed": false
   },
   "outputs": [],
   "source": [
    "%bigquery sample --table google.com:ddm-connectors-demo:aw_dataset.KEYWORDS_PERFORMANCE_ANALYTICS --count 5"
   ]
  },
  {
   "cell_type": "markdown",
   "metadata": {},
   "source": [
    "# Let us start checking the monthly performance on Volagratis in Italy"
   ]
  },
  {
   "cell_type": "code",
   "execution_count": null,
   "metadata": {
    "collapsed": false
   },
   "outputs": [],
   "source": [
    "%sql --module monthly_keywords_performance\n",
    "SELECT\n",
    "  AccountDescriptiveName,\n",
    "  CampaignName,\n",
    "  AdGroupName,\n",
    "  Criteria,\n",
    "  KeywordMatchType,\n",
    "  COUNT(Month) as MonthsWithImpressions,\n",
    "  AVG(Impressions) as Impressions,\n",
    "  AVG(ImpressionAssistedConversions) as ImpressionAssistedConversions,\n",
    "  AVG(Clicks) as Clicks,\n",
    "  AVG(ClickAssistedConversions) as ClickAssistedConversions,  \n",
    "  AVG(CTR) as CTR,\n",
    "  AVG(QualityScore) as QualityScore, \n",
    "  AVG(CostEUR) as CostEUR,\n",
    "  AVG(AllConversions) as AllConversions,\n",
    "  AVG(Conversions) as Conversions,    \n",
    "  AVG(CostPerAllConversion) as CostPerAllConversion,\n",
    "  AVG(CostPerConversion) as CostPerConversion,  \n",
    "  #Analytics Metrics\n",
    "  AVG(BounceRate) as BounceRate,\n",
    "  AVG(AveragePosition) as AveragePosition,\n",
    "  AVG(AveragePageviews) as AveragePageviews,\n",
    "  AVG(AverageTimeOnSite) as AverageTimeOnSite,\n",
    "  AVG(PercentNewVisitors) as PercentNewVisitors,\n",
    "FROM\n",
    "(\n",
    "SELECT\n",
    "  Month,\n",
    "  AccountDescriptiveName,\n",
    "  CampaignName,\n",
    "  AdGroupName,\n",
    "  Criteria,\n",
    "  KeywordMatchType,\n",
    "  SUM(Impressions) as Impressions,\n",
    "  SUM(ImpressionAssistedConversions) as ImpressionAssistedConversions,\n",
    "  SUM(Clicks) as Clicks,\n",
    "  SUM(Clicks)/SUM(Impressions) as CTR,\n",
    "  SUM(IF(ClickAssistedConversionsOverLastClickConversions = 0, 0,\n",
    "  CASE\n",
    "    WHEN Conversions > 0 OR AllConversions > 0 THEN IF(AllConversions>Conversions,AllConversions,Conversions)*ClickAssistedConversionsOverLastClickConversions\n",
    "    WHEN ImpressionAssistedConversions > 0 THEN ImpressionAssistedConversions*ClickAssistedConversionsOverLastClickConversions\n",
    "    ELSE 1.0\n",
    "  END\n",
    "  )) as ClickAssistedConversions,\n",
    "  \n",
    "  AVG(QualityScore) as QualityScore,\n",
    "  \n",
    "  SUM(IF(AccountCurrencyCode = 'GBP', Cost*1.37, Cost*1.0))/1000000 as CostEUR,\n",
    "  SUM(AllConversions) as AllConversions,\n",
    "  SUM(Conversions) as Conversions,  \n",
    "  \n",
    "  SUM(IF(AccountCurrencyCode = 'GBP', Cost*1.37, Cost*1.0))/1000000/SUM(AllConversions) as CostPerAllConversion,\n",
    "  SUM(IF(AccountCurrencyCode = 'GBP', Cost*1.37, Cost*1.0))/1000000/SUM(Conversions) as CostPerConversion,\n",
    "  \n",
    "  #Analytics Metrics\n",
    "  SUM(FLOAT(RTRIM(BounceRate,'%'))/100.0 * Clicks)/SUM(Clicks) as BounceRate,\n",
    "  SUM(AveragePosition * Impressions)/SUM(Impressions) as AveragePosition,\n",
    "  SUM(AveragePageviews * Clicks)/SUM(Clicks) as AveragePageviews,\n",
    "  SUM(AverageTimeOnSite * Clicks)/SUM(Clicks) as AverageTimeOnSite,\n",
    "  SUM(FLOAT(RTRIM(PercentNewVisitors,'%'))/100.0 * Clicks)/SUM(Clicks) as PercentNewVisitors,\n",
    "\n",
    "FROM\n",
    "  [google.com:ddm-connectors-demo:aw_dataset.KEYWORDS_PERFORMANCE_ANALYTICS]\n",
    "WHERE TRUE\n",
    "AND NOT IsNegative\n",
    "AND AdNetworkType2 = 'Google search'\n",
    "AND Impressions > 0 \n",
    "AND Year = 2016\n",
    "AND AccountDescriptiveName IN ('Account Primario Volagratis','Volagratis Tratte Italia','Volagratis')\n",
    "GROUP BY 1,2,3,4,5,6)\n",
    "GROUP BY 1,2,3,4,5"
   ]
  },
  {
   "cell_type": "code",
   "execution_count": null,
   "metadata": {
    "collapsed": false
   },
   "outputs": [],
   "source": [
    "df = bq.Query(monthly_keywords_performance).to_dataframe()"
   ]
  },
  {
   "cell_type": "markdown",
   "metadata": {},
   "source": [
    "First of all let us identify the Brand Keywords assuming that \n",
    "- they have at least 10 impressions a month\n",
    "- their CTR is higher the \"normal\""
   ]
  },
  {
   "cell_type": "code",
   "execution_count": null,
   "metadata": {
    "collapsed": false
   },
   "outputs": [],
   "source": [
    "df[df['Impressions']>10].hist('CTR',bins=np.arange(101)/100.0,\n",
    "                              normed=True,cumulative=1,histtype='step')"
   ]
  },
  {
   "cell_type": "code",
   "execution_count": null,
   "metadata": {
    "collapsed": false
   },
   "outputs": [],
   "source": [
    "df[(df['AdGroupName'] == 'Brand')&(df['Impressions']>10)].hist('CTR',bins=np.arange(101)/100.0,\n",
    "                                                              cumulative=1,normed=1,\n",
    "                                                               histtype='step')"
   ]
  },
  {
   "cell_type": "code",
   "execution_count": null,
   "metadata": {
    "collapsed": false
   },
   "outputs": [],
   "source": [
    "df[(df['AdGroupName'] == 'Brand')&\n",
    "   (df['CTR']<0.4)&\n",
    "   (df['Impressions']>10)].sort_values(by='CostEUR',ascending=False)[['AccountDescriptiveName',\n",
    "                                                                                        'CampaignName',\n",
    "                                                                                        'AdGroupName',\n",
    "                                                                                        'Criteria',\n",
    "                                                                                        'KeywordMatchType',\n",
    "                                                                                        'CTR',\n",
    "                                                                                        'Impressions',\n",
    "                                                                                        'CostEUR']]"
   ]
  },
  {
   "cell_type": "code",
   "execution_count": null,
   "metadata": {
    "collapsed": false
   },
   "outputs": [],
   "source": [
    "df[(df['Impressions']>10) & (df['CTR']>0.4)].sort_values(by='CostEUR',ascending=False)[['AccountDescriptiveName',\n",
    "                                                                                        'CampaignName',\n",
    "                                                                                        'AdGroupName',\n",
    "                                                                                        'Criteria',\n",
    "                                                                                        'KeywordMatchType',\n",
    "                                                                                        'CTR',\n",
    "                                                                                        'Impressions',\n",
    "                                                                                        'CostEUR']]"
   ]
  },
  {
   "cell_type": "code",
   "execution_count": null,
   "metadata": {
    "collapsed": false
   },
   "outputs": [],
   "source": [
    "df['KeywordType'] = df.apply(lambda x: 'Gold' if \n",
    "                             (x['Impressions']>10 and x['CTR']>0.4) \n",
    "                             else 'Standard', axis=1)\n"
   ]
  },
  {
   "cell_type": "markdown",
   "metadata": {},
   "source": [
    "Let us start assessing the performance of the keywords from the AllConversions"
   ]
  },
  {
   "cell_type": "code",
   "execution_count": null,
   "metadata": {
    "collapsed": false
   },
   "outputs": [],
   "source": [
    "df.groupby(by=(df['AllConversions'] > 0))[['AllConversions','ClickAssistedConversions',\n",
    "                                           'ImpressionAssistedConversions','CostEUR',\n",
    "                                           'Impressions','Clicks',\n",
    "                                           'Criteria']].aggregate({'AllConversions':sum,\n",
    "                                                                   'ClickAssistedConversions':sum,\n",
    "                                                                   'ImpressionAssistedConversions':sum,\n",
    "                                                                   'CostEUR':sum,\n",
    "                                                                   'Impressions':sum,\n",
    "                                                                   'Clicks':sum,\n",
    "                                                                   'Criteria':'count'})"
   ]
  },
  {
   "cell_type": "code",
   "execution_count": null,
   "metadata": {
    "collapsed": false
   },
   "outputs": [],
   "source": [
    "df[df['AllConversions'] > 0].hist('Conversions',bins=100)"
   ]
  },
  {
   "cell_type": "code",
   "execution_count": null,
   "metadata": {
    "collapsed": false
   },
   "outputs": [],
   "source": [
    "axes = df[df['AllConversions'] > 0].hist('AllConversions',bins=np.logspace(0,4),log=True,by='KeywordType')\n",
    "axes[0].set_xscale('log')\n",
    "axes[1].set_xscale('log')"
   ]
  },
  {
   "cell_type": "code",
   "execution_count": null,
   "metadata": {
    "collapsed": false
   },
   "outputs": [],
   "source": [
    "axes = df[df['AllConversions'] > 0].hist('AllConversions',bins=np.logspace(0,4),by='KeywordType',\n",
    "              cumulative=1,normed=True,histtype='step')\n",
    "axes[0].set_xscale('log')\n",
    "axes[1].set_xscale('log')"
   ]
  },
  {
   "cell_type": "code",
   "execution_count": null,
   "metadata": {
    "collapsed": false
   },
   "outputs": [],
   "source": [
    "df[df['AllConversions'] > 0].hist('AllConversions',bins=np.logspace(0,4),\n",
    "              cumulative=1,histtype='step')\n",
    "plt.gca().set_xscale('log')"
   ]
  },
  {
   "cell_type": "code",
   "execution_count": null,
   "metadata": {
    "collapsed": false
   },
   "outputs": [],
   "source": [
    "def setGroup(x):\n",
    "  if x['AllConversions'] > 0:\n",
    "    return 'Converter'\n",
    "  else:\n",
    "    return 'Other'\n",
    "  \n",
    "def setSubGroup(x):\n",
    "  if x['AllConversions'] > 99:\n",
    "    return 'Converter - High'\n",
    "  elif x['AllConversions'] > 9:\n",
    "    return 'Converter - Mid'\n",
    "  elif x['AllConversions'] > 2:\n",
    "    return 'Converter - Low'\n",
    "  elif x['AllConversions'] > 0:\n",
    "    return 'Converter - Occasional'\n",
    "  else:\n",
    "    return 'Other'\n",
    "  \n",
    "df['Group'] = df.apply(setGroup,axis=1)\n",
    "df['SubGroup'] = df.apply(setSubGroup,axis=1)"
   ]
  },
  {
   "cell_type": "code",
   "execution_count": null,
   "metadata": {
    "collapsed": false
   },
   "outputs": [],
   "source": [
    "g = sns.pairplot(data=df[df['Group'] == 'Converter'][[u'SubGroup','CTR',\n",
    "                                                  'CostPerAllConversion',\n",
    "                            u'QualityScore',u'AveragePosition',                          \n",
    "                            u'BounceRate', u'AveragePageviews',\n",
    "                            u'AverageTimeOnSite',u'PercentNewVisitors']],hue=u'SubGroup')"
   ]
  },
  {
   "cell_type": "code",
   "execution_count": null,
   "metadata": {
    "collapsed": false
   },
   "outputs": [],
   "source": [
    "g = sns.pairplot(data=df[df['Group'] == 'Converter'][[u'SubGroup',                         \n",
    "                            u'BounceRate', u'AveragePageviews',\n",
    "                            u'AverageTimeOnSite',u'PercentNewVisitors']],hue=u'SubGroup')"
   ]
  },
  {
   "cell_type": "code",
   "execution_count": null,
   "metadata": {
    "collapsed": false
   },
   "outputs": [],
   "source": [
    "g = sns.pairplot(data=df[df['Group'] == 'Converter'][[u'SubGroup','CTR',\n",
    "                                                  'CostPerAllConversion',\n",
    "                            u'QualityScore',u'AveragePosition',                          \n",
    "                            u'BounceRate',u'PercentNewVisitors']],hue=u'SubGroup')"
   ]
  },
  {
   "cell_type": "markdown",
   "metadata": {},
   "source": [
    "Can we move away from LastClick?"
   ]
  },
  {
   "cell_type": "code",
   "execution_count": null,
   "metadata": {
    "collapsed": false
   },
   "outputs": [],
   "source": [
    "df.groupby(by='SubGroup')[['AllConversions','ClickAssistedConversions',\n",
    "                        'ImpressionAssistedConversions',\n",
    "                        'CostEUR','Impressions','Clicks',\n",
    "                        'Criteria']].aggregate({'AllConversions':sum,\n",
    "                                                'ClickAssistedConversions':sum,\n",
    "                                                'ImpressionAssistedConversions':sum,\n",
    "                                                'CostEUR':sum,\n",
    "                                                'Impressions':sum,\n",
    "                                                'Clicks':sum,\n",
    "                                                'Criteria':'count'})"
   ]
  },
  {
   "cell_type": "code",
   "execution_count": null,
   "metadata": {
    "collapsed": false
   },
   "outputs": [],
   "source": [
    "df[df['Group'] == 'Other'].groupby(by=(df[df['Group'] == 'Other']['ClickAssistedConversions'] +\n",
    "                                       df[df['Group'] == 'Other']['ImpressionAssistedConversions']>0))[\n",
    "  ['ClickAssistedConversions','ImpressionAssistedConversions','CostEUR',\n",
    "   'Impressions','Clicks','Criteria']].aggregate({'ClickAssistedConversions':sum,\n",
    "                                                  'ImpressionAssistedConversions':sum,\n",
    "                                                  'CostEUR':sum,\n",
    "                                                  'Impressions':sum,\n",
    "                                                  'Clicks':sum,\n",
    "                                                  'Criteria':'count'})"
   ]
  },
  {
   "cell_type": "code",
   "execution_count": null,
   "metadata": {
    "collapsed": false
   },
   "outputs": [],
   "source": [
    "df[(df['Group'] == 'Other')&(df['ClickAssistedConversions'] > 0)].hist('ClickAssistedConversions',\n",
    "                                                                       bins=100,\n",
    "                                                                       cumulative=1,\n",
    "                                                                       normed=True,\n",
    "                                                                       histtype='step')"
   ]
  },
  {
   "cell_type": "code",
   "execution_count": null,
   "metadata": {
    "collapsed": false
   },
   "outputs": [],
   "source": [
    "df[(df['Group'] == 'Other')&(df['ImpressionAssistedConversions'] > 0)].hist('ImpressionAssistedConversions',\n",
    "                                                                       bins=100,\n",
    "                                                                       cumulative=1,\n",
    "                                                                       normed=True,\n",
    "                                                                       histtype='step')"
   ]
  },
  {
   "cell_type": "code",
   "execution_count": null,
   "metadata": {
    "collapsed": true
   },
   "outputs": [],
   "source": []
  }
 ],
 "metadata": {
  "kernelspec": {
   "display_name": "Python 2",
   "language": "python",
   "name": "python2"
  },
  "language_info": {
   "codemirror_mode": {
    "name": "ipython",
    "version": 2
   },
   "file_extension": ".py",
   "mimetype": "text/x-python",
   "name": "python",
   "nbconvert_exporter": "python",
   "pygments_lexer": "ipython2",
   "version": "2.7.9"
  }
 },
 "nbformat": 4,
 "nbformat_minor": 0
}
