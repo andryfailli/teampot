{
 "cells": [
  {
   "cell_type": "code",
   "execution_count": 1,
   "metadata": {
    "collapsed": false
   },
   "outputs": [
    {
     "data": {
      "text/html": [
       "\n",
       "    <div class=\"bqtv\" id=\"1_146416713372\"><table><tr><th>project_id</th><th>dataset_id</th><th>table_id</th><th>creation_time</th><th>last_modified_time</th><th>row_count</th><th>size_bytes</th><th>type</th></tr><tr><td>google.com:ddm-connectors-demo</td><td>aw_dataset</td><td>ACCOUNT_PERFORMANCE_DEVICE</td><td>1462865492924</td><td>1462865646222</td><td>344872</td><td>213766803</td><td>1</td></tr><tr><td>google.com:ddm-connectors-demo</td><td>aw_dataset</td><td>ACCOUNT_PERFORMANCE_HOUR_OF_DAY</td><td>1462866241157</td><td>1462868328687</td><td>7585976</td><td>4293195830</td><td>1</td></tr><tr><td>google.com:ddm-connectors-demo</td><td>aw_dataset</td><td>CAMPAIGN_PERFORMANCE_DEVICE</td><td>1462882853869</td><td>1462884926720</td><td>12818403</td><td>11156943261</td><td>1</td></tr><tr><td>google.com:ddm-connectors-demo</td><td>aw_dataset</td><td>CAMPAIGN_PERFORMANCE_GA</td><td>1462886351515</td><td>1462888587490</td><td>12818403</td><td>11092304675</td><td>1</td></tr><tr><td>google.com:ddm-connectors-demo</td><td>aw_dataset</td><td>CAMPAIGN_PERFORMANCE_HOUR_OF_DAY</td><td>1462890199029</td><td>1462910444516</td><td>149020493</td><td>120843835228</td><td>1</td></tr><tr><td>google.com:ddm-connectors-demo</td><td>aw_dataset</td><td>KEYWORDS_PERFORMANCE_ANALYTICS</td><td>1462965362235</td><td>1463059120058</td><td>295426051</td><td>435427263267</td><td>1</td></tr><tr><td>google.com:ddm-connectors-demo</td><td>aw_dataset</td><td>KEYWORDS_PERFORMANCE_DEVICE</td><td>1463050362280</td><td>1463408383328</td><td>447387461</td><td>631380449113</td><td>1</td></tr></table></div>\n",
       "    <br />(rows: 7, time: 3.0s,     0B processed, job: job_AAos9ME6P_P3s0yAnqRLQ3IXs6U)<br />\n",
       "    <script>\n",
       "      require(['extensions/charting', 'element!1_146416713372', 'style!/static/extensions/charting.css'],\n",
       "        function(charts, dom) {\n",
       "          charts.render(dom,\n",
       "            {\n",
       "              chartStyle:\"table\",\n",
       "              dataName:\"0\",\n",
       "              fields:\"project_id,dataset_id,table_id,creation_time,last_modified_time,row_count,size_bytes,type\",\n",
       "              totalRows:7,\n",
       "              rowsPerPage:25,\n",
       "            }, {}, {\"rows\": [{\"c\": [{\"v\": \"google.com:ddm-connectors-demo\"}, {\"v\": \"aw_dataset\"}, {\"v\": \"ACCOUNT_PERFORMANCE_DEVICE\"}, {\"v\": 1462865492924}, {\"v\": 1462865646222}, {\"v\": 344872}, {\"v\": 213766803}, {\"v\": 1}]}, {\"c\": [{\"v\": \"google.com:ddm-connectors-demo\"}, {\"v\": \"aw_dataset\"}, {\"v\": \"ACCOUNT_PERFORMANCE_HOUR_OF_DAY\"}, {\"v\": 1462866241157}, {\"v\": 1462868328687}, {\"v\": 7585976}, {\"v\": 4293195830}, {\"v\": 1}]}, {\"c\": [{\"v\": \"google.com:ddm-connectors-demo\"}, {\"v\": \"aw_dataset\"}, {\"v\": \"CAMPAIGN_PERFORMANCE_DEVICE\"}, {\"v\": 1462882853869}, {\"v\": 1462884926720}, {\"v\": 12818403}, {\"v\": 11156943261}, {\"v\": 1}]}, {\"c\": [{\"v\": \"google.com:ddm-connectors-demo\"}, {\"v\": \"aw_dataset\"}, {\"v\": \"CAMPAIGN_PERFORMANCE_GA\"}, {\"v\": 1462886351515}, {\"v\": 1462888587490}, {\"v\": 12818403}, {\"v\": 11092304675}, {\"v\": 1}]}, {\"c\": [{\"v\": \"google.com:ddm-connectors-demo\"}, {\"v\": \"aw_dataset\"}, {\"v\": \"CAMPAIGN_PERFORMANCE_HOUR_OF_DAY\"}, {\"v\": 1462890199029}, {\"v\": 1462910444516}, {\"v\": 149020493}, {\"v\": 120843835228}, {\"v\": 1}]}, {\"c\": [{\"v\": \"google.com:ddm-connectors-demo\"}, {\"v\": \"aw_dataset\"}, {\"v\": \"KEYWORDS_PERFORMANCE_ANALYTICS\"}, {\"v\": 1462965362235}, {\"v\": 1463059120058}, {\"v\": 295426051}, {\"v\": 435427263267}, {\"v\": 1}]}, {\"c\": [{\"v\": \"google.com:ddm-connectors-demo\"}, {\"v\": \"aw_dataset\"}, {\"v\": \"KEYWORDS_PERFORMANCE_DEVICE\"}, {\"v\": 1463050362280}, {\"v\": 1463408383328}, {\"v\": 447387461}, {\"v\": 631380449113}, {\"v\": 1}]}], \"cols\": [{\"type\": \"string\", \"id\": \"project_id\", \"label\": \"project_id\"}, {\"type\": \"string\", \"id\": \"dataset_id\", \"label\": \"dataset_id\"}, {\"type\": \"string\", \"id\": \"table_id\", \"label\": \"table_id\"}, {\"type\": \"number\", \"id\": \"creation_time\", \"label\": \"creation_time\"}, {\"type\": \"number\", \"id\": \"last_modified_time\", \"label\": \"last_modified_time\"}, {\"type\": \"number\", \"id\": \"row_count\", \"label\": \"row_count\"}, {\"type\": \"number\", \"id\": \"size_bytes\", \"label\": \"size_bytes\"}, {\"type\": \"number\", \"id\": \"type\", \"label\": \"type\"}]});\n",
       "        }\n",
       "      );\n",
       "    </script>\n",
       "  "
      ],
      "text/plain": [
       "QueryResultsTable job_AAos9ME6P_P3s0yAnqRLQ3IXs6U"
      ]
     },
     "execution_count": 1,
     "metadata": {},
     "output_type": "execute_result"
    }
   ],
   "source": [
    "%%sql\n",
    "SELECT * FROM [google.com:ddm-connectors-demo:aw_dataset.__TABLES__];"
   ]
  },
  {
   "cell_type": "code",
   "execution_count": 2,
   "metadata": {
    "collapsed": true
   },
   "outputs": [],
   "source": [
    "import gcp.bigquery as bq\n",
    "import pandas as pd"
   ]
  },
  {
   "cell_type": "code",
   "execution_count": 10,
   "metadata": {
    "collapsed": false
   },
   "outputs": [
    {
     "data": {
      "text/html": [
       "\n",
       "    <div class=\"bqtv\" id=\"3_146416828384\"><table><tr><th>AccountCurrencyCode</th><th>AccountDescriptiveName</th></tr><tr><td>GBP</td><td>Google - Youtube</td></tr><tr><td>GBP</td><td>Hotels - London</td></tr><tr><td>EUR</td><td>lastminute.com HOTEL EUROPA</td></tr><tr><td>EUR</td><td>lastminute.com HOTEL GENERICHE</td></tr><tr><td>EUR</td><td>Google - BRG - IT - DP</td></tr><tr><td>EUR</td><td>LMN Selfcat 1</td></tr><tr><td>GBP</td><td>Hotels – UK 2</td></tr><tr><td>GBP</td><td>Hotel Names – Worldwide</td></tr><tr><td>EUR</td><td>Download app</td></tr><tr><td>EUR</td><td>Volagratis Hotel</td></tr><tr><td>GBP</td><td>Hotel Names 1</td></tr><tr><td>EUR</td><td>SRC_Lastminute_Hotel_Longtail</td></tr><tr><td>GBP</td><td>Days Out</td></tr><tr><td>GBP</td><td>Hotels – Europe 3</td></tr><tr><td>EUR</td><td>BRG - ES - DP</td></tr><tr><td>GBP</td><td>Hotels – UK</td></tr><tr><td>EUR</td><td>BravoFly DE 2009</td></tr><tr><td>EUR</td><td>lastminute+HOLI-lastminute</td></tr><tr><td>EUR</td><td>lastminute.com VOLI</td></tr><tr><td>GBP</td><td>Google - DP 1 - LMN - UK</td></tr><tr><td>EUR</td><td>BravoFly FR 2009</td></tr><tr><td>EUR</td><td>Rumbo Trenes</td></tr><tr><td>EUR</td><td>Volagratis Tratte Italia</td></tr><tr><td>EUR</td><td>Bravofly Spagna</td></tr><tr><td>GBP</td><td>Hotels - Brand</td></tr></table></div>\n",
       "    <br />(rows: 147, time: 1.6s,     8MB processed, job: job_ec8Wh6csYUbXdacFH_bLqCiCKIg)<br />\n",
       "    <script>\n",
       "      require(['extensions/charting', 'element!3_146416828384', 'style!/static/extensions/charting.css'],\n",
       "        function(charts, dom) {\n",
       "          charts.render(dom,\n",
       "            {\n",
       "              chartStyle:\"paged_table\",\n",
       "              dataName:\"2\",\n",
       "              fields:\"AccountCurrencyCode,AccountDescriptiveName\",\n",
       "              totalRows:147,\n",
       "              rowsPerPage:25,\n",
       "            }, {}, {\"rows\": [{\"c\": [{\"v\": \"GBP\"}, {\"v\": \"Google - Youtube\"}]}, {\"c\": [{\"v\": \"GBP\"}, {\"v\": \"Hotels - London\"}]}, {\"c\": [{\"v\": \"EUR\"}, {\"v\": \"lastminute.com HOTEL EUROPA\"}]}, {\"c\": [{\"v\": \"EUR\"}, {\"v\": \"lastminute.com HOTEL GENERICHE\"}]}, {\"c\": [{\"v\": \"EUR\"}, {\"v\": \"Google - BRG - IT - DP\"}]}, {\"c\": [{\"v\": \"EUR\"}, {\"v\": \"LMN Selfcat 1\"}]}, {\"c\": [{\"v\": \"GBP\"}, {\"v\": \"Hotels \\u2013 UK 2\"}]}, {\"c\": [{\"v\": \"GBP\"}, {\"v\": \"Hotel Names \\u2013 Worldwide\"}]}, {\"c\": [{\"v\": \"EUR\"}, {\"v\": \"Download app\"}]}, {\"c\": [{\"v\": \"EUR\"}, {\"v\": \"Volagratis Hotel\"}]}, {\"c\": [{\"v\": \"GBP\"}, {\"v\": \"Hotel Names 1\"}]}, {\"c\": [{\"v\": \"EUR\"}, {\"v\": \"SRC_Lastminute_Hotel_Longtail\"}]}, {\"c\": [{\"v\": \"GBP\"}, {\"v\": \"Days Out\"}]}, {\"c\": [{\"v\": \"GBP\"}, {\"v\": \"Hotels \\u2013 Europe 3\"}]}, {\"c\": [{\"v\": \"EUR\"}, {\"v\": \"BRG - ES - DP\"}]}, {\"c\": [{\"v\": \"GBP\"}, {\"v\": \"Hotels \\u2013 UK\"}]}, {\"c\": [{\"v\": \"EUR\"}, {\"v\": \"BravoFly DE 2009\"}]}, {\"c\": [{\"v\": \"EUR\"}, {\"v\": \"lastminute+HOLI-lastminute\"}]}, {\"c\": [{\"v\": \"EUR\"}, {\"v\": \"lastminute.com VOLI\"}]}, {\"c\": [{\"v\": \"GBP\"}, {\"v\": \"Google - DP 1 - LMN - UK\"}]}, {\"c\": [{\"v\": \"EUR\"}, {\"v\": \"BravoFly FR 2009\"}]}, {\"c\": [{\"v\": \"EUR\"}, {\"v\": \"Rumbo Trenes\"}]}, {\"c\": [{\"v\": \"EUR\"}, {\"v\": \"Volagratis Tratte Italia\"}]}, {\"c\": [{\"v\": \"EUR\"}, {\"v\": \"Bravofly Spagna\"}]}, {\"c\": [{\"v\": \"GBP\"}, {\"v\": \"Hotels - Brand\"}]}], \"cols\": [{\"type\": \"string\", \"id\": \"AccountCurrencyCode\", \"label\": \"AccountCurrencyCode\"}, {\"type\": \"string\", \"id\": \"AccountDescriptiveName\", \"label\": \"AccountDescriptiveName\"}]});\n",
       "        }\n",
       "      );\n",
       "    </script>\n",
       "  "
      ],
      "text/plain": [
       "QueryResultsTable job_ec8Wh6csYUbXdacFH_bLqCiCKIg"
      ]
     },
     "execution_count": 10,
     "metadata": {},
     "output_type": "execute_result"
    }
   ],
   "source": [
    "%%sql\n",
    "SELECT \n",
    "  AccountCurrencyCode,\n",
    "  AccountDescriptiveName,\n",
    "  \n",
    "FROM \n",
    "  [google.com:ddm-connectors-demo:aw_dataset.ACCOUNT_PERFORMANCE_DEVICE]\n",
    "GROUP BY 1,2;"
   ]
  },
  {
   "cell_type": "code",
   "execution_count": 11,
   "metadata": {
    "collapsed": true
   },
   "outputs": [],
   "source": [
    "%%sql --module account_device\n",
    "SELECT\n",
    "  *\n",
    "FROM\n",
    "  [google.com:ddm-connectors-demo:aw_dataset.ACCOUNT_PERFORMANCE_DEVICE]"
   ]
  },
  {
   "cell_type": "code",
   "execution_count": null,
   "metadata": {
    "collapsed": false
   },
   "outputs": [],
   "source": [
    "%%sql\n",
    "SELECT\n",
    "  *\n",
    "FROM\n",
    "  [google.com:ddm-connectors-demo:aw_dataset.ACCOUNT_PERFROMANCE_DEVICE]\n",
    "LIMIT\n",
    "  3"
   ]
  },
  {
   "cell_type": "code",
   "execution_count": null,
   "metadata": {
    "collapsed": false
   },
   "outputs": [],
   "source": [
    "df = bq.Query(account_device).to_dataframe()"
   ]
  },
  {
   "cell_type": "code",
   "execution_count": null,
   "metadata": {
    "collapsed": true
   },
   "outputs": [],
   "source": []
  }
 ],
 "metadata": {
  "kernelspec": {
   "display_name": "Python 2",
   "language": "python",
   "name": "python2"
  },
  "language_info": {
   "codemirror_mode": {
    "name": "ipython",
    "version": 2
   },
   "file_extension": ".py",
   "mimetype": "text/x-python",
   "name": "python",
   "nbconvert_exporter": "python",
   "pygments_lexer": "ipython2",
   "version": "2.7.9"
  }
 },
 "nbformat": 4,
 "nbformat_minor": 0
}
