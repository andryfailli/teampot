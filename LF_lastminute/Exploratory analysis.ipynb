{
 "cells": [
  {
   "cell_type": "code",
   "execution_count": 1,
   "metadata": {
    "collapsed": false
   },
   "outputs": [
    {
     "data": {
      "text/html": [
       "\n",
       "    <div class=\"bqtv\" id=\"1_146416713372\"><table><tr><th>project_id</th><th>dataset_id</th><th>table_id</th><th>creation_time</th><th>last_modified_time</th><th>row_count</th><th>size_bytes</th><th>type</th></tr><tr><td>google.com:ddm-connectors-demo</td><td>aw_dataset</td><td>ACCOUNT_PERFORMANCE_DEVICE</td><td>1462865492924</td><td>1462865646222</td><td>344872</td><td>213766803</td><td>1</td></tr><tr><td>google.com:ddm-connectors-demo</td><td>aw_dataset</td><td>ACCOUNT_PERFORMANCE_HOUR_OF_DAY</td><td>1462866241157</td><td>1462868328687</td><td>7585976</td><td>4293195830</td><td>1</td></tr><tr><td>google.com:ddm-connectors-demo</td><td>aw_dataset</td><td>CAMPAIGN_PERFORMANCE_DEVICE</td><td>1462882853869</td><td>1462884926720</td><td>12818403</td><td>11156943261</td><td>1</td></tr><tr><td>google.com:ddm-connectors-demo</td><td>aw_dataset</td><td>CAMPAIGN_PERFORMANCE_GA</td><td>1462886351515</td><td>1462888587490</td><td>12818403</td><td>11092304675</td><td>1</td></tr><tr><td>google.com:ddm-connectors-demo</td><td>aw_dataset</td><td>CAMPAIGN_PERFORMANCE_HOUR_OF_DAY</td><td>1462890199029</td><td>1462910444516</td><td>149020493</td><td>120843835228</td><td>1</td></tr><tr><td>google.com:ddm-connectors-demo</td><td>aw_dataset</td><td>KEYWORDS_PERFORMANCE_ANALYTICS</td><td>1462965362235</td><td>1463059120058</td><td>295426051</td><td>435427263267</td><td>1</td></tr><tr><td>google.com:ddm-connectors-demo</td><td>aw_dataset</td><td>KEYWORDS_PERFORMANCE_DEVICE</td><td>1463050362280</td><td>1463408383328</td><td>447387461</td><td>631380449113</td><td>1</td></tr></table></div>\n",
       "    <br />(rows: 7, time: 3.0s,     0B processed, job: job_AAos9ME6P_P3s0yAnqRLQ3IXs6U)<br />\n",
       "    <script>\n",
       "      require(['extensions/charting', 'element!1_146416713372', 'style!/static/extensions/charting.css'],\n",
       "        function(charts, dom) {\n",
       "          charts.render(dom,\n",
       "            {\n",
       "              chartStyle:\"table\",\n",
       "              dataName:\"0\",\n",
       "              fields:\"project_id,dataset_id,table_id,creation_time,last_modified_time,row_count,size_bytes,type\",\n",
       "              totalRows:7,\n",
       "              rowsPerPage:25,\n",
       "            }, {}, {\"rows\": [{\"c\": [{\"v\": \"google.com:ddm-connectors-demo\"}, {\"v\": \"aw_dataset\"}, {\"v\": \"ACCOUNT_PERFORMANCE_DEVICE\"}, {\"v\": 1462865492924}, {\"v\": 1462865646222}, {\"v\": 344872}, {\"v\": 213766803}, {\"v\": 1}]}, {\"c\": [{\"v\": \"google.com:ddm-connectors-demo\"}, {\"v\": \"aw_dataset\"}, {\"v\": \"ACCOUNT_PERFORMANCE_HOUR_OF_DAY\"}, {\"v\": 1462866241157}, {\"v\": 1462868328687}, {\"v\": 7585976}, {\"v\": 4293195830}, {\"v\": 1}]}, {\"c\": [{\"v\": \"google.com:ddm-connectors-demo\"}, {\"v\": \"aw_dataset\"}, {\"v\": \"CAMPAIGN_PERFORMANCE_DEVICE\"}, {\"v\": 1462882853869}, {\"v\": 1462884926720}, {\"v\": 12818403}, {\"v\": 11156943261}, {\"v\": 1}]}, {\"c\": [{\"v\": \"google.com:ddm-connectors-demo\"}, {\"v\": \"aw_dataset\"}, {\"v\": \"CAMPAIGN_PERFORMANCE_GA\"}, {\"v\": 1462886351515}, {\"v\": 1462888587490}, {\"v\": 12818403}, {\"v\": 11092304675}, {\"v\": 1}]}, {\"c\": [{\"v\": \"google.com:ddm-connectors-demo\"}, {\"v\": \"aw_dataset\"}, {\"v\": \"CAMPAIGN_PERFORMANCE_HOUR_OF_DAY\"}, {\"v\": 1462890199029}, {\"v\": 1462910444516}, {\"v\": 149020493}, {\"v\": 120843835228}, {\"v\": 1}]}, {\"c\": [{\"v\": \"google.com:ddm-connectors-demo\"}, {\"v\": \"aw_dataset\"}, {\"v\": \"KEYWORDS_PERFORMANCE_ANALYTICS\"}, {\"v\": 1462965362235}, {\"v\": 1463059120058}, {\"v\": 295426051}, {\"v\": 435427263267}, {\"v\": 1}]}, {\"c\": [{\"v\": \"google.com:ddm-connectors-demo\"}, {\"v\": \"aw_dataset\"}, {\"v\": \"KEYWORDS_PERFORMANCE_DEVICE\"}, {\"v\": 1463050362280}, {\"v\": 1463408383328}, {\"v\": 447387461}, {\"v\": 631380449113}, {\"v\": 1}]}], \"cols\": [{\"type\": \"string\", \"id\": \"project_id\", \"label\": \"project_id\"}, {\"type\": \"string\", \"id\": \"dataset_id\", \"label\": \"dataset_id\"}, {\"type\": \"string\", \"id\": \"table_id\", \"label\": \"table_id\"}, {\"type\": \"number\", \"id\": \"creation_time\", \"label\": \"creation_time\"}, {\"type\": \"number\", \"id\": \"last_modified_time\", \"label\": \"last_modified_time\"}, {\"type\": \"number\", \"id\": \"row_count\", \"label\": \"row_count\"}, {\"type\": \"number\", \"id\": \"size_bytes\", \"label\": \"size_bytes\"}, {\"type\": \"number\", \"id\": \"type\", \"label\": \"type\"}]});\n",
       "        }\n",
       "      );\n",
       "    </script>\n",
       "  "
      ],
      "text/plain": [
       "QueryResultsTable job_AAos9ME6P_P3s0yAnqRLQ3IXs6U"
      ]
     },
     "execution_count": 1,
     "metadata": {},
     "output_type": "execute_result"
    }
   ],
   "source": [
    "%%sql\n",
    "SELECT * FROM [google.com:ddm-connectors-demo:aw_dataset.__TABLES__];"
   ]
  },
  {
   "cell_type": "code",
   "execution_count": 2,
   "metadata": {
    "collapsed": true
   },
   "outputs": [],
   "source": [
    "import gcp.bigquery as bq\n",
    "import pandas as pd"
   ]
  },
  {
   "cell_type": "code",
   "execution_count": null,
   "metadata": {
    "collapsed": true
   },
   "outputs": [],
   "source": [
    "%%sql\n",
    "SELECT \n",
    "  AccountCurrencyCode,\n",
    "  AccountDescri\n",
    "FROM \n",
    "  [google.com:ddm-connectors-demo:aw_dataset.ACCOUNT_PERFROMANCE_DEVICE];"
   ]
  },
  {
   "cell_type": "code",
   "execution_count": 3,
   "metadata": {
    "collapsed": true
   },
   "outputs": [],
   "source": [
    "%%sql --module account_device\n",
    "SELECT\n",
    "  *\n",
    "FROM\n",
    "  [google.com:ddm-connectors-demo:aw_dataset.ACCOUNT_PERFROMANCE_DEVICE];"
   ]
  },
  {
   "cell_type": "code",
   "execution_count": 7,
   "metadata": {
    "collapsed": false
   },
   "outputs": [
    {
     "name": "stderr",
     "output_type": "stream",
     "text": [
      "notFound: Not found: Table google.com:ddm-connectors-demo:aw_dataset.ACCOUNT_PERFROMANCE_DEVICE\n"
     ]
    }
   ],
   "source": [
    "%%sql\n",
    "SELECT\n",
    "  *\n",
    "FROM\n",
    "  [google.com:ddm-connectors-demo:aw_dataset.ACCOUNT_PERFROMANCE_DEVICE]\n",
    "LIMIT\n",
    "  3"
   ]
  },
  {
   "cell_type": "code",
   "execution_count": 6,
   "metadata": {
    "collapsed": false
   },
   "outputs": [
    {
     "ename": "Exception",
     "evalue": "notFound: Not found: Table google.com:ddm-connectors-demo:aw_dataset.ACCOUNT_PERFROMANCE_DEVICE",
     "output_type": "error",
     "traceback": [
      "\u001b[1;31m---------------------------------------------------------------------------\u001b[0m",
      "\u001b[1;31mException\u001b[0m                                 Traceback (most recent call last)",
      "\u001b[1;32m<ipython-input-6-5e5a2206fe30>\u001b[0m in \u001b[0;36m<module>\u001b[1;34m()\u001b[0m\n\u001b[1;32m----> 1\u001b[1;33m \u001b[0mdf\u001b[0m \u001b[1;33m=\u001b[0m \u001b[0mbq\u001b[0m\u001b[1;33m.\u001b[0m\u001b[0mQuery\u001b[0m\u001b[1;33m(\u001b[0m\u001b[0maccount_device\u001b[0m\u001b[1;33m)\u001b[0m\u001b[1;33m.\u001b[0m\u001b[0mto_dataframe\u001b[0m\u001b[1;33m(\u001b[0m\u001b[1;33m)\u001b[0m\u001b[1;33m\u001b[0m\u001b[0m\n\u001b[0m",
      "\u001b[1;32m/usr/local/lib/python2.7/dist-packages/gcp/bigquery/_query.pyc\u001b[0m in \u001b[0;36mto_dataframe\u001b[1;34m(self, start_row, max_rows, use_cache)\u001b[0m\n\u001b[0;32m    280\u001b[0m       \u001b[0mA\u001b[0m \u001b[0mPandas\u001b[0m \u001b[0mdataframe\u001b[0m \u001b[0mcontaining\u001b[0m \u001b[0mthe\u001b[0m \u001b[0mtable\u001b[0m \u001b[0mdata\u001b[0m\u001b[1;33m.\u001b[0m\u001b[1;33m\u001b[0m\u001b[0m\n\u001b[0;32m    281\u001b[0m     \"\"\"\n\u001b[1;32m--> 282\u001b[1;33m     \u001b[1;32mreturn\u001b[0m \u001b[0mself\u001b[0m\u001b[1;33m.\u001b[0m\u001b[0mresults\u001b[0m\u001b[1;33m(\u001b[0m\u001b[0muse_cache\u001b[0m\u001b[1;33m=\u001b[0m\u001b[0muse_cache\u001b[0m\u001b[1;33m)\u001b[0m\u001b[0;31m \u001b[0m\u001b[0;31m\\\u001b[0m\u001b[1;33m\u001b[0m\u001b[0m\n\u001b[0m\u001b[0;32m    283\u001b[0m         \u001b[1;33m.\u001b[0m\u001b[0mto_dataframe\u001b[0m\u001b[1;33m(\u001b[0m\u001b[0mstart_row\u001b[0m\u001b[1;33m=\u001b[0m\u001b[0mstart_row\u001b[0m\u001b[1;33m,\u001b[0m \u001b[0mmax_rows\u001b[0m\u001b[1;33m=\u001b[0m\u001b[0mmax_rows\u001b[0m\u001b[1;33m)\u001b[0m\u001b[1;33m\u001b[0m\u001b[0m\n\u001b[0;32m    284\u001b[0m \u001b[1;33m\u001b[0m\u001b[0m\n",
      "\u001b[1;32m/usr/local/lib/python2.7/dist-packages/gcp/bigquery/_query.pyc\u001b[0m in \u001b[0;36mresults\u001b[1;34m(self, use_cache)\u001b[0m\n\u001b[0;32m    213\u001b[0m     \"\"\"\n\u001b[0;32m    214\u001b[0m     \u001b[1;32mif\u001b[0m \u001b[1;32mnot\u001b[0m \u001b[0muse_cache\u001b[0m \u001b[1;32mor\u001b[0m \u001b[1;33m(\u001b[0m\u001b[0mself\u001b[0m\u001b[1;33m.\u001b[0m\u001b[0m_results\u001b[0m \u001b[1;32mis\u001b[0m \u001b[0mNone\u001b[0m\u001b[1;33m)\u001b[0m\u001b[1;33m:\u001b[0m\u001b[1;33m\u001b[0m\u001b[0m\n\u001b[1;32m--> 215\u001b[1;33m       \u001b[0mself\u001b[0m\u001b[1;33m.\u001b[0m\u001b[0mexecute\u001b[0m\u001b[1;33m(\u001b[0m\u001b[0muse_cache\u001b[0m\u001b[1;33m=\u001b[0m\u001b[0muse_cache\u001b[0m\u001b[1;33m)\u001b[0m\u001b[1;33m\u001b[0m\u001b[0m\n\u001b[0m\u001b[0;32m    216\u001b[0m     \u001b[1;32mreturn\u001b[0m \u001b[0mself\u001b[0m\u001b[1;33m.\u001b[0m\u001b[0m_results\u001b[0m\u001b[1;33m.\u001b[0m\u001b[0mresults\u001b[0m\u001b[1;33m\u001b[0m\u001b[0m\n\u001b[0;32m    217\u001b[0m \u001b[1;33m\u001b[0m\u001b[0m\n",
      "\u001b[1;32m/usr/local/lib/python2.7/dist-packages/gcp/bigquery/_query.pyc\u001b[0m in \u001b[0;36mexecute\u001b[1;34m(self, table_name, table_mode, use_cache, priority, allow_large_results)\u001b[0m\n\u001b[0;32m    426\u001b[0m     \"\"\"\n\u001b[0;32m    427\u001b[0m     job = self.execute_async(table_name=table_name, table_mode=table_mode, use_cache=use_cache,\n\u001b[1;32m--> 428\u001b[1;33m                              priority=priority, allow_large_results=allow_large_results)\n\u001b[0m\u001b[0;32m    429\u001b[0m     \u001b[0mself\u001b[0m\u001b[1;33m.\u001b[0m\u001b[0m_results\u001b[0m \u001b[1;33m=\u001b[0m \u001b[0mjob\u001b[0m\u001b[1;33m.\u001b[0m\u001b[0mwait\u001b[0m\u001b[1;33m(\u001b[0m\u001b[1;33m)\u001b[0m\u001b[1;33m\u001b[0m\u001b[0m\n\u001b[0;32m    430\u001b[0m     \u001b[1;32mreturn\u001b[0m \u001b[0mself\u001b[0m\u001b[1;33m.\u001b[0m\u001b[0m_results\u001b[0m\u001b[1;33m\u001b[0m\u001b[0m\n",
      "\u001b[1;32m/usr/local/lib/python2.7/dist-packages/gcp/bigquery/_query.pyc\u001b[0m in \u001b[0;36mexecute_async\u001b[1;34m(self, table_name, table_mode, use_cache, priority, allow_large_results)\u001b[0m\n\u001b[0;32m    401\u001b[0m       \u001b[1;32mexcept\u001b[0m \u001b[0mKeyError\u001b[0m\u001b[1;33m:\u001b[0m\u001b[1;33m\u001b[0m\u001b[0m\n\u001b[0;32m    402\u001b[0m         \u001b[1;31m# The query was in error\u001b[0m\u001b[1;33m\u001b[0m\u001b[1;33m\u001b[0m\u001b[0m\n\u001b[1;32m--> 403\u001b[1;33m         \u001b[1;32mraise\u001b[0m \u001b[0mException\u001b[0m\u001b[1;33m(\u001b[0m\u001b[0m_utils\u001b[0m\u001b[1;33m.\u001b[0m\u001b[0mformat_query_errors\u001b[0m\u001b[1;33m(\u001b[0m\u001b[0mquery_result\u001b[0m\u001b[1;33m[\u001b[0m\u001b[1;34m'status'\u001b[0m\u001b[1;33m]\u001b[0m\u001b[1;33m[\u001b[0m\u001b[1;34m'errors'\u001b[0m\u001b[1;33m]\u001b[0m\u001b[1;33m)\u001b[0m\u001b[1;33m)\u001b[0m\u001b[1;33m\u001b[0m\u001b[0m\n\u001b[0m\u001b[0;32m    404\u001b[0m     \u001b[1;32mreturn\u001b[0m \u001b[0m_query_job\u001b[0m\u001b[1;33m.\u001b[0m\u001b[0mQueryJob\u001b[0m\u001b[1;33m(\u001b[0m\u001b[0mjob_id\u001b[0m\u001b[1;33m,\u001b[0m \u001b[0mtable_name\u001b[0m\u001b[1;33m,\u001b[0m \u001b[0mself\u001b[0m\u001b[1;33m.\u001b[0m\u001b[0m_sql\u001b[0m\u001b[1;33m,\u001b[0m \u001b[0mcontext\u001b[0m\u001b[1;33m=\u001b[0m\u001b[0mself\u001b[0m\u001b[1;33m.\u001b[0m\u001b[0m_context\u001b[0m\u001b[1;33m)\u001b[0m\u001b[1;33m\u001b[0m\u001b[0m\n\u001b[0;32m    405\u001b[0m \u001b[1;33m\u001b[0m\u001b[0m\n",
      "\u001b[1;31mException\u001b[0m: notFound: Not found: Table google.com:ddm-connectors-demo:aw_dataset.ACCOUNT_PERFROMANCE_DEVICE"
     ]
    }
   ],
   "source": [
    "df = bq.Query(account_device).to_dataframe()"
   ]
  },
  {
   "cell_type": "code",
   "execution_count": null,
   "metadata": {
    "collapsed": true
   },
   "outputs": [],
   "source": []
  }
 ],
 "metadata": {
  "kernelspec": {
   "display_name": "Python 2",
   "language": "python",
   "name": "python2"
  },
  "language_info": {
   "codemirror_mode": {
    "name": "ipython",
    "version": 2
   },
   "file_extension": ".py",
   "mimetype": "text/x-python",
   "name": "python",
   "nbconvert_exporter": "python",
   "pygments_lexer": "ipython2",
   "version": "2.7.9"
  }
 },
 "nbformat": 4,
 "nbformat_minor": 0
}
