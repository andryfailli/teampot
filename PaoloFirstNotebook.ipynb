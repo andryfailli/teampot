{
 "cells": [
  {
   "cell_type": "raw",
   "metadata": {},
   "source": []
  },
  {
   "cell_type": "code",
   "execution_count": 4,
   "metadata": {
    "collapsed": false
   },
   "outputs": [
    {
     "name": "stdout",
     "output_type": "stream",
     "text": [
      "Hello World! Welcome to Notebooks!\n"
     ]
    }
   ],
   "source": [
    "def greet():\n",
    "    print 'Hello World! Welcome to Notebooks!'\n",
    "    \n",
    "greet()"
   ]
  },
  {
   "cell_type": "code",
   "execution_count": 5,
   "metadata": {
    "collapsed": false
   },
   "outputs": [
    {
     "name": "stdout",
     "output_type": "stream",
     "text": [
      "total 36\n",
      "drwxr-xr-x 5 root root 4096 May 26 15:36 .\n",
      "drwxr-xr-x 3 root root 4096 May 26 15:30 ..\n",
      "drwxr-xr-x 8 root root 4096 May 26 15:40 .git\n",
      "-rw-r--r-- 1 root root   20 May 26 15:30 .gitignore\n",
      "drwxr-xr-x 2 root root 4096 May 26 15:33 .ipynb_checkpoints\n",
      "-rw-r--r-- 1 root root 1150 May 26 15:33 Hello World.ipynb\n",
      "-rw-r--r-- 1 root root  653 May 26 15:32 Untitled Notebook.ipynb\n",
      "-rw-r--r-- 1 root root  648 May 26 15:36 Untitled Notebook1.ipynb\n",
      "drwxr-xr-x 5 root root 4096 May 26 15:30 datalab\n"
     ]
    }
   ],
   "source": [
    "%%bash\n",
    "ls -al"
   ]
  },
  {
   "cell_type": "code",
   "execution_count": 7,
   "metadata": {
    "collapsed": false
   },
   "outputs": [],
   "source": [
    "import sys\n",
    "number = 10\n",
    "def square(n):\n",
    "  return n * n"
   ]
  },
  {
   "cell_type": "code",
   "execution_count": 9,
   "metadata": {
    "collapsed": false
   },
   "outputs": [
    {
     "name": "stdout",
     "output_type": "stream",
     "text": [
      "10000\n"
     ]
    }
   ],
   "source": [
    "print square(100)"
   ]
  },
  {
   "cell_type": "code",
   "execution_count": null,
   "metadata": {
    "collapsed": true
   },
   "outputs": [],
   "source": []
  }
 ],
 "metadata": {
  "kernelspec": {
   "display_name": "Python 2",
   "language": "python",
   "name": "python2"
  },
  "language_info": {
   "codemirror_mode": {
    "name": "ipython",
    "version": 2
   },
   "file_extension": ".py",
   "mimetype": "text/x-python",
   "name": "python",
   "nbconvert_exporter": "python",
   "pygments_lexer": "ipython2",
   "version": "2.7.9"
  }
 },
 "nbformat": 4,
 "nbformat_minor": 0
}
