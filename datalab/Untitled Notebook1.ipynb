{
 "cells": [
  {
   "cell_type": "code",
   "execution_count": 1,
   "metadata": {
    "collapsed": true
   },
   "outputs": [],
   "source": [
    "#import python libraries\n",
    "import gcp.bigquery as bq\n",
    "import pandas as pd\n",
    "import numpy as np"
   ]
  },
  {
   "cell_type": "code",
   "execution_count": 2,
   "metadata": {
    "collapsed": false
   },
   "outputs": [
    {
     "data": {
      "text/html": [
       "\n",
       "    <div class=\"bqsv\" id=\"1_146693292439\"></div>\n",
       "    <script>\n",
       "      require(['extensions/bigquery', 'element!1_146693292439', 'style!/static/extensions/bigquery.css'],\n",
       "        function(bq, dom) {\n",
       "          bq.renderSchema(dom, [{\"type\": \"TIMESTAMP\", \"name\": \"pickup_datetime\", \"mode\": \"NULLABLE\"}, {\"type\": \"TIMESTAMP\", \"name\": \"dropoff_datetime\", \"mode\": \"NULLABLE\"}, {\"type\": \"STRING\", \"name\": \"store_and_fwd_flag\", \"mode\": \"NULLABLE\"}, {\"type\": \"INTEGER\", \"name\": \"rate_code\", \"mode\": \"NULLABLE\"}, {\"type\": \"FLOAT\", \"name\": \"pickup_longitude\", \"mode\": \"NULLABLE\"}, {\"type\": \"FLOAT\", \"name\": \"pickup_latitude\", \"mode\": \"NULLABLE\"}, {\"type\": \"FLOAT\", \"name\": \"dropoff_longitude\", \"mode\": \"NULLABLE\"}, {\"type\": \"FLOAT\", \"name\": \"dropoff_latitude\", \"mode\": \"NULLABLE\"}, {\"type\": \"INTEGER\", \"name\": \"passenger_count\", \"mode\": \"NULLABLE\"}, {\"type\": \"FLOAT\", \"name\": \"trip_distance\", \"mode\": \"NULLABLE\"}, {\"type\": \"FLOAT\", \"name\": \"fare_amount\", \"mode\": \"NULLABLE\"}, {\"type\": \"FLOAT\", \"name\": \"extra\", \"mode\": \"NULLABLE\"}, {\"type\": \"FLOAT\", \"name\": \"mta_tax\", \"mode\": \"NULLABLE\"}, {\"type\": \"FLOAT\", \"name\": \"tip_amount\", \"mode\": \"NULLABLE\"}, {\"type\": \"FLOAT\", \"name\": \"tolls_amount\", \"mode\": \"NULLABLE\"}, {\"type\": \"FLOAT\", \"name\": \"ehail_fee\", \"mode\": \"NULLABLE\"}, {\"type\": \"FLOAT\", \"name\": \"total_amount\", \"mode\": \"NULLABLE\"}, {\"type\": \"INTEGER\", \"name\": \"payment_type\", \"mode\": \"NULLABLE\"}, {\"type\": \"FLOAT\", \"name\": \"distance_between_service\", \"mode\": \"NULLABLE\"}, {\"type\": \"INTEGER\", \"name\": \"time_between_service\", \"mode\": \"NULLABLE\"}, {\"type\": \"INTEGER\", \"name\": \"trip_type\", \"mode\": \"NULLABLE\"}]);\n",
       "        }\n",
       "      );\n",
       "    </script>\n",
       "    "
      ],
      "text/plain": [
       "<IPython.core.display.HTML object>"
      ]
     },
     "execution_count": 2,
     "metadata": {},
     "output_type": "execute_result"
    }
   ],
   "source": [
    "%%bigquery schema --table \"nyc-tlc:green.trips_2015\""
   ]
  },
  {
   "cell_type": "code",
   "execution_count": 3,
   "metadata": {
    "collapsed": true
   },
   "outputs": [],
   "source": [
    "%%sql --module taxiquery\n",
    "#declare the query that retrieves how many taxi rides there were every day\n",
    "SELECT daynumber, COUNT(*) AS numtrips FROM\n",
    "    (SELECT DAYOFYEAR(pickup_datetime) AS daynumber FROM [nyc-tlc:green.trips_$YEAR])\n",
    "GROUP BY daynumber ORDER BY daynumber"
   ]
  },
  {
   "cell_type": "code",
   "execution_count": 4,
   "metadata": {
    "collapsed": true
   },
   "outputs": [],
   "source": [
    "#run the query\n",
    "trips = bq.Query(taxiquery, YEAR=2015).to_dataframe()"
   ]
  },
  {
   "cell_type": "code",
   "execution_count": 5,
   "metadata": {
    "collapsed": true
   },
   "outputs": [],
   "source": [
    "%%sql --module wxquery\n",
    "#access weather database, on New York station\n",
    "SELECT DAYOFYEAR(TIMESTAMP('$YEAR'+mo+da)) daynumber,\n",
    "       FIRST(DAYOFWEEK(TIMESTAMP('$YEAR'+mo+da))) dayofweek,\n",
    "       MIN(min) mintemp, MAX(max) maxtemp, MAX(IF(prcp=99.99,0,prcp)) rain\n",
    "FROM [fh-bigquery:weather_gsod.gsod$YEAR]\n",
    "WHERE stn='725030' GROUP BY 1 ORDER BY daynumber DESC"
   ]
  },
  {
   "cell_type": "code",
   "execution_count": 6,
   "metadata": {
    "collapsed": true
   },
   "outputs": [],
   "source": [
    "#run the query\n",
    "weather = bq.Query(wxquery, YEAR=2015).to_dataframe()"
   ]
  },
  {
   "cell_type": "code",
   "execution_count": 7,
   "metadata": {
    "collapsed": true
   },
   "outputs": [],
   "source": [
    "#merge taxi rides with weather information\n",
    "data = pd.merge(weather, trips, on='daynumber')"
   ]
  },
  {
   "cell_type": "code",
   "execution_count": 8,
   "metadata": {
    "collapsed": false
   },
   "outputs": [
    {
     "ename": "NameError",
     "evalue": "name 'data2' is not defined",
     "output_type": "error",
     "traceback": [
      "\u001b[1;31m---------------------------------------------------------------------------\u001b[0m",
      "\u001b[1;31mNameError\u001b[0m                                 Traceback (most recent call last)",
      "\u001b[1;32m<ipython-input-8-da3edc1e0c68>\u001b[0m in \u001b[0;36m<module>\u001b[1;34m()\u001b[0m\n\u001b[0;32m      1\u001b[0m \u001b[1;31m#invoke TensorFlow and train the neural network\u001b[0m\u001b[1;33m\u001b[0m\u001b[1;33m\u001b[0m\u001b[0m\n\u001b[0;32m      2\u001b[0m \u001b[1;32mimport\u001b[0m \u001b[0mtensorflow\u001b[0m \u001b[1;32mas\u001b[0m \u001b[0mtf\u001b[0m\u001b[1;33m\u001b[0m\u001b[0m\n\u001b[1;32m----> 3\u001b[1;33m \u001b[0mshuffled\u001b[0m \u001b[1;33m=\u001b[0m \u001b[0mdata2\u001b[0m\u001b[1;33m.\u001b[0m\u001b[0msample\u001b[0m\u001b[1;33m(\u001b[0m\u001b[0mfrac\u001b[0m\u001b[1;33m=\u001b[0m\u001b[1;36m1\u001b[0m\u001b[1;33m)\u001b[0m\u001b[1;33m\u001b[0m\u001b[0m\n\u001b[0m\u001b[0;32m      4\u001b[0m \u001b[0mpredictors\u001b[0m \u001b[1;33m=\u001b[0m \u001b[0mshuffled\u001b[0m\u001b[1;33m.\u001b[0m\u001b[0miloc\u001b[0m\u001b[1;33m[\u001b[0m\u001b[1;33m:\u001b[0m\u001b[1;33m,\u001b[0m\u001b[1;36m1\u001b[0m\u001b[1;33m:\u001b[0m\u001b[1;36m5\u001b[0m\u001b[1;33m]\u001b[0m\u001b[1;33m\u001b[0m\u001b[0m\n\u001b[0;32m      5\u001b[0m \u001b[0mtargets\u001b[0m \u001b[1;33m=\u001b[0m \u001b[0mshuffled\u001b[0m\u001b[1;33m.\u001b[0m\u001b[0miloc\u001b[0m\u001b[1;33m[\u001b[0m\u001b[1;33m:\u001b[0m\u001b[1;33m,\u001b[0m\u001b[1;36m5\u001b[0m\u001b[1;33m]\u001b[0m\u001b[1;33m\u001b[0m\u001b[0m\n",
      "\u001b[1;31mNameError\u001b[0m: name 'data2' is not defined"
     ]
    }
   ],
   "source": [
    "#invoke TensorFlow and train the neural network\n",
    "import tensorflow as tf\n",
    "shuffled = data2.sample(frac=1)\n",
    "predictors = shuffled.iloc[:,1:5]\n",
    "targets = shuffled.iloc[:,5]\n",
    "\n",
    "SCALE_NUM_TRIPS = 100000\n",
    "trainsize = int(len(shuffled['numtrips']) * 0.8)\n",
    "testsize = len(shuffled['numtrips']) - trainsize\n",
    "npredictors = len(predictors.columns)\n",
    "noutputs = 1\n",
    "nhidden = 5\n",
    "numiter = 10000\n",
    "modelfile = '/tmp/trained_model'\n",
    "with tf.Session() as sess:\n",
    "  feature_data = tf.placeholder(\"float\", [None, npredictors])\n",
    "  target_data = tf.placeholder(\"float\", [None, noutputs])\n",
    "  weights1 = tf.Variable(tf.truncated_normal([npredictors, nhidden], stddev=0.01))\n",
    "  weights2 = tf.Variable(tf.truncated_normal([nhidden, noutputs], stddev=0.01))\n",
    "  biases1 = tf.Variable(tf.ones([nhidden]))\n",
    "  biases2 = tf.Variable(tf.ones([noutputs]))\n",
    "  model = (tf.matmul(tf.nn.relu(tf.matmul(feature_data, weights1) + biases1), weights2) + biases2) * SCALE_NUM_TRIPS\n",
    "  cost = tf.nn.l2_loss(model - target_data)\n",
    "  training_step = tf.train.AdamOptimizer(learning_rate=0.0001).minimize(cost)\n",
    "  init = tf.initialize_all_variables()\n",
    "  sess.run(init)\n",
    "\n",
    "  saver = tf.train.Saver({'weights1' : weights1, 'biases1' : biases1, 'weights2' : weights2, 'biases2' : biases2})\n",
    "  for iter in xrange(0, numiter):\n",
    "    sess.run(training_step, feed_dict = {\n",
    "        feature_data : predictors[:trainsize].values,\n",
    "        target_data : targets[:trainsize].values.reshape(trainsize, noutputs)\n",
    "      })\n",
    "    \n",
    "    if iter%1000 == 0:\n",
    "      print '{0} error={1}'.format(iter, np.sqrt(cost.eval(feed_dict = {\n",
    "          feature_data : predictors[:trainsize].values,\n",
    "          target_data : targets[:trainsize].values.reshape(trainsize, noutputs)\n",
    "      }) / trainsize))\n",
    "    \n",
    "  filename = saver.save(sess, modelfile, global_step=numiter)\n",
    "  print 'Model written to {0}'.format(filename)\n",
    "\n",
    "  print 'testerror={0}'.format(np.sqrt(cost.eval(feed_dict = {\n",
    "          feature_data : predictors[trainsize:].values,\n",
    "          target_data : targets[trainsize:].values.reshape(testsize, noutputs)\n",
    "      }) / testsize))"
   ]
  },
  {
   "cell_type": "code",
   "execution_count": 9,
   "metadata": {
    "collapsed": false
   },
   "outputs": [
    {
     "name": "stdout",
     "output_type": "stream",
     "text": [
      "0 error=29917.7772199\n",
      "1000 error=7780.06569524\n",
      "2000 error=6399.61637739\n",
      "3000 error=5774.9823665\n",
      "4000 error=5659.73285589\n",
      "5000 error=5648.51461301\n",
      "6000 error=5648.25621075\n",
      "7000 error=5648.25621075\n",
      "8000 error=5648.25558125\n",
      "9000 error=5648.25684024\n",
      "Model written to /tmp/trained_model-10000\n",
      "testerror=7028.72463153\n"
     ]
    }
   ],
   "source": [
    "#invoke TensorFlow and train the neural network\n",
    "import tensorflow as tf\n",
    "shuffled = data.sample(frac=1)\n",
    "predictors = shuffled.iloc[:,1:5]\n",
    "targets = shuffled.iloc[:,5]\n",
    "\n",
    "SCALE_NUM_TRIPS = 100000\n",
    "trainsize = int(len(shuffled['numtrips']) * 0.8)\n",
    "testsize = len(shuffled['numtrips']) - trainsize\n",
    "npredictors = len(predictors.columns)\n",
    "noutputs = 1\n",
    "nhidden = 5\n",
    "numiter = 10000\n",
    "modelfile = '/tmp/trained_model'\n",
    "with tf.Session() as sess:\n",
    "  feature_data = tf.placeholder(\"float\", [None, npredictors])\n",
    "  target_data = tf.placeholder(\"float\", [None, noutputs])\n",
    "  weights1 = tf.Variable(tf.truncated_normal([npredictors, nhidden], stddev=0.01))\n",
    "  weights2 = tf.Variable(tf.truncated_normal([nhidden, noutputs], stddev=0.01))\n",
    "  biases1 = tf.Variable(tf.ones([nhidden]))\n",
    "  biases2 = tf.Variable(tf.ones([noutputs]))\n",
    "  model = (tf.matmul(tf.nn.relu(tf.matmul(feature_data, weights1) + biases1), weights2) + biases2) * SCALE_NUM_TRIPS\n",
    "  cost = tf.nn.l2_loss(model - target_data)\n",
    "  training_step = tf.train.AdamOptimizer(learning_rate=0.0001).minimize(cost)\n",
    "  init = tf.initialize_all_variables()\n",
    "  sess.run(init)\n",
    "\n",
    "  saver = tf.train.Saver({'weights1' : weights1, 'biases1' : biases1, 'weights2' : weights2, 'biases2' : biases2})\n",
    "  for iter in xrange(0, numiter):\n",
    "    sess.run(training_step, feed_dict = {\n",
    "        feature_data : predictors[:trainsize].values,\n",
    "        target_data : targets[:trainsize].values.reshape(trainsize, noutputs)\n",
    "      })\n",
    "    \n",
    "    if iter%1000 == 0:\n",
    "      print '{0} error={1}'.format(iter, np.sqrt(cost.eval(feed_dict = {\n",
    "          feature_data : predictors[:trainsize].values,\n",
    "          target_data : targets[:trainsize].values.reshape(trainsize, noutputs)\n",
    "      }) / trainsize))\n",
    "    \n",
    "  filename = saver.save(sess, modelfile, global_step=numiter)\n",
    "  print 'Model written to {0}'.format(filename)\n",
    "\n",
    "  print 'testerror={0}'.format(np.sqrt(cost.eval(feed_dict = {\n",
    "          feature_data : predictors[trainsize:].values,\n",
    "          target_data : targets[trainsize:].values.reshape(testsize, noutputs)\n",
    "      }) / testsize))"
   ]
  },
  {
   "cell_type": "code",
   "execution_count": null,
   "metadata": {
    "collapsed": true
   },
   "outputs": [],
   "source": []
  }
 ],
 "metadata": {
  "kernelspec": {
   "display_name": "Python 2",
   "language": "python",
   "name": "python2"
  },
  "language_info": {
   "codemirror_mode": {
    "name": "ipython",
    "version": 2
   },
   "file_extension": ".py",
   "mimetype": "text/x-python",
   "name": "python",
   "nbconvert_exporter": "python",
   "pygments_lexer": "ipython2",
   "version": "2.7.9"
  }
 },
 "nbformat": 4,
 "nbformat_minor": 0
}
