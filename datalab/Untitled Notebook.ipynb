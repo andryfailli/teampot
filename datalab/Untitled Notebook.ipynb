{
 "cells": [
  {
   "cell_type": "code",
   "execution_count": 5,
   "metadata": {
    "collapsed": false
   },
   "outputs": [],
   "source": [
    "import gcp"
   ]
  },
  {
   "cell_type": "code",
   "execution_count": 6,
   "metadata": {
    "collapsed": true
   },
   "outputs": [],
   "source": [
    "context = gcp.Context.default()"
   ]
  },
  {
   "cell_type": "code",
   "execution_count": 7,
   "metadata": {
    "collapsed": false
   },
   "outputs": [
    {
     "name": "stdout",
     "output_type": "stream",
     "text": [
      "The current project is complete-galaxy-645\n"
     ]
    }
   ],
   "source": [
    "print 'The current project is %s' % context.project_id"
   ]
  },
  {
   "cell_type": "code",
   "execution_count": 8,
   "metadata": {
    "collapsed": false
   },
   "outputs": [
    {
     "data": {
      "text/plain": [
       "AccessTokenInfo(access_token=u'ya29.CkLoAmMUyFSONlvW1U9ma_CqNd_zMUqtSP5PsTJCJNQ2cDPK3dopCGjtJIb8PVv_O3wovO2J9QOdujvGjAaZY-v8Qyk', expires_in=None)"
      ]
     },
     "execution_count": 8,
     "metadata": {},
     "output_type": "execute_result"
    }
   ],
   "source": [
    "context.credentials.get_access_token()"
   ]
  },
  {
   "cell_type": "code",
   "execution_count": 9,
   "metadata": {
    "collapsed": false
   },
   "outputs": [
    {
     "name": "stdout",
     "output_type": "stream",
     "text": [
      "complete-galaxy-645@appspot.gserviceaccount.com"
     ]
    }
   ],
   "source": [
    "%%bash\n",
    "curl --silent -H \"Metadata-Flavor: Google\" \\\n",
    "  http://metadata/computeMetadata/v1/instance/service-accounts/default/email"
   ]
  },
  {
   "cell_type": "code",
   "execution_count": 10,
   "metadata": {
    "collapsed": false
   },
   "outputs": [
    {
     "data": {
      "text/html": [
       "\n",
       "    <div class=\"bqtv\" id=\"1_146375654113\"><table><tr><th>title</th><th>revisions</th></tr><tr><td>George W. Bush</td><td>43652</td></tr><tr><td>List of World Wrestling Entertainment employees</td><td>30572</td></tr><tr><td>Wikipedia</td><td>29726</td></tr><tr><td>United States</td><td>27432</td></tr><tr><td>Michael Jackson</td><td>23245</td></tr><tr><td>Jesus</td><td>21768</td></tr><tr><td>Deaths in 2009</td><td>20814</td></tr><tr><td>World War II</td><td>20546</td></tr><tr><td>Britney Spears</td><td>20529</td></tr><tr><td>Wii</td><td>20225</td></tr></table></div>\n",
       "    <br />(rows: 10, time: 6.6s,     9GB processed, job: job_rD_vqx9D3jwVKp9e0geeFO-EWQo)<br />\n",
       "    <script>\n",
       "      require(['extensions/charting', 'element!1_146375654113', 'style!/static/extensions/charting.css'],\n",
       "        function(charts, dom) {\n",
       "          charts.render(dom,\n",
       "            {\n",
       "              chartStyle:\"table\",\n",
       "              dataName:\"0\",\n",
       "              fields:\"title,revisions\",\n",
       "              totalRows:10,\n",
       "              rowsPerPage:25,\n",
       "            }, {}, {\"rows\": [{\"c\": [{\"v\": \"George W. Bush\"}, {\"v\": 43652}]}, {\"c\": [{\"v\": \"List of World Wrestling Entertainment employees\"}, {\"v\": 30572}]}, {\"c\": [{\"v\": \"Wikipedia\"}, {\"v\": 29726}]}, {\"c\": [{\"v\": \"United States\"}, {\"v\": 27432}]}, {\"c\": [{\"v\": \"Michael Jackson\"}, {\"v\": 23245}]}, {\"c\": [{\"v\": \"Jesus\"}, {\"v\": 21768}]}, {\"c\": [{\"v\": \"Deaths in 2009\"}, {\"v\": 20814}]}, {\"c\": [{\"v\": \"World War II\"}, {\"v\": 20546}]}, {\"c\": [{\"v\": \"Britney Spears\"}, {\"v\": 20529}]}, {\"c\": [{\"v\": \"Wii\"}, {\"v\": 20225}]}], \"cols\": [{\"type\": \"string\", \"id\": \"title\", \"label\": \"title\"}, {\"type\": \"number\", \"id\": \"revisions\", \"label\": \"revisions\"}]});\n",
       "        }\n",
       "      );\n",
       "    </script>\n",
       "  "
      ],
      "text/plain": [
       "QueryResultsTable job_rD_vqx9D3jwVKp9e0geeFO-EWQo"
      ]
     },
     "execution_count": 10,
     "metadata": {},
     "output_type": "execute_result"
    }
   ],
   "source": [
    "%%sql\n",
    "SELECT TOP(title, 10) as title, COUNT(*) as revisions\n",
    "FROM [publicdata:samples.wikipedia]\n",
    "WHERE wp_namespace = 0"
   ]
  },
  {
   "cell_type": "code",
   "execution_count": null,
   "metadata": {
    "collapsed": true
   },
   "outputs": [],
   "source": []
  }
 ],
 "metadata": {
  "kernelspec": {
   "display_name": "Python 2",
   "language": "python",
   "name": "python2"
  },
  "language_info": {
   "codemirror_mode": {
    "name": "ipython",
    "version": 2
   },
   "file_extension": ".py",
   "mimetype": "text/x-python",
   "name": "python",
   "nbconvert_exporter": "python",
   "pygments_lexer": "ipython2",
   "version": "2.7.9"
  }
 },
 "nbformat": 4,
 "nbformat_minor": 0
}
